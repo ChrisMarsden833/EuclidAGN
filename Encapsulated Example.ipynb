{
 "cells": [
  {
   "cell_type": "markdown",
   "metadata": {},
   "source": [
    "# AGN Catalog Toolbox (ACT) Encapsulated Testing"
   ]
  },
  {
   "cell_type": "markdown",
   "metadata": {},
   "source": [
    "This is an example notebook showing the AGN Catalog Toolbox Testing code (written by Chris) in action."
   ]
  },
  {
   "cell_type": "code",
   "execution_count": 1,
   "metadata": {},
   "outputs": [],
   "source": [
    "import ACTTestingEncapsulation as actt\n",
    "import ACTLiterature as actl \n",
    "\n",
    "import numpy as np\n",
    "from matplotlib import pyplot as plt\n",
    "import os\n",
    "\n",
    "from scipy import interpolate\n",
    "\n",
    "# Set the redshift of interest here.\n",
    "redshift = 1.25"
   ]
  },
  {
   "cell_type": "markdown",
   "metadata": {},
   "source": [
    "The variables we wish to test are listed in arrays for easy repeated access."
   ]
  },
  {
   "cell_type": "code",
   "execution_count": 2,
   "metadata": {},
   "outputs": [],
   "source": [
    "# Variations\n",
    "variations = [7]\n",
    "variable_name = r\"$lambda$\"\n",
    "iterations = len(variations)\n",
    "\n"
   ]
  },
  {
   "cell_type": "markdown",
   "metadata": {},
   "source": [
    "Next we create the class, and we call the approprate member functions to read in the data, assign the variables we want and then return the plotting data. Much of the best behaviour is encapsulated by the default arguments, so some parameters do not need to be called. Running this section can take some time."
   ]
  },
  {
   "cell_type": "markdown",
   "metadata": {},
   "source": [
    "Note that calling the member function to load in the multidark data expects a file in a subfolder '/BigData/' that is named 'MD_<redshift>.npy, in with the columns x, y, z, scale at accretion, mass at accretion, and mvir."
   ]
  },
  {
   "cell_type": "code",
   "execution_count": 3,
   "metadata": {
    "scrolled": true
   },
   "outputs": [
    {
     "name": "stdout",
     "output_type": "stream",
     "text": [
      "Loading Dark Matter Catalog\n",
      "Loading Halo Catalogue\n",
      "Warning - we have requested redshift 1.25 - Selecting file MD_1.48.npy as it is closest\n",
      "Found file: MD_1.48.npy\n",
      "dtypes found:  [('x', '<f4'), ('y', '<f4'), ('z', '<f4'), ('id', '<i8'), ('upid', '<i8'), ('mvir', '<f4'), ('Acc_Scale', '<f4'), ('Macc', '<f4')]\n",
      "    Sorting list w.r.t. upId\n",
      "    copying all 125692187 elements with up_id = -1\n",
      "    sorting remaining list list w.r.t. main id\n",
      "    copying remaining 15907612 elements\n",
      "Assigning Stellar Mass\n",
      "Scatter is a thing, valued at 0.001\n",
      "Assigning Black Hole Mass\n"
     ]
    }
   ],
   "source": [
    "# Create the master class.\n",
    "obj = actt.AGNCatalog()\n",
    "obj.set_z(redshift)\n",
    "\n",
    "# Load in the MultiDark Haloes.\n",
    "obj.load_dm_catalog(path_big_data=\"/data/cm1n17/MultiDark/npyData/\")\n",
    "obj.assign_stellar_mass()\n",
    "obj.assign_black_hole_mass()"
   ]
  },
  {
   "cell_type": "markdown",
   "metadata": {},
   "source": [
    "### Example of catalog cut - reduce volume"
   ]
  },
  {
   "cell_type": "code",
   "execution_count": 4,
   "metadata": {},
   "outputs": [],
   "source": [
    "\n",
    "limit = 600 # Mpc/h\n",
    "flag = (obj.main_catalog['x'] < limit) * (obj.main_catalog['y'] < limit) * (obj.main_catalog['z'] < limit)\n",
    "\n",
    "obj.main_catalog = obj.main_catalog[flag]\n",
    "obj.volume = (limit/obj.h)**3\n",
    "\n"
   ]
  },
  {
   "cell_type": "code",
   "execution_count": 5,
   "metadata": {
    "scrolled": false
   },
   "outputs": [
    {
     "name": "stdout",
     "output_type": "stream",
     "text": [
      "Assigning Duty Cycle, using Schulze's method\n",
      "GetCorrectFile: Schulze_1.2.csv\n",
      "Found Schulze file: ./Data/DutyCycles/Schulze_1.2.csv\n",
      "[0.03609323 0.19279104 0.19279104 ... 0.19279104 0.19279104 0.19279104]\n",
      "Assigning Luminosity\n"
     ]
    }
   ],
   "source": [
    "# Loop to support variations in parameters\n",
    "for i in range(iterations):\n",
    "    obj.assign_duty_cycle(\"Schulze\")\n",
    "    \n",
    "    obj.assign_luminosity(parameter1=-0.9, parameter2=2.5) # Lambda Shape? # alpha Normalization\n",
    "    #obj.assign_obscuration()\n",
    "    \n",
    "    #obj.get_wp()\n",
    "    # We then compute the bias\n",
    "    #obj.get_bias()\n",
    "    #obj.get_hod(centrals=False, Obscuration=\"Obscured\")\n",
    "    #obj.get_hod(centrals=False, Obscuration=\"Unobscured\")"
   ]
  },
  {
   "cell_type": "markdown",
   "metadata": {},
   "source": [
    "### XLF"
   ]
  },
  {
   "cell_type": "code",
   "execution_count": 6,
   "metadata": {},
   "outputs": [
    {
     "name": "stdout",
     "output_type": "stream",
     "text": [
      "Warning - we have requested redshift 1.25 - Selecting file Miyaji2015_z1.txt as it is closest\n",
      "RMS: 1.3970514213795528 $lambda$ = 7\n"
     ]
    },
    {
     "data": {
      "image/png": "[encoded data removed]",
      "text/plain": [
       "<Figure size 432x288 with 1 Axes>"
      ]
     },
     "metadata": {
      "needs_background": "light"
     },
     "output_type": "display_data"
    }
   ],
   "source": [
    "# Plot of the XLF \n",
    "\n",
    "plt.figure()#figsize=(16, 10), dpi= 80)\n",
    "\n",
    "\n",
    "XLF = actl.XLFData(redshift)\n",
    "\n",
    "mXLF_data = XLF.get_miyaji2015()\n",
    "plt.plot(mXLF_data.x, mXLF_data.y, 'o', label = \"Miyaji\")\n",
    "\n",
    "# XLF Data\n",
    "uXLF_data = XLF.get_ueda14(np.arange(42, 46, 0.1))\n",
    "plt.plot(uXLF_data.x, uXLF_data.y, ':', label = \"Ueda\")\n",
    "\n",
    "#i = 5\n",
    "\n",
    "for i in range(iterations):\n",
    "    label = r\"{} = {}\".format(variable_name, variations[i])\n",
    "    #label = \"Mock Catalog\"\n",
    "    plt.plot(10**obj.XLF_plottingData[i].x, 10**obj.XLF_plottingData[i].y, label = label)\n",
    "\n",
    "    #RMS comparison to Udea\n",
    "    xto_data = interpolate.interp1d(obj.XLF_plottingData[i].x, obj.XLF_plottingData[i].y, bounds_error=False, fill_value=((obj.XLF_plottingData[i].y)[0], (obj.XLF_plottingData[i].y)[-1]))\n",
    "    xto_comparison = interpolate.interp1d(np.log10(uXLF_data.x), np.log10(uXLF_data.y), bounds_error=False, fill_value=( ( np.log10(uXLF_data.y[0]), np.log10(uXLF_data.y[-1]) ) ) ) \n",
    "    \n",
    "    x_range = np.linspace(42, 44.5)\n",
    "                                           \n",
    "    rms = np.sqrt( np.sum( ( (xto_data(x_range) - xto_comparison(x_range) )**2 ) ) )  \n",
    "    print(\"RMS:\", rms,  r\"{} = {}\".format(variable_name, variations[i]) )\n",
    "\n",
    "\n",
    "\n",
    "# Plotting\n",
    "plt.xlabel(r'$L_x\\;[erg\\;s^{-1}]$',fontsize = 14)\n",
    "plt.ylabel(r'$d\\phi /d(log\\;L_x)\\;[Mpc^{-3}]$', fontsize = 14)\n",
    "plt.title(r'XLF, z={}'.format(redshift), fontsize = 14)\n",
    "plt.xlim((1e42, 4e45))\n",
    "plt.loglog()\n",
    "plt.tick_params(which='major', right=True, top=True, direction='in', length=4, width=1.5, labelsize = 12)\n",
    "plt.tick_params(which='minor', right=True, top=True, direction='in', length=2, width=1.5)\n",
    "plt.minorticks_on()\n",
    "plt.legend(frameon=False, fontsize = 12)\n",
    "plt.savefig(\"./Plots/XLF_Geo_z0.png\", dpi=400)\n",
    "plt.show()"
   ]
  },
  {
   "cell_type": "markdown",
   "metadata": {},
   "source": [
    "### Eddington Ratio Distribution"
   ]
  },
  {
   "cell_type": "code",
   "execution_count": 7,
   "metadata": {},
   "outputs": [
    {
     "name": "stdout",
     "output_type": "stream",
     "text": [
      "Warning - we have requested redshift 1.25 - Selecting file Aird2018z0.1.csv as it is closest\n",
      "RMS: 2.643725351463622 $lambda$ = 7\n"
     ]
    },
    {
     "data": {
      "image/png": "[encoded data removed]",
      "text/plain": [
       "<Figure size 432x288 with 1 Axes>"
      ]
     },
     "metadata": {
      "needs_background": "light"
     },
     "output_type": "display_data"
    }
   ],
   "source": [
    "# Plot the Eddington ratio distribution\n",
    "\n",
    "plt.figure()#figsize=(16, 10), dpi= 80)\n",
    "\n",
    "EddData = actl.EddingtonDistributionData(redshift)\n",
    "#plt.plot(EddData.Geo.x, EddData.Geo.y, label = \"Geo\")\n",
    "\n",
    "plt.fill_between(EddData.Geo.x, EddData.Geo.yu, EddData.Geo.yd, alpha=0.4, label = \"Geo16, z={}\".format(EddData.Geo.z) )\n",
    "\n",
    "for i in range(iterations):\n",
    "    label =  r\"{} = {}\".format(variable_name, variations[i])\n",
    "    label = \"Mock\"\n",
    "    plt.plot(obj.Edd_plottingData[i].x, obj.Edd_plottingData[i].y, 'k:', label = label)\n",
    "    # RMS\n",
    "    xto_data = interpolate.interp1d(obj.Edd_plottingData[i].x, obj.Edd_plottingData[i].y, bounds_error=False, fill_value=((obj.Edd_plottingData[i].y)[0], (obj.Edd_plottingData[i].y)[-1]))\n",
    "    \n",
    "    xto_top = interpolate.interp1d(EddData.Geo.x, EddData.Geo.yu)\n",
    "    xto_bottom = interpolate.interp1d(EddData.Geo.x, EddData.Geo.yd)\n",
    "    \n",
    "    x_range = np.linspace(-3.5, -0.5)\n",
    "    \n",
    "    sample_data = xto_data(x_range)\n",
    "    sample_u = xto_top(x_range)\n",
    "    sample_d = xto_bottom(x_range)\n",
    "\n",
    "    res = np.zeros_like(x_range)\n",
    "    \n",
    "    res[sample_data > sample_u] = sample_data[sample_data > sample_u] - sample_u[sample_data > sample_u]\n",
    "    res[sample_data < sample_d] = sample_data[sample_data < sample_d] - sample_d[sample_data < sample_d]\n",
    "    rms =  np.sqrt(np.sum(res**2))\n",
    "    print(\"RMS:\", rms, r\"{} = {}\".format(variable_name, variations[i]) )\n",
    "    \n",
    "plt.plot(EddData.Bon16.x, EddData.Bon16.y, label = \"Bon16 z={}\".format(EddData.Bon16.z)) \n",
    "plt.plot(EddData.Bon12.x, EddData.Bon12.y, label = \"Bon12 z={}\".format(EddData.Bon12.z))\n",
    "plt.plot(EddData.Aird12.x, EddData.Aird12.y, label = \"Aird12 z={}\".format(EddData.Aird12.z) )\n",
    "\n",
    "#eddbin = np.arange(-4, 1., 0.5)\n",
    "#probSche = EddData.AirdDist(eddbin)\n",
    "#plt.plot(eddbin, probSche, label = \"Aird ?(analytic)\")\n",
    "\n",
    "plt.title(r'Eddington Ratio Distribution, z={}'.format(redshift), fontsize = 14)\n",
    "          #U=Schulze,$\\alpha$=-0.25, z=0', fontname = 'Times New Roman')\n",
    "plt.xlabel(\"Eddington Ratio\", fontsize = 14)\n",
    "plt.ylabel(\"Probability $log10$\", fontsize = 14)\n",
    "plt.xlim((-4, 0.5))\n",
    "plt.ylim((-5, 0))\n",
    "\n",
    "plt.tick_params(which='major', right=True, top=True, direction='in', length=4, width=1.5, labelsize = 12)\n",
    "plt.tick_params(which='minor', right=True, top=True, direction='in', length=2, width=1.5)\n",
    "plt.minorticks_on()\n",
    "\n",
    "plt.legend()\n",
    "\n",
    "plt.savefig(\"./Plots/ERD_Geo_z0.png\", dpi=400)\n",
    "\n",
    "\n",
    "plt.show()\n"
   ]
  },
  {
   "cell_type": "code",
   "execution_count": 8,
   "metadata": {},
   "outputs": [],
   "source": [
    "count = 0\n",
    "\n",
    "while count < 10:\n",
    "    count += 1\n",
    "    os.system('spd-say \"your program has finished\"')"
   ]
  },
  {
   "cell_type": "markdown",
   "metadata": {},
   "source": [
    "### WP"
   ]
  },
  {
   "cell_type": "code",
   "execution_count": 9,
   "metadata": {},
   "outputs": [
    {
     "ename": "TypeError",
     "evalue": "unsupported operand type(s) for /: 'NoneType' and 'float'",
     "output_type": "error",
     "traceback": [
      "\u001b[0;31m---------------------------------------------------------------------------\u001b[0m",
      "\u001b[0;31mTypeError\u001b[0m                                 Traceback (most recent call last)",
      "\u001b[0;32m<ipython-input-9-80a263ff1652>\u001b[0m in \u001b[0;36m<module>\u001b[0;34m\u001b[0m\n\u001b[1;32m     16\u001b[0m                 yerr = wp_data.wp_Koutoulidis_e, fmt='o', label = \"Koutoulidis Data, z~1\")\n\u001b[1;32m     17\u001b[0m \u001b[0;34m\u001b[0m\u001b[0m\n\u001b[0;32m---> 18\u001b[0;31m \u001b[0mplt\u001b[0m\u001b[0;34m.\u001b[0m\u001b[0mplot\u001b[0m\u001b[0;34m(\u001b[0m\u001b[0mobj\u001b[0m\u001b[0;34m.\u001b[0m\u001b[0mwpbins\u001b[0m\u001b[0;34m,\u001b[0m \u001b[0mwp_data\u001b[0m\u001b[0;34m.\u001b[0m\u001b[0mk_power_law\u001b[0m\u001b[0;34m(\u001b[0m\u001b[0mobj\u001b[0m\u001b[0;34m.\u001b[0m\u001b[0mwpbins\u001b[0m\u001b[0;34m)\u001b[0m\u001b[0;34m,\u001b[0m \u001b[0mlabel\u001b[0m \u001b[0;34m=\u001b[0m \u001b[0;34m\"Koutoulidis Fit, z~1\"\u001b[0m\u001b[0;34m)\u001b[0m\u001b[0;34m\u001b[0m\u001b[0;34m\u001b[0m\u001b[0m\n\u001b[0m\u001b[1;32m     19\u001b[0m \u001b[0mplt\u001b[0m\u001b[0;34m.\u001b[0m\u001b[0mtitle\u001b[0m\u001b[0;34m(\u001b[0m\u001b[0;34mr'wp, z=1'\u001b[0m\u001b[0;34m,\u001b[0m \u001b[0mfontname\u001b[0m \u001b[0;34m=\u001b[0m \u001b[0;34m'Times New Roman'\u001b[0m\u001b[0;34m,\u001b[0m \u001b[0mfontsize\u001b[0m \u001b[0;34m=\u001b[0m \u001b[0;36m14\u001b[0m\u001b[0;34m)\u001b[0m\u001b[0;34m\u001b[0m\u001b[0;34m\u001b[0m\u001b[0m\n\u001b[1;32m     20\u001b[0m \u001b[0;31m#plt.title(r'wp (obscured), z=1, $\\alpha$=-0.4', fontname = 'Times New Roman')\u001b[0m\u001b[0;34m\u001b[0m\u001b[0;34m\u001b[0m\u001b[0;34m\u001b[0m\u001b[0m\n",
      "\u001b[0;32m~/projects/EuclidAGN/ACTLiterature.py\u001b[0m in \u001b[0;36mk_power_law\u001b[0;34m(self, rp, r0, gam)\u001b[0m\n\u001b[1;32m     33\u001b[0m \u001b[0;34m\u001b[0m\u001b[0m\n\u001b[1;32m     34\u001b[0m     \u001b[0;32mdef\u001b[0m \u001b[0mk_power_law\u001b[0m\u001b[0;34m(\u001b[0m\u001b[0mself\u001b[0m\u001b[0;34m,\u001b[0m \u001b[0mrp\u001b[0m\u001b[0;34m,\u001b[0m \u001b[0mr0\u001b[0m\u001b[0;34m=\u001b[0m\u001b[0;36m6.2\u001b[0m\u001b[0;34m,\u001b[0m \u001b[0mgam\u001b[0m\u001b[0;34m=\u001b[0m\u001b[0;36m1.88\u001b[0m\u001b[0;34m)\u001b[0m\u001b[0;34m:\u001b[0m\u001b[0;34m\u001b[0m\u001b[0;34m\u001b[0m\u001b[0m\n\u001b[0;32m---> 35\u001b[0;31m         \u001b[0mrp\u001b[0m \u001b[0;34m=\u001b[0m \u001b[0mrp\u001b[0m\u001b[0;34m/\u001b[0m\u001b[0mself\u001b[0m\u001b[0;34m.\u001b[0m\u001b[0mh\u001b[0m\u001b[0;34m\u001b[0m\u001b[0;34m\u001b[0m\u001b[0m\n\u001b[0m\u001b[1;32m     36\u001b[0m         \u001b[0mwp\u001b[0m \u001b[0;34m=\u001b[0m \u001b[0mrp\u001b[0m \u001b[0;34m*\u001b[0m \u001b[0;34m(\u001b[0m\u001b[0;34m(\u001b[0m\u001b[0mr0\u001b[0m\u001b[0;34m/\u001b[0m\u001b[0mrp\u001b[0m\u001b[0;34m)\u001b[0m \u001b[0;34m**\u001b[0m \u001b[0mgam\u001b[0m\u001b[0;34m)\u001b[0m \u001b[0;34m*\u001b[0m \u001b[0;34m(\u001b[0m \u001b[0;34m(\u001b[0m\u001b[0mspecial\u001b[0m\u001b[0;34m.\u001b[0m\u001b[0mgamma\u001b[0m\u001b[0;34m(\u001b[0m\u001b[0;36m0.5\u001b[0m\u001b[0;34m)\u001b[0m \u001b[0;34m*\u001b[0m \u001b[0mspecial\u001b[0m\u001b[0;34m.\u001b[0m\u001b[0mgamma\u001b[0m\u001b[0;34m(\u001b[0m\u001b[0;34m(\u001b[0m\u001b[0mgam\u001b[0m\u001b[0;34m-\u001b[0m\u001b[0;36m1\u001b[0m\u001b[0;34m)\u001b[0m\u001b[0;34m/\u001b[0m\u001b[0;36m2\u001b[0m\u001b[0;34m)\u001b[0m\u001b[0;34m)\u001b[0m \u001b[0;34m/\u001b[0m \u001b[0mspecial\u001b[0m\u001b[0;34m.\u001b[0m\u001b[0mgamma\u001b[0m\u001b[0;34m(\u001b[0m\u001b[0mgam\u001b[0m\u001b[0;34m/\u001b[0m\u001b[0;36m2\u001b[0m\u001b[0;34m)\u001b[0m\u001b[0;34m)\u001b[0m\u001b[0;34m\u001b[0m\u001b[0;34m\u001b[0m\u001b[0m\n\u001b[1;32m     37\u001b[0m         \u001b[0;32mreturn\u001b[0m \u001b[0mwp\u001b[0m \u001b[0;34m*\u001b[0m \u001b[0mself\u001b[0m\u001b[0;34m.\u001b[0m\u001b[0mh\u001b[0m\u001b[0;34m\u001b[0m\u001b[0;34m\u001b[0m\u001b[0m\n",
      "\u001b[0;31mTypeError\u001b[0m: unsupported operand type(s) for /: 'NoneType' and 'float'"
     ]
    },
    {
     "data": {
      "image/png": "[encoded data removed]",
      "text/plain": [
       "<Figure size 432x288 with 1 Axes>"
      ]
     },
     "metadata": {
      "needs_background": "light"
     },
     "output_type": "display_data"
    }
   ],
   "source": [
    "plt.figure()\n",
    "\n",
    "wp_data = actl.WPData(redshift)\n",
    "\n",
    "for i in range(iterations):\n",
    "    try:\n",
    "        label = r\"{} = {}\".format(variable_name, variations[i])\n",
    "        label = \"Mock\"                           \n",
    "        plt.plot(obj.WP_plottingData[i].x, obj.WP_plottingData[i].y, 'k:', label=label)\n",
    "        if i == 4:\n",
    "            break\n",
    "    except:\n",
    "        pass\n",
    "    \n",
    "plt.errorbar(wp_data.r_Koutoulidis, wp_data.wp_Koutoulidis,\\\n",
    "                yerr = wp_data.wp_Koutoulidis_e, fmt='o', label = \"Koutoulidis Data, z~1\")\n",
    "\n",
    "plt.plot(obj.wpbins, wp_data.k_power_law(obj.wpbins), label = \"Koutoulidis Fit, z~1\")\n",
    "plt.title(r'wp, z=1', fontname = 'Times New Roman', fontsize = 14)\n",
    "#plt.title(r'wp (obscured), z=1, $\\alpha$=-0.4', fontname = 'Times New Roman')    \n",
    "plt.xlabel(r'$r_p$ $Mpc/h$', fontsize = 14)\n",
    "plt.ylabel(r'$w(r_p)$', fontsize = 14)\n",
    "\n",
    "plt.tick_params(which='major', right=True, top=True, direction='in', length=4, width=1.5, labelsize = 12)\n",
    "plt.tick_params(which='minor', right=True, top=True, direction='in', length=2, width=1.5)\n",
    "plt.minorticks_on()\n",
    "\n",
    "plt.legend()\n",
    "plt.loglog()\n",
    "plt.savefig(\"./Plots/clustering_Geo_z0.png\", dpi=400)\n",
    "\n",
    "plt.show()\n",
    "\n"
   ]
  },
  {
   "cell_type": "markdown",
   "metadata": {},
   "source": [
    "### Bias"
   ]
  },
  {
   "cell_type": "code",
   "execution_count": null,
   "metadata": {},
   "outputs": [],
   "source": [
    "plt.figure()\n",
    "\n",
    "for i in range(iterations):\n",
    "    plt.plot(obj.bias_plottingData[i].x, obj.bias_plottingData[i].y, ':', label = r\"{} = {}\".format(variable_name, variations[i]))\n",
    "    \n",
    "plt.xlabel(\"Stellar Mass\")\n",
    "plt.ylabel(\"Bias\")\n",
    "plt.legend()\n",
    "plt.show()"
   ]
  },
  {
   "cell_type": "markdown",
   "metadata": {},
   "source": [
    "### HOD"
   ]
  },
  {
   "cell_type": "code",
   "execution_count": null,
   "metadata": {},
   "outputs": [],
   "source": [
    "plt.figure()\n",
    "labels = [\"Obscured\", \"Unobscured\"]\n",
    "\n",
    "for i in range(2):\n",
    "    plt.plot(10**obj.HOD_plottingData[i].x, obj.HOD_plottingData[i].y, ':', label=labels[i])\n",
    "plt.xlabel(r\"Halo Mass $M_\\odot$\", fontsize=14)\n",
    "plt.ylabel(\"HOD\", fontsize=14)\n",
    "plt.tick_params(which='major', right=True, top=True, direction='in', length=4, width=1.5, labelsize = 12)\n",
    "plt.tick_params(which='minor', right=True, top=True, direction='in', length=2, width=1.5)\n",
    "plt.title(\"HOD, z = 0.1\", fontsize = 14)\n",
    "plt.minorticks_on()\n",
    "plt.loglog()\n",
    "plt.legend()\n",
    "plt.show()"
   ]
  },
  {
   "cell_type": "code",
   "execution_count": null,
   "metadata": {},
   "outputs": [],
   "source": [
    "obj.HOD_plottingData"
   ]
  },
  {
   "cell_type": "code",
   "execution_count": null,
   "metadata": {},
   "outputs": [],
   "source": []
  }
 ],
 "metadata": {
  "kernelspec": {
   "display_name": "Python 3",
   "language": "python",
   "name": "python3"
  },
  "language_info": {
   "codemirror_mode": {
    "name": "ipython",
    "version": 3
   },
   "file_extension": ".py",
   "mimetype": "text/x-python",
   "name": "python",
   "nbconvert_exporter": "python",
   "pygments_lexer": "ipython3",
   "version": "3.7.3"
  }
 },
 "nbformat": 4,
 "nbformat_minor": 2
}
