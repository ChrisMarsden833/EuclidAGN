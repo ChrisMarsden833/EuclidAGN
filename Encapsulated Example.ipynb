{
 "cells": [
  {
   "cell_type": "markdown",
   "metadata": {},
   "source": [
    "# AGN Catalog Toolbox (ACT) Encapsulated Testing"
   ]
  },
  {
   "cell_type": "markdown",
   "metadata": {},
   "source": [
    "This is an example notebook showing the AGN Catalog Toolbox Testing code (written by Chris) in action."
   ]
  },
  {
   "cell_type": "code",
   "execution_count": 1,
   "metadata": {},
   "outputs": [],
   "source": [
    "import ACTTestingEncapsulation as actt\n",
    "import ACTLiterature as actl \n",
    "\n",
    "import numpy as np\n",
    "from matplotlib import pyplot as plt\n",
    "\n",
    "# Set the redshift of interest here.\n",
    "redshift = 0.0"
   ]
  },
  {
   "cell_type": "markdown",
   "metadata": {},
   "source": [
    "The variables we wish to test are listed in arrays for easy repeated access."
   ]
  },
  {
   "cell_type": "code",
   "execution_count": 2,
   "metadata": {},
   "outputs": [],
   "source": [
    "# Variations\n",
    "variations = [True, False]\n",
    "variable_name = r\"Parallel\"\n",
    "iterations = len(variations)\n",
    "\n"
   ]
  },
  {
   "cell_type": "markdown",
   "metadata": {},
   "source": [
    "Next we create the class, and we call the approprate member functions to read in the data, assign the variables we want and then return the plotting data. Much of the best behaviour is encapsulated by the default arguments, so some parameters do not need to be called. Running this section can take some time."
   ]
  },
  {
   "cell_type": "markdown",
   "metadata": {},
   "source": [
    "Note that calling the member function to load in the multidark data expects a file in a subfolder '/BigData/' that is named 'MD_<redshift>.npy, in with the columns x, y, z, scale at accretion, mass at accretion, and mvir."
   ]
  },
  {
   "cell_type": "code",
   "execution_count": 3,
   "metadata": {},
   "outputs": [
    {
     "name": "stdout",
     "output_type": "stream",
     "text": [
      "Loading Dark Matter Catalog\n",
      "Loading Halo Catalogue\n",
      "Found file: MD_0.093.npy\n",
      "dtypes found:  [('x', '<f4'), ('y', '<f4'), ('z', '<f4'), ('id', '<i8'), ('upid', '<i8'), ('mvir', '<f4'), ('Acc_Scale', '<f4'), ('Macc', '<f4')]\n",
      "    Sorting list w.r.t. upId\n",
      "    copying all 114235673 elements with up_id = -1\n",
      "    sorting remaining list list w.r.t. main id\n",
      "    copying remaining 16470020 elements\n",
      "Assigning Stellar Mass\n",
      "Scatter is a thing, valued at 0.001\n",
      "Assigning Black Hole Mass\n"
     ]
    }
   ],
   "source": [
    "# Create the master class.\n",
    "obj = actt.AGNCatalog()\n",
    "obj.set_z(redshift)\n",
    "\n",
    "# Load in the MultiDark Haloes.\n",
    "obj.load_dm_catalog()\n",
    "obj.assign_stellar_mass()\n",
    "obj.assign_black_hole_mass()"
   ]
  },
  {
   "cell_type": "markdown",
   "metadata": {},
   "source": [
    "### Example of catalog cut - reduce volume"
   ]
  },
  {
   "cell_type": "code",
   "execution_count": 4,
   "metadata": {},
   "outputs": [],
   "source": [
    "limit = 500\n",
    "flag = (obj.main_catalog['x'] < limit/obj.h) * (obj.main_catalog['y'] < limit/obj.h) * (obj.main_catalog['z'] < limit/obj.h)\n",
    "\n",
    "obj.main_catalog = obj.main_catalog[flag]\n",
    "obj.volume = (limit/obj.h)**3"
   ]
  },
  {
   "cell_type": "code",
   "execution_count": null,
   "metadata": {
    "scrolled": false
   },
   "outputs": [
    {
     "name": "stdout",
     "output_type": "stream",
     "text": [
      "Assigning Duty Cycle, using Man16's method\n",
      "[0.12757576 0.00090909 0.00090909 ... 0.00090909 0.00090909 0.00213363]\n",
      "Assigning Luminosity\n",
      "Assigning Nh\n",
      "Processors: 8\n",
      "PARALLEL: 52.64131524199911\n",
      "Assigning AGN type\n"
     ]
    },
    {
     "name": "stderr",
     "output_type": "stream",
     "text": [
      "/media/chris/Files/EuclidAGN/AGNCatalogToolbox.py:706: FutureWarning: Using a non-tuple sequence for multidimensional indexing is deprecated; use `arr[tuple(seq)]` instead of `arr[seq]`. In the future this will be interpreted as an array index, `arr[np.array(seq)]`, which will result either in an error or a different result.\n",
      "  type[(nh >= 22) * (nh < 24)] = type2[[(nh >= 22) * (nh < 24)]]\n"
     ]
    },
    {
     "name": "stdout",
     "output_type": "stream",
     "text": [
      "Computing wp\n",
      "Max x:738.9816284179688\n",
      "Max y:738.9865112304688\n",
      "Max z:738.9842529296875\n",
      "Period:738.9890629618678\n",
      "Weights, max = 0.12757575511932373. , min = 0.0022606574930250645\n",
      "Calculating Bias\n"
     ]
    },
    {
     "name": "stderr",
     "output_type": "stream",
     "text": [
      "In gridlink_float> Running with [nmesh_x, nmesh_y, nmesh_z]  = 23,23,14.  Time taken =   0.006 sec\n",
      "Using AVX2 kernel\n",
      "0%.........10%.........20%.........30%.........40%.........50%.........60%.........70%.........80%.........90%.........100% done. Time taken =  0.026 secs\n"
     ]
    },
    {
     "name": "stdout",
     "output_type": "stream",
     "text": [
      "Calculating HOD\n"
     ]
    },
    {
     "name": "stderr",
     "output_type": "stream",
     "text": [
      "/media/chris/Files/EuclidAGN/AGNCatalogToolbox.py:935: RuntimeWarning: invalid value encountered in true_divide\n",
      "  hod[h] = hist_subject[h] / hist_centrals_unweighted[h]\n"
     ]
    },
    {
     "name": "stdout",
     "output_type": "stream",
     "text": [
      "Assigning Duty Cycle, using Man16's method\n",
      "[0.12757576 0.00090909 0.00090909 ... 0.00090909 0.00090909 0.00213363]\n",
      "Assigning Luminosity\n",
      "Assigning Nh\n"
     ]
    }
   ],
   "source": [
    "# Loop to support variations in parameters\n",
    "for i in range(iterations):\n",
    "\n",
    "    obj.assign_duty_cycle()\n",
    "    \n",
    "    obj.assign_luminosity()\n",
    "    obj.assign_obscuration(variations[i])\n",
    "    \n",
    "    obj.get_wp()\n",
    "    # We then compute the bias\n",
    "    obj.get_bias()\n",
    "    obj.get_hod()"
   ]
  },
  {
   "cell_type": "markdown",
   "metadata": {},
   "source": [
    "### XLF"
   ]
  },
  {
   "cell_type": "code",
   "execution_count": null,
   "metadata": {},
   "outputs": [],
   "source": [
    "# Plot of the XLF \n",
    "\n",
    "plt.figure()\n",
    "\n",
    "for i in range(iterations):\n",
    "    try:\n",
    "        plt.plot(10**obj.XLF_plottingData[i].x, 10**obj.XLF_plottingData[i].y, label = r\"{} = {}\".format(variable_name, variations[i]))\n",
    "    except:\n",
    "        pass\n",
    "    \n",
    "    \n",
    "# XLF Data\n",
    "XLF = actl.XLFData(redshift)\n",
    "mXLF_data = XLF.get_miyaji2015()\n",
    "plt.plot(mXLF_data.x, mXLF_data.y, 'o', label = \"Miyaji\")\n",
    "\n",
    "uXLF_data = XLF.get_ueda14(np.arange(42, 46, 0.1))\n",
    "plt.plot(uXLF_data.x, uXLF_data.y, ':', label = \"Ueda\")\n",
    "\n",
    "# Plotting\n",
    "plt.xlabel(r'$L_x\\;[erg\\;s^{-1}]$')\n",
    "plt.ylabel(r'$d\\phi /d(log\\;L_x)\\;[Mpc^{-3}]$')\n",
    "plt.title(r'XLF, z = {}, $\\lambda$ = {}, $\\alpha$ = {}'.format(redshift, -1, -0.65), fontname = 'Times New Roman')\n",
    "plt.loglog()\n",
    "plt.legend()\n",
    "plt.show()"
   ]
  },
  {
   "cell_type": "markdown",
   "metadata": {},
   "source": [
    "### Eddington Ratio Distribution"
   ]
  },
  {
   "cell_type": "code",
   "execution_count": null,
   "metadata": {},
   "outputs": [],
   "source": [
    "# Plot the Eddington ratio distribution\n",
    "\n",
    "plt.figure()\n",
    "\n",
    "for i in range(iterations):\n",
    "    try:\n",
    "        plt.plot(obj.Edd_plottingData[i].x, obj.Edd_plottingData[i].y, ':', label = r\"{} = {}\".format(variable_name, variations[i]))\n",
    "    except:\n",
    "        pass\n",
    "\n",
    "EddData = actl.EddingtonDistributionData(redshift)\n",
    "plt.plot(EddData.Geo.x, EddData.Geo.y, label = \"Geo\")\n",
    "plt.plot(EddData.Bon16.x, EddData.Bon16.y, label = \"Bon 16\")\n",
    "plt.plot(EddData.Bon12.x, EddData.Bon12.y, label = \"Bon 12\")\n",
    "\n",
    "eddbin = np.arange(-4, 1., 0.5)\n",
    "probSche = EddData.AirdDist(eddbin)\n",
    "plt.plot(eddbin, probSche, label = \"Aird (analytic)\")\n",
    "plt.title(r'Eddington Ratio Distribution, z = {}'.format(redshift), fontname = 'Times New Roman')\n",
    "plt.xlabel(\"Eddington Ratio\")\n",
    "plt.ylabel(\"Probability $log10$\")\n",
    "\n",
    "plt.legend()\n",
    "\n",
    "  \n",
    "plt.show()\n"
   ]
  },
  {
   "cell_type": "markdown",
   "metadata": {},
   "source": [
    "### WP"
   ]
  },
  {
   "cell_type": "code",
   "execution_count": null,
   "metadata": {},
   "outputs": [],
   "source": [
    "plt.figure()\n",
    "\n",
    "wp_data = actl.WPData(redshift)\n",
    "\n",
    "for i in range(iterations):\n",
    "    try:\n",
    "        plt.plot(obj.WP_plottingData[i].x, obj.WP_plottingData[i].y, ':', label = r\"{} = {}\".format(variable_name, variations[i]))\n",
    "    except:\n",
    "        pass\n",
    "    \n",
    "plt.errorbar(wp_data.r_Koutoulidis, wp_data.wp_Koutoulidis,\\\n",
    "                yerr = wp_data.wp_Koutoulidis_e, fmt='o', label = \"Koutoulidis Data\")\n",
    "\n",
    "plt.plot(obj.wpbins, wp_data.k_power_law(obj.wpbins), label = \"Koutoulidis Fit\")\n",
    "plt.title(r'wp, z = {}'.format(redshift), fontname = 'Times New Roman')    \n",
    "plt.xlabel(r'$r_p$ $Mpc$')\n",
    "plt.ylabel(r'$w(r_p)$')    \n",
    "\n",
    "plt.legend()\n",
    "plt.loglog()\n",
    "plt.savefig(\"./Plots/clustering_varying.png\")\n",
    "\n",
    "plt.show()\n",
    "\n"
   ]
  },
  {
   "cell_type": "markdown",
   "metadata": {},
   "source": [
    "### Bias"
   ]
  },
  {
   "cell_type": "code",
   "execution_count": null,
   "metadata": {},
   "outputs": [],
   "source": [
    "plt.figure()\n",
    "\n",
    "for i in range(iterations):\n",
    "    plt.plot(obj.bias_plottingData[i].x, obj.bias_plottingData[i].y, ':', label = r\"{} = {}\".format(variable_name, variations[i]))\n",
    "    \n",
    "plt.xlabel(\"Stellar Mass\")\n",
    "plt.ylabel(\"Bias\")\n",
    "plt.legend()\n",
    "plt.show()"
   ]
  },
  {
   "cell_type": "markdown",
   "metadata": {},
   "source": [
    "### HOD"
   ]
  },
  {
   "cell_type": "code",
   "execution_count": null,
   "metadata": {},
   "outputs": [],
   "source": [
    "plt.figure()\n",
    "\n",
    "for i in range(iterations):\n",
    "    plt.plot(10**obj.HOD_plottingData[i].x, obj.HOD_plottingData[i].y, ':', label = r\"{} = {}\".format(variable_name, variations[i]))\n",
    "    \n",
    "plt.xlabel(\"Halo Mass\")\n",
    "plt.ylabel(\"HOD\")\n",
    "plt.loglog()\n",
    "plt.legend()\n",
    "plt.show()"
   ]
  }
 ],
 "metadata": {
  "kernelspec": {
   "display_name": "Python 3",
   "language": "python",
   "name": "python3"
  },
  "language_info": {
   "codemirror_mode": {
    "name": "ipython",
    "version": 3
   },
   "file_extension": ".py",
   "mimetype": "text/x-python",
   "name": "python",
   "nbconvert_exporter": "python",
   "pygments_lexer": "ipython3",
   "version": "3.7.3"
  }
 },
 "nbformat": 4,
 "nbformat_minor": 2
}
