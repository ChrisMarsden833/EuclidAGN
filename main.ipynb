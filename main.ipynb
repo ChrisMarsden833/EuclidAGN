{
 "cells": [
  {
   "cell_type": "code",
   "execution_count": 1,
   "metadata": {},
   "outputs": [],
   "source": [
    "from DuplicateTesting import *"
   ]
  },
  {
   "cell_type": "code",
   "execution_count": null,
   "metadata": {},
   "outputs": [
    {
     "name": "stdout",
     "output_type": "stream",
     "text": [
      "iterations:  2\n",
      "[[1 1]\n",
      " [1 1]\n",
      " [1 1]\n",
      " [1 1]\n",
      " [1 2]\n",
      " [1 1]\n",
      " [1 1]\n",
      " [1 1]\n",
      " [1 1]]\n",
      "Loading MultiDark Haloes\n",
      "Assigning Stellar Mass\n",
      "Assigning Black Hole Mass\n",
      "Assigning Duty Cycle, Mann\n",
      "Assigning Eddington Ratios\n",
      "Creating Catalogue\n",
      "    0.77% of Galaxies remain as AGN\n",
      "Calculating Obscuration\n",
      "    96.2% of the remaining catalogue remains as obscured\n",
      "Computing wp\n"
     ]
    },
    {
     "name": "stderr",
     "output_type": "stream",
     "text": [
      "In gridlink_double> Running with [nmesh_x, nmesh_y, nmesh_z]  = 46,46,29.  Time taken =   0.101 sec\n",
      "Using AVX2 kernel\n",
      "0%.........10%.........20%.........30%.........40%.........50%.........60%.........70%.........80%.........90%.........100% done. Time taken =  0.986 secs\n"
     ]
    },
    {
     "name": "stdout",
     "output_type": "stream",
     "text": [
      "Assigning Duty Cycle, Mann\n"
     ]
    }
   ],
   "source": [
    "parameters = {\n",
    "    \"Redshift\" : 0.,\n",
    "    \"Dark Matter\" : [\"MultiDark\"],\n",
    "    \"Stellar Mass\" : \"Grylls18\",\n",
    "    \"Black Hole Mass\" : [[\"Francesco\", \"intrinsic\", 0.5]],\n",
    "    \"Duty Cycle\" : [\"Mann\", \"Mann\"],\n",
    "    \"Eddington Ratios\" : [[\"Schechter\", \"False\", -1, -0.65]],\n",
    "    \"Catalogue\" : [[True, 42.01, 44.98]],\n",
    "    \"Obscuration\" : [[\"Obscured\", 23]],\n",
    "    \"Clustering\" : 50\n",
    "    }\n",
    "\n",
    "obj = VariationManager(parameters)\n",
    "    \n",
    "    "
   ]
  },
  {
   "cell_type": "code",
   "execution_count": null,
   "metadata": {},
   "outputs": [],
   "source": []
  },
  {
   "cell_type": "code",
   "execution_count": null,
   "metadata": {},
   "outputs": [],
   "source": [
    "#obj = EuclidObject(['planck18', 'planck18'])\n",
    "#obj.VariationNames"
   ]
  },
  {
   "cell_type": "code",
   "execution_count": null,
   "metadata": {},
   "outputs": [],
   "source": [
    "#obj.SetRedshift([0.5, 1, 2])\n",
    "#obj.VariationNames"
   ]
  },
  {
   "cell_type": "code",
   "execution_count": null,
   "metadata": {},
   "outputs": [],
   "source": []
  }
 ],
 "metadata": {
  "kernelspec": {
   "display_name": "Python 3",
   "language": "python",
   "name": "python3"
  },
  "language_info": {
   "codemirror_mode": {
    "name": "ipython",
    "version": 3
   },
   "file_extension": ".py",
   "mimetype": "text/x-python",
   "name": "python",
   "nbconvert_exporter": "python",
   "pygments_lexer": "ipython3",
   "version": "3.7.1"
  }
 },
 "nbformat": 4,
 "nbformat_minor": 2
}
