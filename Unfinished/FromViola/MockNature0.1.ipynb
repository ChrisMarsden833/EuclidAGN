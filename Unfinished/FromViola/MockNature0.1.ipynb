{
 "cells": [
  {
   "cell_type": "code",
   "execution_count": 4,
   "metadata": {},
   "outputs": [],
   "source": [
    "import sys\n",
    "\n",
    "%matplotlib inline\n",
    "%reload_ext autoreload\n",
    "%autoreload 2\n",
    "from matplotlib.patches import Rectangle\n",
    "\n",
    "\n",
    "\n",
    "import matplotlib.pyplot as plt\n",
    "import math\n",
    "from astropy.table import Table, Column\n",
    "from scipy import interpolate\n",
    "from scipy import integrate\n",
    "from matplotlib import rc\n",
    "from scipy.integrate import quad\n",
    "from scipy.integrate import simps\n",
    "from math import pi\n",
    "import pandas\n",
    "import numpy.random\n",
    "import random\n",
    "import numpy as np\n",
    "import Corrfunc\n",
    "from matplotlib import pyplot\n",
    "from Corrfunc.theory import wp\n",
    "\n",
    "rc('text', usetex=True)\n",
    "\n"
   ]
  },
  {
   "cell_type": "code",
   "execution_count": 5,
   "metadata": {},
   "outputs": [],
   "source": [
    "def Grylls19(z,Mh):\n",
    "    \n",
    "    sigm=0.15\n",
    "    sigm1 = 0.2\n",
    "    #M10, N10, beta10, gamma10 = 11.95, 0.032, 1.61, 0.54\n",
    "    #M11, N11, beta11, gamma11 = 0.4, -0.02, -0.6, -0.1\n",
    "    M10, N10, beta10, gamma10 = 11.925, 0.032,1.639,0.532\n",
    "    M11, N11, beta11, gamma11 = 0.576,-0.014,-0.693,0.03\n",
    "    N = N10 + N11*(z-0.1/(z+1.))\n",
    "    beta = beta10 + beta11*(z-0.1/(z+1.))\n",
    "    gamma = gamma10 + gamma11*(z-0.1/(z+1.))\n",
    "    M1 = M10 + M11*(z-0.1/(z+1.))\n",
    "    \n",
    "    Mhv=Mh\n",
    "    Mss=math.log10(2.)+np.log10(N)+Mhv-np.log10(10.**(-beta*(Mhv-M1))+10.**(gamma*(Mhv-M1)))+np.random.normal(0.,sigm,len(Mh))#+np.random.normal(0.,sigm1,len(Mh))\n",
    "    \n",
    "    return Mss;\n",
    "\n"
   ]
  },
  {
   "cell_type": "code",
   "execution_count": 6,
   "metadata": {},
   "outputs": [],
   "source": [
    "def AssignBHMass_EQ3(M_star):\n",
    "    logBHMass = 8.54 + 1.18 * (M_star - 11)\n",
    "    scatter = numpy.random.normal(0, 0.3, len(M_star))\n",
    "    logBHMass += scatter\n",
    "    return logBHMass\n",
    "\n",
    "\n",
    "def AssignBHMass_EQ4(M_star):\n",
    "    logBHMass = 8.35 + 1.31 * (M_star - 11)\n",
    "    scatter = numpy.random.normal(0, 0.4, len(M_star))\n",
    "    logBHMass += scatter\n",
    "    return logBHMass\n",
    "\n",
    "\n",
    "def AssignBHMass_EQ5(M_star):\n",
    "    logBHMass = 7.547 + 1.946 * (M_star - 11) - 0.306 * (M_star - 11)**2 - 0.011 * (M_star - 11)**3\n",
    "    delta = 0.32 - 0.1 * (M_star - 12)\n",
    "    scatter = numpy.random.normal(0,delta, len(M_star))\n",
    "    logBHMass += scatter\n",
    "    return logBHMass\n",
    "\n"
   ]
  },
  {
   "cell_type": "code",
   "execution_count": 7,
   "metadata": {},
   "outputs": [],
   "source": [
    "def Schefunc(edd,eddstar,gammaE,z):\n",
    "    prob = np.ones((len(edd)),dtype='float64')\n",
    "    \n",
    "    #gammaE=-0.3\n",
    "    gammaz = 3.47\n",
    "    z0 = 0.6\n",
    "    A = 10.**(-1.41)\n",
    "    prob = A*((edd/eddstar)**gammaE)#*((1.+z)/(1.+z0))**gammaz\n",
    "    \n",
    "    return prob*np.exp(-(edd/eddstar));\n"
   ]
  },
  {
   "cell_type": "code",
   "execution_count": 8,
   "metadata": {},
   "outputs": [],
   "source": [
    "def Aird(edd,z):\n",
    "    prob = np.ones((len(edd)),dtype='float64')\n",
    "    \n",
    "    gammaE=-0.65\n",
    "    gammaz = 3.47\n",
    "    z0 = 0.6\n",
    "    A = 10.**(-3.15)\n",
    "    prob = A*((edd/10.**(-1.))**gammaE)*((1.+z)/(1.+z0))**gammaz\n",
    "    \n",
    "    return prob#*np.exp(-(edd/(10.**(0.))));\n",
    "\n"
   ]
  },
  {
   "cell_type": "code",
   "execution_count": 9,
   "metadata": {},
   "outputs": [],
   "source": [
    "def Aird12(mst,Lx,z):\n",
    "    prob = np.ones((len(Lx)),dtype='float64')\n",
    "    \n",
    "    gammaL = -0.83\n",
    "    gammaz = 3.67\n",
    "    gammaM = 0.64\n",
    "    z0 = 0.6\n",
    "    A = 10.**(-1.75)\n",
    "    M0 = 10.**(11.)\n",
    "    L0 = 10.**(43.)\n",
    "    prob = A*(((mst/M0)**gammaM)*((Lx/L0)**gammaL)*((1.+z)/(1.+z0))**gammaz)\n",
    "    \n",
    "    return prob;"
   ]
  },
  {
   "cell_type": "code",
   "execution_count": 10,
   "metadata": {},
   "outputs": [],
   "source": [
    "def Bon12(BHAR):\n",
    "    prob = np.ones((len(BHAR)),dtype='float64')\n",
    "    gammaL = 0.96\n",
    "    A = 10.**(29.50)\n",
    "    \n",
    "    prob = A* ((BHAR)**(-gammaL))\n",
    "    return prob;"
   ]
  },
  {
   "cell_type": "code",
   "execution_count": 11,
   "metadata": {},
   "outputs": [],
   "source": [
    "def gaussian(x, a, b, c):\n",
    "    val = a * np.exp(-(x - b)**2 / (c**2))\n",
    "    return val"
   ]
  },
  {
   "cell_type": "code",
   "execution_count": 12,
   "metadata": {},
   "outputs": [],
   "source": [
    "Omega_m0 = 0.3\n",
    "Omega_L0 = 0.7\n",
    "Gamma = 0.2\n",
    "a = 0.707\n",
    "\n",
    "# Functions\n",
    "\n",
    "#    Eisenstein 1999\n",
    "\n",
    "def func_g_squared(z, Omega_m0=0.3, Omega_L0=0.7):\n",
    "    matter = Omega_m0*(1+z)**3\n",
    "    curvature = (1 - Omega_m0 - Omega_L0)*(1+z)**2\n",
    "    return matter + curvature + Omega_L0\n",
    "\n",
    "#    The linear growth function. eq 10 Eisenstein 1999\n",
    "#    N.B. Omega = Omega(z), Omega_L = Omega_L(z)\n",
    "\n",
    "def func_D(Omega, Omega_L):\n",
    "    # Helper functions\n",
    "    A = 5 * Omega / 2\n",
    "    B = Omega**(4/7.) - Omega_L\n",
    "    C = 1 + Omega / 2\n",
    "    D = 1 + Omega_L / 70.\n",
    "    \n",
    "    D = A / (B + C * D)\n",
    "    \n",
    "    return D\n",
    "\n",
    "#    Eisenstein 1999\n",
    "\n",
    "def func_Omega_L(Omega_L0, g_squared):\n",
    "    return Omega_L0 / g_squared\n",
    "\n",
    "#    delta_c as a function of omega and linear growth\n",
    "#    van den Bosch 2001\n",
    "\n",
    "def func_delta_c(delta_0_crit, D):\n",
    "    return delta_0_crit / D\n",
    "\n",
    "#    A3 van den Bosch 2001\n",
    "\n",
    "def func_delta_0_crit(Omega, p):\n",
    "    return 0.15 * (12*pi)**(2/3.) * Omega**p\n",
    "\n",
    "#    A4 van den Bosch 2001\n",
    "\n",
    "def func_p(Omega_m0, Omega_L0):\n",
    "    \n",
    "    if (Omega_m0 < 1 and Omega_L0 == 0):\n",
    "        return 0.0185\n",
    "    if (Omega_m0 + Omega_L0 == 1.0):\n",
    "        return 0.0055\n",
    "\n",
    "#    A5 van den Bosch 2001 / eq 10 Eisenstein 1999\n",
    "\n",
    "def func_Omega(z, Omega_m0, g_squared):\n",
    "    return Omega_m0 * (1+z)**3 / g_squared\n",
    "\n",
    "#    A8 van den Bosch 2001\n",
    "\n",
    "def func_sigma(sigma_8, f, f_8):\n",
    "    return sigma_8 * f / f_8\n",
    "\n",
    "#    A9 van den Bosch 2001\n",
    "\n",
    "def func_u_8(Gamma):\n",
    "    return 32 * Gamma\n",
    "\n",
    "#    A9 van den Bosch 2001\n",
    "def func_u(Gamma, M, Omega_0=.3):\n",
    "    return 3.804e-4 * Gamma * (M/Omega_0)**(1/3.)\n",
    "\n",
    "#    A10 van den Bosch 2001\n",
    "def func_f(u):\n",
    "    common = 64.087\n",
    "    factors = (1, 1.074, -1.581, 0.954, -0.185)\n",
    "    exps = (0, 0.3, 0.4, 0.5, 0.6)\n",
    "    \n",
    "    ret_val = 0.0\n",
    "    for i in range(len(factors)):\n",
    "        ret_val += factors[i] * u ** exps[i]\n",
    "    \n",
    "    return common * ret_val**(-10)\n",
    "\n",
    "\n",
    "#    eq. 8 Sheth 2001\n",
    "def func_b_eul(nu, delta_sc=1.686, a=0.707, b=0.5, c=0.6):\n",
    "    # A bunch of helper functions\n",
    "    A = np.sqrt(a) * delta_sc\n",
    "    B = np.sqrt(a) * a * nu**2\n",
    "    C = np.sqrt(a) * b * (a * nu**2)**(1-c)\n",
    "    D = (a * nu**2)**c\n",
    "    E = (a*nu**2)**c + b*(1-c)*(1-c/2)\n",
    "    \n",
    "    return 1 + (B + C - D/E)/A\n",
    "\n",
    "#    eq. 8 Tinker 2005\n",
    "\n",
    "def func_b_eulTin(nu, delta_sc=1.686, a=0.707, b=0.35, c=0.8):\n",
    "    # A bunch of helper functions\n",
    "    A = np.sqrt(a) * delta_sc\n",
    "    B = np.sqrt(a) * a * nu**2\n",
    "    C = np.sqrt(a) * b * (a * nu**2)**(1-c)\n",
    "    D = (a * nu**2)**c\n",
    "    E = (a*nu**2)**c + b*(1-c)*(1-c/2)\n",
    "    \n",
    "    return 1 + (B + C - D/E)/A\n",
    "\n",
    "#    Estimate sigma for a set of masses\n",
    "\n",
    "def estimate_sigma(M, z, g_squared, Omega_m0=0.3, Gamma=0.2, sigma_8=0.8):\n",
    "    \n",
    "    # vdb A9\n",
    "    u = func_u(Gamma, M, Omega_m0)\n",
    "    u_8 = func_u_8(Gamma)\n",
    "    \n",
    "    # vdb A10\n",
    "    f = func_f(u)\n",
    "    f_8 = func_f(u_8)\n",
    "    \n",
    "    # vdb A8\n",
    "    sigma = func_sigma(sigma_8, f, f_8)\n",
    "    \n",
    "    return sigma\n",
    "\n",
    "#    Estimate delta_c for a set of masses\n",
    "\n",
    "def estimate_delta_c(M, z, g_squared, Gamma=0.2, Omega_m0=0.3, Omega_L0=0.7):\n",
    "    \n",
    "    # Redshift/model dependant parameters\n",
    "    Omega = func_Omega(z, Omega_m0, g_squared)\n",
    "    Omega_L = func_Omega_L(Omega_L0, g_squared)\n",
    "    \n",
    "    # vdb A3\n",
    "    p = func_p(Omega_m0, Omega_L0)\n",
    "    \n",
    "    # Allevato code\n",
    "    D1 = func_D(Omega, Omega_L) / (1 + z)\n",
    "    D0 = func_D(Omega_m0, Omega_L0)\n",
    "    D = D1/D0\n",
    "    \n",
    "    delta_0_crit = func_delta_0_crit(Omega, p)\n",
    "    # TODO: remove\n",
    "    delta_0_crit = 1.686\n",
    "    delta_c = func_delta_c(delta_0_crit, D)\n",
    "    \n",
    "    return (delta_c, delta_0_crit)\n",
    "\n",
    "#Estimate the bias Sheth + 2001\n",
    "\n",
    "def estimate_bias(M, z, g_squared, Gamma=0.2, Omega_m0=0.3, Omega_L0=0.7, sigma_8=0.8):\n",
    "    sigma = estimate_sigma(M, z, g_squared, Omega_m0, Gamma, sigma_8)\n",
    "    delta_c, delta_0_crit = estimate_delta_c(M, z, g_squared, Gamma, Omega_m0, Omega_L0)\n",
    "    \n",
    "    nu = delta_c / sigma\n",
    "    \n",
    "    return func_b_eul(nu, delta_0_crit)\n",
    "\n",
    "#Estimate the bias Tinker + 2005\n",
    "\n",
    "def estimate_biasTin(M, z, g_squared, Gamma=0.2, Omega_m0=0.3, Omega_L0=0.7, sigma_8=0.8):\n",
    "    sigma = estimate_sigma(M, z, g_squared, Omega_m0, Gamma, sigma_8)\n",
    "    delta_c, delta_0_crit = estimate_delta_c(M, z, g_squared, Gamma, Omega_m0, Omega_L0)\n",
    "    \n",
    "    nu = delta_c / sigma\n",
    "    \n",
    "    return func_b_eulTin(nu, delta_0_crit)\n"
   ]
  },
  {
   "cell_type": "code",
   "execution_count": 13,
   "metadata": {},
   "outputs": [],
   "source": [
    "def NHfunc(lgLx,z,lgNH):\n",
    "    \n",
    "    ximin = 0.2\n",
    "    ximax = 0.84\n",
    "    xi0_4375 = 0.43\n",
    "    a1 = 0.48\n",
    "    eps = 1.7\n",
    "    fctk = 1.\n",
    "    beta = 0.24\n",
    "\n",
    "    xi_4375 =  (xi0_4375*(1.+z)**a1)-beta*(lgLx-43.75)\n",
    "    \n",
    "    max_ = max(xi_4375,ximin)\n",
    "    xi = min(ximax,max_)\n",
    "\n",
    "    fra = (1.+eps)/(3.+eps)\n",
    "\n",
    "    f = np.ones(len(lgNH))\n",
    "    flag = np.zeros(len(lgNH))\n",
    "    flag1 = np.zeros(len(lgNH))\n",
    "    flag2 = np.zeros(len(lgNH))\n",
    "    flag3 = np.zeros(len(lgNH))\n",
    "    flag4 = np.zeros(len(lgNH))\n",
    "\n",
    "\n",
    "    \n",
    "    flag = np.where((lgNH<21) & (lgNH>=20))\n",
    "    flag1 = np.where((lgNH<22) & (lgNH>=21))\n",
    "    flag2 = np.where((lgNH<23) & (lgNH>=22))\n",
    "    flag3 = np.where((lgNH<24) & (lgNH>=23))\n",
    "    flag4 = np.where((lgNH<26) & (lgNH>=24))\n",
    "\n",
    "    if xi < fra:\n",
    "        f[flag] = 1.-((2.+eps)/(1.+eps))*xi\n",
    "        f[flag1] = (1./(1.+eps))*xi\n",
    "        f[flag2] = (1./(1.+eps))*xi\n",
    "        f[flag3] = (eps/(1.+eps))*xi\n",
    "        f[flag4] = (fctk/2.)*xi\n",
    "    else:\n",
    "        f[flag] = (2./3.)-((3.+2*eps)/(3.+3*eps))*xi\n",
    "        f[flag1] = (1./3.)-(eps/(3.+3*eps))*xi\n",
    "        f[flag2] = (1./(1.+eps))*xi\n",
    "        f[flag3] = (eps/(1.+eps))*xi\n",
    "        f[flag4] = (fctk/2.)*xi\n",
    "\n",
    "        \n",
    "    #print xi,lgLx,z,fra\n",
    "    #print f\n",
    "    return f;"
   ]
  },
  {
   "cell_type": "code",
   "execution_count": 14,
   "metadata": {},
   "outputs": [],
   "source": [
    "def lumfun(Lx,z):\n",
    "    A = (2.91*10.**(-6.))#*(0.7**3.)\n",
    "    lgLstar = 43.97\n",
    "    gamma1 = 0.96\n",
    "    gamma2 = 2.71\n",
    "    p1star = 4.78\n",
    "    beta1 = 0.84\n",
    "    zc1star = 1.86\n",
    "    lgLa1 = 44.61\n",
    "    lgLa2 = 44.\n",
    "    zc2star = 3.\n",
    "    alpha1 = 0.29\n",
    "    alpha2 = -0.1\n",
    "    lgLp=44.\n",
    "    p2 = -1.5\n",
    "    p3 = -6.2\n",
    " \n",
    " \n",
    " \n",
    "    phi0 = np.ones(len(Lx))\n",
    "    flag18_1 = np.ones(len(Lx))\n",
    "    flag18_2 = np.ones(len(Lx))\n",
    "    flag19_2 = np.ones(len(Lx))    \n",
    "    flag19_1 = np.ones(len(Lx))\n",
    "    zc1 =  np.ones(len(Lx))\n",
    "    zc2 =  np.ones(len(Lx))\n",
    "    p1 =  np.ones(len(Lx))\n",
    "    e =  np.ones(len(Lx))\n",
    "    phi =  np.ones(len(Lx))\n",
    "    dphidlgLx = np.ones(len(Lx))\n",
    "\n",
    "    \n",
    "    phi0 = A/((Lx/(10.**lgLstar))**gamma1 + (Lx/(10.**lgLstar))**gamma2)\n",
    "\n",
    "    flag18_1 = np.where(Lx <= 10.**lgLa1)\n",
    "    flag18_2 = np.where(Lx > 10.**lgLa1)\n",
    "    flag19_1 = np.where(Lx <= 10.**lgLa2)\n",
    "    flag19_2 = np.where(Lx > 10.**lgLa2)\n",
    "\n",
    "    zc1[flag18_1] = zc1star * (Lx/(10.**(lgLa1)))**alpha1\n",
    "    zc1[flag18_2] = zc1star\n",
    "\n",
    "    #print zc1\n",
    "    zc2[flag19_1] = zc2star * ((Lx/10.**(lgLa2)))**alpha2\n",
    "    zc2[flag19_2] = zc2star\n",
    "\n",
    "    #print zc2\n",
    "\n",
    "    p1 = p1star + beta1*(np.log10(Lx)-lgLp)\n",
    "\n",
    "    for i in range(len(Lx)):\n",
    "        \n",
    "        if z<=zc1[i]:\n",
    "           e[i] = (1.+z)**p1[i]\n",
    "        elif (z <=zc2[i]) & (z>zc1[i]):\n",
    "           e[i] = ((1.+zc1[i])**p1[i])*((1.+z)/(1.+zc1[i]))**p2\n",
    "        else:\n",
    "           e[i] = ((1.+zc1[i])**p1[i])*(((1.+zc2[i])/(1.+zc1[i]))**p2)*(((1.+z)/(1.+zc2[i])))**p3\n",
    "        \n",
    "\n",
    "    phi = phi0  * e\n",
    "    return phi;"
   ]
  },
  {
   "cell_type": "code",
   "execution_count": 15,
   "metadata": {},
   "outputs": [],
   "source": [
    "def SFR(z,Mstar):\n",
    "    #adopt Tomczak+16\n",
    "\n",
    "    s0=0.195+1.157*z-0.143*z**2.\n",
    "    gam=1.118\n",
    "    M0=9.244+0.753*z-0.090*z**2.\n",
    "                                                \n",
    "    return np.log10(10.**(s0-np.log10(1.+(10.**(Mstar-M0))**(-gam))))+np.random.normal(0.,0.25,len(Mstar))+np.random.normal(0.,0.25,len(Mstar))\n"
   ]
  },
  {
   "cell_type": "code",
   "execution_count": 16,
   "metadata": {},
   "outputs": [],
   "source": [
    "# Read cvs file from MultiDark simulations at z=0.1. \n",
    "\n",
    "data = np.load(\"MD_0.1.npy\") \n",
    "upId = data[\"upId\"]\n",
    "rockstarId = data[\"rockstarId\"]\n",
    "x = data[\"x\"]\n",
    "y = data[\"y\"]\n",
    "z = data[\"z\"]\n",
    "MVir = data[\"Mvir\"]\n",
    "MVir_inf = data[\"First_Acc_Scale\"]\n",
    "accsca = data[\"First_Acc_Mvir\"]\n",
    "\n"
   ]
  },
  {
   "cell_type": "code",
   "execution_count": 17,
   "metadata": {},
   "outputs": [
    {
     "name": "stdout",
     "output_type": "stream",
     "text": [
      "[0.11731844 0.11731844 0.11731844 ... 0.11731844 0.11731844 0.11731844]\n"
     ]
    }
   ],
   "source": [
    "lgMVir = np.log10(MVir/0.7)\n",
    "lgMVir_inf = np.log10(MVir_inf/0.7)\n",
    "red = (1.-accsca)/accsca\n",
    "print red"
   ]
  },
  {
   "cell_type": "code",
   "execution_count": 18,
   "metadata": {},
   "outputs": [
    {
     "name": "stdout",
     "output_type": "stream",
     "text": [
      "... sorting list w.r.t. upId\n",
      "... copying all 113798486 elements with upid = -1\n",
      "... sorting remaining list list w.r.t. rockstarId\n",
      "... copying remaining 16609467 elements\n"
     ]
    }
   ],
   "source": [
    "#Assign parent halo mass to satellites (idh = 1). For centrals idh = 0\n",
    "lgMVir_par = np.zeros_like(lgMVir)\n",
    "idh = np.zeros_like(lgMVir)\n",
    "red = np.zeros_like(lgMVir)\n",
    "lgMfof = np.zeros_like(lgMVir)\n",
    "#lgMfof = lgMVir - np.log10(0.974)\n",
    "### copy elements with upid = -1\n",
    "\n",
    "print '... sorting list w.r.t. upId'\n",
    "inds       = upId.argsort()\n",
    "upId       = upId[inds]\n",
    "rockstarId = rockstarId[inds]\n",
    "lgMVir     = lgMVir[inds]\n",
    "#lgMfof = lgMfof[inds]\n",
    "lgMVir_inf = lgMVir_inf[inds]\n",
    "red = red[inds]\n",
    "ind0 = np.searchsorted(upId, 0)\n",
    "x = x[inds]\n",
    "y = y[inds]\n",
    "z = z[inds]\n",
    "\n",
    "\n",
    "print '... copying all '+str(ind0)+ ' elements with upid = -1'\n",
    "\n",
    "lgMVir_par[:ind0] = lgMVir[:ind0]\n",
    "idh [:ind0] = 0\n",
    "\n",
    "### copy all other elements\n",
    "\n",
    "print '... sorting remaining list list w.r.t. rockstarId'\n",
    "\n",
    "upId_cut       = upId[ind0:]\n",
    "rockstarId_cut = rockstarId[:ind0]\n",
    "lgMVir_cut     = lgMVir[:ind0]\n",
    "\n",
    "inds           = rockstarId_cut.argsort()\n",
    "rockstarId_cut = rockstarId_cut[inds]\n",
    "lgMVir_cut     = lgMVir_cut[inds]\n",
    "\n",
    "print '... copying remaining '+str(len(upId)-ind0)+ ' elements'\n",
    "\n",
    "inds = np.searchsorted(rockstarId_cut, upId_cut)\n",
    "lgMVir_par[ind0:] = lgMVir_cut[inds]\n",
    "idh[ind0:] = 1\n",
    "\n",
    "\n",
    "\n"
   ]
  },
  {
   "cell_type": "code",
   "execution_count": 19,
   "metadata": {},
   "outputs": [],
   "source": [
    "#Assign stellar masses following Grylls + 2019\n",
    "\n",
    "lgMstar = np.zeros(len(lgMVir))\n",
    "flagsat = np.where(idh > 0)\n",
    "flagcen = np.where(idh < 1)\n",
    "\n",
    "lgMstar[flagsat] = Grylls19(red[flagsat],lgMVir_inf[flagsat])\n",
    "lgMstar[flagcen] = Grylls19(0.1,lgMVir[flagcen])\n"
   ]
  },
  {
   "cell_type": "code",
   "execution_count": 20,
   "metadata": {},
   "outputs": [],
   "source": [
    "\n",
    "lgMstarbin = np.arange(9.,13.,0.1)\n",
    "lgMstarbins =  np.ones(len(lgMstarbin)-1)\n",
    "Nobs =  np.ones(len(lgMstarbin)-1)\n",
    "err =  np.ones(len(lgMstarbin)-1)\n",
    "Nobssat =  np.ones(len(lgMstarbin)-1)\n",
    "Nobscen =  np.ones(len(lgMstarbin)-1)\n",
    "\n",
    "\n",
    "\n",
    "volume = (1000./0.7)**3.\n",
    "binsize = 0.1\n",
    "\n",
    "\n",
    "\n",
    "for i in range(len(lgMstarbin)-1):\n",
    "    N = np.where((lgMstar >= lgMstarbin[i]) & (lgMstar < lgMstarbin[i+1]))\n",
    "    lgMstarbins[i] = (lgMstarbin[i]+lgMstarbin[i+1])/2.\n",
    "    Nobs[i] = ((len(N[0])) /  (volume)) /binsize\n",
    "    err[i] = ((1.+np.sqrt(len(N[0])+0.75))/(volume))/binsize\n",
    "\n",
    "    N = np.where((lgMstar[flagsat] >= lgMstarbin[i]) & (lgMstar[flagsat] < lgMstarbin[i+1]))\n",
    "    Nobssat[i] = ((len(N[0])) /  (volume)) /binsize\n",
    "    N = np.where((lgMstar[flagcen] >= lgMstarbin[i]) & (lgMstar[flagcen] < lgMstarbin[i+1]))\n",
    "    Nobscen[i] = ((len(N[0])) /  (volume)) /binsize\n",
    "\n",
    "\n",
    "\n"
   ]
  },
  {
   "cell_type": "code",
   "execution_count": 51,
   "metadata": {},
   "outputs": [
    {
     "name": "stderr",
     "output_type": "stream",
     "text": [
      "/astro/home/viola.allevato/anaconda2/lib/python2.7/site-packages/ipykernel_launcher.py:3: RuntimeWarning: divide by zero encountered in log10\n",
      "  This is separate from the ipykernel package so we can avoid doing imports until\n",
      "/astro/home/viola.allevato/anaconda2/lib/python2.7/site-packages/ipykernel_launcher.py:4: RuntimeWarning: divide by zero encountered in log10\n",
      "  after removing the cwd from sys.path.\n",
      "/astro/home/viola.allevato/anaconda2/lib/python2.7/site-packages/ipykernel_launcher.py:5: RuntimeWarning: divide by zero encountered in log10\n",
      "  \"\"\"\n"
     ]
    },
    {
     "data": {
      "image/png": "[encoded data removed]",
      "text/plain": [
       "<Figure size 432x288 with 1 Axes>"
      ]
     },
     "metadata": {
      "needs_background": "light"
     },
     "output_type": "display_data"
    }
   ],
   "source": [
    "MstarSDSS, phiSDSS = np.loadtxt('z0.1/SDSSMF.txt',skiprows=0,usecols=(0,1),unpack=True)\n",
    "\n",
    "plt.plot(lgMstarbins,np.log10(Nobs),color='lightblue',linewidth=4.5,label='Total')\n",
    "plt.plot(lgMstarbins,np.log10(Nobssat),color='blue',linewidth=2.5,linestyle='--',label='Satellites')\n",
    "plt.plot(lgMstarbins,np.log10(Nobscen),color='red',linewidth=2.5,linestyle=':',label='Centrals')\n",
    "\n",
    "\n",
    "plt.errorbar(MstarSDSS,phiSDSS,yerr=0.1,color='black',fmt='o',label='SDSS Total')\n",
    "\n",
    "legend = plt.legend(loc='upper right', shadow=False, frameon=False)\n",
    "plt.text(9.2, -1.4, r'z = 0.1')\n",
    "#plt.plot(t, y, ls='--', color='r', linewidth=2)\n",
    "\n",
    "plt.xlabel(r'log M$_{star}$ [M$_{\\odot}$]',fontsize=20)\n",
    "plt.ylabel(r'd log $\\Phi$(M$_{star}$) [Mpc$^{-3}$ dex$^{-1}$]',fontsize=20)\n",
    "plt.axis([9., 13., -7,-1])\n",
    "\n",
    "#plt.savefig(\"z0.1/MstarMFz0.1satcenall.eps\")\n",
    "plt.show()\n",
    "plt.close()"
   ]
  },
  {
   "cell_type": "code",
   "execution_count": 21,
   "metadata": {},
   "outputs": [],
   "source": [
    "# Assign BH mass according to Eq5 inclusive of scatter\n",
    "g_squared = func_g_squared(0.1, Omega_m0, Omega_L0)\n",
    "\n",
    "b = np.zeros(len(lgMVir_par))\n",
    "b = estimate_bias(((10.**lgMVir_par)*0.7), 0.1, g_squared)\n"
   ]
  },
  {
   "cell_type": "code",
   "execution_count": 22,
   "metadata": {},
   "outputs": [],
   "source": [
    "#Assign BH masses following Eq 5 Shankar + 2019\n",
    "BhMass = AssignBHMass_EQ5(lgMstar)"
   ]
  },
  {
   "cell_type": "code",
   "execution_count": 23,
   "metadata": {},
   "outputs": [],
   "source": [
    "logSFR = SFR(0.1,BhMass)"
   ]
  },
  {
   "cell_type": "code",
   "execution_count": 22,
   "metadata": {},
   "outputs": [],
   "source": [
    "Ledd5=1.28e38*(10.**BhMass)\n",
    "\n",
    "\n",
    "eddbin1 = np.arange(-4.,0.,0.001,dtype=float)\n",
    "\n",
    "#Assign Edd ratio following a Gaussian with mean  = -1.8, sigma = 0.5\n",
    "\n",
    "\n",
    "probg = gaussian(eddbin1,1,-2.,0.5)\n",
    "p = probg*(10.**0.001)\n",
    "r_prob = p[::-1]\n",
    "probcum = np.cumsum(r_prob)\n",
    "r_probcum = probcum[::-1]\n",
    "yyg = r_probcum/r_probcum[0]\n",
    "yyg = yyg[::-1]\n",
    "eddbin1 = eddbin1[::-1]\n",
    "a5 = np.random.random(len(BhMass))\n",
    "\n",
    "lgedd5gau1a = np.interp(a5,yyg,eddbin1,right=-99)\n",
    "\n",
    "\n",
    "edd5gau1a = 10.**lgedd5gau1a\n",
    "\n",
    "\n",
    "#Bolometric L\n",
    "Lbol5gau1a = (edd5gau1a)*Ledd5\n",
    "lgLbol5gau1a = np.log10(Lbol5gau1a)-33.49\n",
    "lglum5gau1a = lgLbol5gau1a - 1.54 - (0.24*(lgLbol5gau1a-12.)) - (0.012*((lgLbol5gau1a-12.)**2.)) + (0.0015*((lgLbol5gau1a-12.)**3.))\n",
    "lglum5gau1a = lglum5gau1a  + 33.49\n",
    "lgLbol5gau1a = lgLbol5gau1a  + 33.49\n",
    "\n",
    "\n"
   ]
  },
  {
   "cell_type": "code",
   "execution_count": 23,
   "metadata": {},
   "outputs": [],
   "source": [
    "Ledd5=1.28e38*(10.**BhMass)\n",
    "\n",
    "\n",
    "eddbin1 = np.arange(-4.,0.,0.001,dtype=float)\n",
    "\n",
    "#Assign Edd ratio following a Gaussian with mean  = -1.8, sigma = 0.5\n",
    "\n",
    "\n",
    "probg = gaussian(eddbin1,1,-2.,1.)\n",
    "p = probg*(10.**0.001)\n",
    "r_prob = p[::-1]\n",
    "probcum = np.cumsum(r_prob)\n",
    "r_probcum = probcum[::-1]\n",
    "yyg = r_probcum/r_probcum[0]\n",
    "yyg = yyg[::-1]\n",
    "eddbin1 = eddbin1[::-1]\n",
    "a5 = np.random.random(len(BhMass))\n",
    "\n",
    "lgedd5gau1b = np.interp(a5,yyg,eddbin1,right=-99)\n",
    "\n",
    "\n",
    "edd5gau1b = 10.**lgedd5gau1b\n",
    "\n",
    "\n",
    "#Bolometric L\n",
    "Lbol5gau1b = (edd5gau1b)*Ledd5\n",
    "lgLbol5gau1b = np.log10(Lbol5gau1b)-33.49\n",
    "lglum5gau1b = lgLbol5gau1b - 1.54 - (0.24*(lgLbol5gau1b-12.)) - (0.012*((lgLbol5gau1b-12.)**2.)) + (0.0015*((lgLbol5gau1b-12.)**3.))\n",
    "lglum5gau1b = lglum5gau1b  + 33.49\n",
    "lgLbol5gau1b = lgLbol5gau1b  + 33.49"
   ]
  },
  {
   "cell_type": "code",
   "execution_count": 24,
   "metadata": {},
   "outputs": [],
   "source": [
    "Ledd5=1.28e38*(10.**BhMass)\n",
    "\n",
    "\n",
    "eddbin1 = np.arange(-4.,0.,0.001,dtype=float)\n",
    "\n",
    "#Assign Edd ratio following a Gaussian with mean  = -1.8, sigma = 0.5\n",
    "\n",
    "\n",
    "probg = gaussian(eddbin1,1,-2.,1.5)\n",
    "p = probg*(10.**0.001)\n",
    "r_prob = p[::-1]\n",
    "probcum = np.cumsum(r_prob)\n",
    "r_probcum = probcum[::-1]\n",
    "yyg = r_probcum/r_probcum[0]\n",
    "yyg = yyg[::-1]\n",
    "eddbin1 = eddbin1[::-1]\n",
    "a5 = np.random.random(len(BhMass))\n",
    "\n",
    "lgedd5gau1c = np.interp(a5,yyg,eddbin1,right=-99)\n",
    "\n",
    "\n",
    "edd5gau1c = 10.**lgedd5gau1c\n",
    "\n",
    "\n",
    "#Bolometric L\n",
    "Lbol5gau1c = (edd5gau1c)*Ledd5\n",
    "lgLbol5gau1c = np.log10(Lbol5gau1c)-33.49\n",
    "lglum5gau1c = lgLbol5gau1c - 1.54 - (0.24*(lgLbol5gau1c-12.)) - (0.012*((lgLbol5gau1c-12.)**2.)) + (0.0015*((lgLbol5gau1c-12.)**3.))\n",
    "lglum5gau1c = lglum5gau1c  + 33.49\n",
    "lgLbol5gau1c = lgLbol5gau1c  + 33.49"
   ]
  },
  {
   "cell_type": "code",
   "execution_count": 25,
   "metadata": {},
   "outputs": [],
   "source": [
    "Ledd5=1.28e38*(10.**BhMass)\n",
    "\n",
    "\n",
    "eddbin1 = np.arange(-4.,0.,0.001,dtype=float)\n",
    "\n",
    "#Assign Edd ratio following a Gaussian with mean  = -1.8, sigma = 0.5\n",
    "\n",
    "\n",
    "probg = gaussian(eddbin1,1,-2.,0.5)\n",
    "p = probg*(10.**0.001)\n",
    "r_prob = p[::-1]\n",
    "probcum = np.cumsum(r_prob)\n",
    "r_probcum = probcum[::-1]\n",
    "yyg = r_probcum/r_probcum[0]\n",
    "yyg = yyg[::-1]\n",
    "eddbin1 = eddbin1[::-1]\n",
    "a5 = np.random.random(len(BhMass))\n",
    "\n",
    "lgedd5gau2a = np.interp(a5,yyg,eddbin1,right=-99)\n",
    "\n",
    "\n",
    "edd5gau2a = 10.**lgedd5gau2a\n",
    "\n",
    "\n",
    "#Bolometric L\n",
    "Lbol5gau2a = (edd5gau2a)*Ledd5\n",
    "lgLbol5gau2a = np.log10(Lbol5gau2a)-33.49\n",
    "lglum5gau2a = lgLbol5gau2a - 1.54 - (0.24*(lgLbol5gau2a-12.)) - (0.012*((lgLbol5gau2a-12.)**2.)) + (0.0015*((lgLbol5gau2a-12.)**3.))\n",
    "lglum5gau2a = lglum5gau2a  + 33.49\n",
    "lgLbol5gau2a = lgLbol5gau2a  + 33.49\n",
    "\n",
    "\n",
    "\n",
    "\n"
   ]
  },
  {
   "cell_type": "code",
   "execution_count": 24,
   "metadata": {},
   "outputs": [],
   "source": [
    "Ledd5=1.28e38*(10.**BhMass)\n",
    "\n",
    "\n",
    "eddbin1 = np.arange(-4.,0.,0.001,dtype=float)\n",
    "\n",
    "#Assign Edd ratio following a Gaussian with mean  = -1.8, sigma = 0.5\n",
    "\n",
    "\n",
    "probg = gaussian(eddbin1,1,-2.,0.2)\n",
    "p = probg*(10.**0.001)\n",
    "r_prob = p[::-1]\n",
    "probcum = np.cumsum(r_prob)\n",
    "r_probcum = probcum[::-1]\n",
    "yyg = r_probcum/r_probcum[0]\n",
    "yyg = yyg[::-1]\n",
    "eddbin1 = eddbin1[::-1]\n",
    "a5 = np.random.random(len(BhMass))\n",
    "\n",
    "lgedd5gau2b = np.interp(a5,yyg,eddbin1,right=-99)\n",
    "\n",
    "\n",
    "edd5gau2b = 10.**lgedd5gau2b\n",
    "\n",
    "\n",
    "#Bolometric L\n",
    "Lbol5gau2b = (edd5gau2b)*Ledd5\n",
    "lgLbol5gau2b = np.log10(Lbol5gau2b)-33.49\n",
    "lglum5gau2b = lgLbol5gau2b - 1.54 - (0.24*(lgLbol5gau2b-12.)) - (0.012*((lgLbol5gau2b-12.)**2.)) + (0.0015*((lgLbol5gau2b-12.)**3.))\n",
    "lglum5gau2b = lglum5gau2b  + 33.49\n",
    "lgLbol5gau2b = lgLbol5gau2b  + 33.49\n",
    "\n"
   ]
  },
  {
   "cell_type": "code",
   "execution_count": 27,
   "metadata": {},
   "outputs": [],
   "source": [
    "Ledd5=1.28e38*(10.**BhMass)\n",
    "\n",
    "\n",
    "eddbin1 = np.arange(-4.,0.,0.001,dtype=float)\n",
    "\n",
    "#Assign Edd ratio following a Gaussian with mean  = -1.8, sigma = 0.5\n",
    "\n",
    "\n",
    "probg = gaussian(eddbin1,1,-1.,1.5)\n",
    "p = probg*(10.**0.001)\n",
    "r_prob = p[::-1]\n",
    "probcum = np.cumsum(r_prob)\n",
    "r_probcum = probcum[::-1]\n",
    "yyg = r_probcum/r_probcum[0]\n",
    "yyg = yyg[::-1]\n",
    "eddbin1 = eddbin1[::-1]\n",
    "a5 = np.random.random(len(BhMass))\n",
    "\n",
    "lgedd5gau2c = np.interp(a5,yyg,eddbin1,right=-99)\n",
    "\n",
    "\n",
    "edd5gau2c = 10.**lgedd5gau2c\n",
    "\n",
    "\n",
    "#Bolometric L\n",
    "Lbol5gau2c = (edd5gau2c)*Ledd5\n",
    "lgLbol5gau2c = np.log10(Lbol5gau2c)-33.49\n",
    "lglum5gau2c = lgLbol5gau2c - 1.54 - (0.24*(lgLbol5gau2c-12.)) - (0.012*((lgLbol5gau2c-12.)**2.)) + (0.0015*((lgLbol5gau2c-12.)**3.))\n",
    "lglum5gau2c = lglum5gau2c  + 33.49\n",
    "lgLbol5gau2c = lgLbol5gau2c  + 33.49\n",
    "\n"
   ]
  },
  {
   "cell_type": "code",
   "execution_count": 28,
   "metadata": {},
   "outputs": [],
   "source": [
    "Ledd5=1.28e38*(10.**BhMass)\n",
    "\n",
    "\n",
    "eddbin1 = np.arange(-4.,0.,0.001,dtype=float)\n",
    "\n",
    "#Assign Edd ratio following a Gaussian with mean  = -1.8, sigma = 0.5\n",
    "\n",
    "\n",
    "probg = gaussian(eddbin1,1,-1.5,0.5)\n",
    "p = probg*(10.**0.001)\n",
    "r_prob = p[::-1]\n",
    "probcum = np.cumsum(r_prob)\n",
    "r_probcum = probcum[::-1]\n",
    "yyg = r_probcum/r_probcum[0]\n",
    "yyg = yyg[::-1]\n",
    "eddbin1 = eddbin1[::-1]\n",
    "a5 = np.random.random(len(BhMass))\n",
    "\n",
    "lgedd5gau3a = np.interp(a5,yyg,eddbin1,right=-99)\n",
    "\n",
    "\n",
    "edd5gau3a = 10.**lgedd5gau3a\n",
    "\n",
    "\n",
    "#Bolometric L\n",
    "Lbol5gau3a = (edd5gau3a)*Ledd5\n",
    "lgLbol5gau3a = np.log10(Lbol5gau3a)-33.49\n",
    "lglum5gau3a = lgLbol5gau3a - 1.54 - (0.24*(lgLbol5gau3a-12.)) - (0.012*((lgLbol5gau3a-12.)**2.)) + (0.0015*((lgLbol5gau3a-12.)**3.))\n",
    "lglum5gau3a = lglum5gau3a  + 33.49\n",
    "lgLbol5gau3a = lgLbol5gau3a  + 33.49\n",
    "\n"
   ]
  },
  {
   "cell_type": "code",
   "execution_count": 29,
   "metadata": {},
   "outputs": [],
   "source": [
    "Ledd5=1.28e38*(10.**BhMass)\n",
    "\n",
    "\n",
    "eddbin1 = np.arange(-4.,0.,0.001,dtype=float)\n",
    "\n",
    "#Assign Edd ratio following a Gaussian with mean  = -1.8, sigma = 0.5\n",
    "\n",
    "\n",
    "probg = gaussian(eddbin1,1,-1.5,1.)\n",
    "p = probg*(10.**0.001)\n",
    "r_prob = p[::-1]\n",
    "probcum = np.cumsum(r_prob)\n",
    "r_probcum = probcum[::-1]\n",
    "yyg = r_probcum/r_probcum[0]\n",
    "yyg = yyg[::-1]\n",
    "eddbin1 = eddbin1[::-1]\n",
    "a5 = np.random.random(len(BhMass))\n",
    "\n",
    "lgedd5gau3b = np.interp(a5,yyg,eddbin1,right=-99)\n",
    "\n",
    "\n",
    "edd5gau3b = 10.**lgedd5gau3b\n",
    "\n",
    "\n",
    "#Bolometric L\n",
    "Lbol5gau3b = (edd5gau3b)*Ledd5\n",
    "lgLbol5gau3b = np.log10(Lbol5gau3b)-33.49\n",
    "lglum5gau3b = lgLbol5gau3b - 1.54 - (0.24*(lgLbol5gau3b-12.)) - (0.012*((lgLbol5gau3b-12.)**2.)) + (0.0015*((lgLbol5gau3b-12.)**3.))\n",
    "lglum5gau3b = lglum5gau3b  + 33.49\n",
    "lgLbol5gau3b = lgLbol5gau3b  + 33.49\n",
    "\n"
   ]
  },
  {
   "cell_type": "code",
   "execution_count": 30,
   "metadata": {},
   "outputs": [],
   "source": [
    "Ledd5=1.28e38*(10.**BhMass)\n",
    "\n",
    "\n",
    "eddbin1 = np.arange(-4.,0.,0.001,dtype=float)\n",
    "\n",
    "#Assign Edd ratio following a Gaussian with mean  = -1.8, sigma = 0.5\n",
    "\n",
    "\n",
    "probg = gaussian(eddbin1,1,-1.5,1.5)\n",
    "p = probg*(10.**0.001)\n",
    "r_prob = p[::-1]\n",
    "probcum = np.cumsum(r_prob)\n",
    "r_probcum = probcum[::-1]\n",
    "yyg = r_probcum/r_probcum[0]\n",
    "yyg = yyg[::-1]\n",
    "eddbin1 = eddbin1[::-1]\n",
    "a5 = np.random.random(len(BhMass))\n",
    "\n",
    "lgedd5gau3c = np.interp(a5,yyg,eddbin1,right=-99)\n",
    "\n",
    "\n",
    "edd5gau3c = 10.**lgedd5gau3c\n",
    "\n",
    "\n",
    "#Bolometric L\n",
    "Lbol5gau3c = (edd5gau3c)*Ledd5\n",
    "lgLbol5gau3c = np.log10(Lbol5gau3c)-33.49\n",
    "lglum5gau3c = lgLbol5gau3c - 1.54 - (0.24*(lgLbol5gau3c-12.)) - (0.012*((lgLbol5gau3c-12.)**2.)) + (0.0015*((lgLbol5gau3c-12.)**3.))\n",
    "lglum5gau3c = lglum5gau3c  + 33.49\n",
    "lgLbol5gau3c = lgLbol5gau3c  + 33.49\n",
    "\n"
   ]
  },
  {
   "cell_type": "code",
   "execution_count": 31,
   "metadata": {},
   "outputs": [],
   "source": [
    "Ledd5=1.28e38*(10.**BhMass)\n",
    "\n",
    "\n",
    "eddbin1 = np.arange(-4.,0.,0.001,dtype=float)\n",
    "\n",
    "#Assign Edd ratio following a Gaussian with mean  = -1.8, sigma = 0.5\n",
    "\n",
    "\n",
    "probg = Schefunc(10.**eddbin1,10.**(-1.),-1.,0.1)\n",
    "p = probg*(10.**0.001)\n",
    "r_prob = p[::-1]\n",
    "probcum = np.cumsum(r_prob)\n",
    "r_probcum = probcum[::-1]\n",
    "yyg = r_probcum/r_probcum[0]\n",
    "yyg = yyg[::-1]\n",
    "eddbin1 = eddbin1[::-1]\n",
    "a5 = np.random.random(len(BhMass))\n",
    "\n",
    "lgedd5Sch1a = np.interp(a5,yyg,eddbin1,right=-99)\n",
    "\n",
    "\n",
    "edd5Sch1a = 10.**lgedd5Sch1a\n",
    "\n",
    "\n",
    "#Bolometric L\n",
    "Lbol5Sch1a = (edd5Sch1a)*Ledd5\n",
    "lgLbol5Sch1a = np.log10(Lbol5Sch1a)-33.49\n",
    "lglum5Sch1a = lgLbol5Sch1a - 1.54 - (0.24*(lgLbol5Sch1a-12.)) - (0.012*((lgLbol5Sch1a-12.)**2.)) + (0.0015*((lgLbol5Sch1a-12.)**3.))\n",
    "lglum5Sch1a = lglum5Sch1a  + 33.49\n",
    "lgLbol5Sch1a = lgLbol5Sch1a  + 33.49\n",
    "\n",
    "\n",
    "\n"
   ]
  },
  {
   "cell_type": "code",
   "execution_count": 32,
   "metadata": {},
   "outputs": [],
   "source": [
    "Ledd5=1.28e38*(10.**BhMass)\n",
    "\n",
    "\n",
    "eddbin1 = np.arange(-4.,0.,0.001,dtype=float)\n",
    "\n",
    "#Assign Edd ratio following a Gaussian with mean  = -1.8, sigma = 0.5\n",
    "\n",
    "\n",
    "probg = Schefunc(10.**eddbin1,10.**(-1.),-0.7,0.1)\n",
    "p = probg*(10.**0.001)\n",
    "r_prob = p[::-1]\n",
    "probcum = np.cumsum(r_prob)\n",
    "r_probcum = probcum[::-1]\n",
    "yyg = r_probcum/r_probcum[0]\n",
    "yyg = yyg[::-1]\n",
    "eddbin1 = eddbin1[::-1]\n",
    "a5 = np.random.random(len(BhMass))\n",
    "\n",
    "lgedd5Sch1b = np.interp(a5,yyg,eddbin1,right=-99)\n",
    "\n",
    "\n",
    "edd5Sch1b = 10.**lgedd5Sch1b\n",
    "\n",
    "\n",
    "#Bolometric L\n",
    "Lbol5Sch1b = (edd5Sch1b)*Ledd5\n",
    "lgLbol5Sch1b = np.log10(Lbol5Sch1b)-33.49\n",
    "lglum5Sch1b = lgLbol5Sch1b - 1.54 - (0.24*(lgLbol5Sch1b-12.)) - (0.012*((lgLbol5Sch1b-12.)**2.)) + (0.0015*((lgLbol5Sch1b-12.)**3.))\n",
    "lglum5Sch1b = lglum5Sch1b  + 33.49\n",
    "lgLbol5Sch1b = lgLbol5Sch1b  + 33.49\n",
    "\n",
    "\n"
   ]
  },
  {
   "cell_type": "code",
   "execution_count": 33,
   "metadata": {},
   "outputs": [],
   "source": [
    "Ledd5=1.28e38*(10.**BhMass)\n",
    "\n",
    "\n",
    "eddbin1 = np.arange(-4.,0.,0.001,dtype=float)\n",
    "\n",
    "#Assign Edd ratio following a Gaussian with mean  = -1.8, sigma = 0.5\n",
    "\n",
    "\n",
    "probg = Schefunc(10.**eddbin1,10.**(-1.),-0.5,0.1)\n",
    "p = probg*(10.**0.001)\n",
    "r_prob = p[::-1]\n",
    "probcum = np.cumsum(r_prob)\n",
    "r_probcum = probcum[::-1]\n",
    "yyg = r_probcum/r_probcum[0]\n",
    "yyg = yyg[::-1]\n",
    "eddbin1 = eddbin1[::-1]\n",
    "a5 = np.random.random(len(BhMass))\n",
    "\n",
    "lgedd5Sch1c = np.interp(a5,yyg,eddbin1,right=-99)\n",
    "\n",
    "\n",
    "edd5Sch1c = 10.**lgedd5Sch1c\n",
    "\n",
    "\n",
    "#Bolometric L\n",
    "Lbol5Sch1c = (edd5Sch1c)*Ledd5\n",
    "lgLbol5Sch1c = np.log10(Lbol5Sch1c)-33.49\n",
    "lglum5Sch1c = lgLbol5Sch1c - 1.54 - (0.24*(lgLbol5Sch1c-12.)) - (0.012*((lgLbol5Sch1c-12.)**2.)) + (0.0015*((lgLbol5Sch1c-12.)**3.))\n",
    "lglum5Sch1c = lglum5Sch1c  + 33.49\n",
    "lgLbol5Sch1c = lgLbol5Sch1c  + 33.49\n",
    "\n",
    "\n"
   ]
  },
  {
   "cell_type": "code",
   "execution_count": 34,
   "metadata": {},
   "outputs": [],
   "source": [
    "Ledd5=1.28e38*(10.**BhMass)\n",
    "\n",
    "\n",
    "eddbin1 = np.arange(-4.,0.,0.001,dtype=float)\n",
    "\n",
    "#Assign Edd ratio following a Gaussian with mean  = -1.8, sigma = 0.5\n",
    "\n",
    "\n",
    "probg = Schefunc(10.**eddbin1,10.**(-1.5),-1.,0.1)\n",
    "p = probg*(10.**0.001)\n",
    "r_prob = p[::-1]\n",
    "probcum = np.cumsum(r_prob)\n",
    "r_probcum = probcum[::-1]\n",
    "yyg = r_probcum/r_probcum[0]\n",
    "yyg = yyg[::-1]\n",
    "eddbin1 = eddbin1[::-1]\n",
    "a5 = np.random.random(len(BhMass))\n",
    "\n",
    "lgedd5Sch2a = np.interp(a5,yyg,eddbin1,right=-99)\n",
    "\n",
    "\n",
    "edd5Sch2a = 10.**lgedd5Sch2a\n",
    "\n",
    "\n",
    "#Bolometric L\n",
    "Lbol5Sch2a = (edd5Sch2a)*Ledd5\n",
    "lgLbol5Sch2a = np.log10(Lbol5Sch2a)-33.49\n",
    "lglum5Sch2a = lgLbol5Sch2a - 1.54 - (0.24*(lgLbol5Sch2a-12.)) - (0.012*((lgLbol5Sch2a-12.)**2.)) + (0.0015*((lgLbol5Sch2a-12.)**3.))\n",
    "lglum5Sch2a = lglum5Sch2a  + 33.49\n",
    "lgLbol5Sch2a = lgLbol5Sch2a  + 33.49\n",
    "\n",
    "\n"
   ]
  },
  {
   "cell_type": "code",
   "execution_count": 49,
   "metadata": {},
   "outputs": [],
   "source": [
    "Ledd5=1.28e38*(10.**BhMass)\n",
    "\n",
    "\n",
    "eddbin1 = np.arange(-4.,0.,0.001,dtype=float)\n",
    "\n",
    "#Assign Edd ratio following a Gaussian with mean  = -1.8, sigma = 0.5\n",
    "\n",
    "\n",
    "probg = Schefunc(10.**eddbin1,10.**(-1.5),-0.7,0.1)\n",
    "p = probg*(10.**0.001)\n",
    "r_prob = p[::-1]\n",
    "probcum = np.cumsum(r_prob)\n",
    "r_probcum = probcum[::-1]\n",
    "yyg = r_probcum/r_probcum[0]\n",
    "yyg = yyg[::-1]\n",
    "eddbin1 = eddbin1[::-1]\n",
    "a5 = np.random.random(len(BhMass))\n",
    "\n",
    "lgedd5Sch2b = np.interp(a5,yyg,eddbin1,right=-99)\n",
    "\n",
    "\n",
    "edd5Sch2b = 10.**lgedd5Sch2b\n",
    "\n",
    "\n",
    "#Bolometric L\n",
    "Lbol5Sch2b = (edd5Sch2b)*Ledd5\n",
    "lgLbol5Sch2b = np.log10(Lbol5Sch2b)-33.49\n",
    "lglum5Sch2b = lgLbol5Sch2b - 1.54 - (0.24*(lgLbol5Sch2b-12.)) - (0.012*((lgLbol5Sch2b-12.)**2.)) + (0.0015*((lgLbol5Sch2b-12.)**3.))\n",
    "lglum5Sch2b = lglum5Sch2b  + 33.49\n",
    "lgLbol5Sch2b = lgLbol5Sch2b  + 33.49\n",
    "\n",
    "\n",
    "\n"
   ]
  },
  {
   "cell_type": "code",
   "execution_count": 66,
   "metadata": {},
   "outputs": [
    {
     "name": "stdout",
     "output_type": "stream",
     "text": [
      "14.352168690955345 46.66558855120941\n"
     ]
    }
   ],
   "source": [
    "print np.min(np.log10(Lbol5Sch2b)),np.max(np.log10(Lbol5Sch2b))"
   ]
  },
  {
   "cell_type": "code",
   "execution_count": 36,
   "metadata": {},
   "outputs": [],
   "source": [
    "Ledd5=1.28e38*(10.**BhMass)\n",
    "\n",
    "\n",
    "eddbin1 = np.arange(-4.,0.,0.001,dtype=float)\n",
    "\n",
    "#Assign Edd ratio following a Gaussian with mean  = -1.8, sigma = 0.5\n",
    "\n",
    "\n",
    "probg = Schefunc(10.**eddbin1,10.**(-1.5),-0.5,0.1)\n",
    "p = probg*(10.**0.001)\n",
    "r_prob = p[::-1]\n",
    "probcum = np.cumsum(r_prob)\n",
    "r_probcum = probcum[::-1]\n",
    "yyg = r_probcum/r_probcum[0]\n",
    "yyg = yyg[::-1]\n",
    "eddbin1 = eddbin1[::-1]\n",
    "a5 = np.random.random(len(BhMass))\n",
    "\n",
    "lgedd5Sch2c = np.interp(a5,yyg,eddbin1,right=-99)\n",
    "\n",
    "\n",
    "edd5Sch2c = 10.**lgedd5Sch2c\n",
    "\n",
    "\n",
    "#Bolometric L\n",
    "Lbol5Sch2c = (edd5Sch2c)*Ledd5\n",
    "lgLbol5Sch2c = np.log10(Lbol5Sch2c)-33.49\n",
    "lglum5Sch2c = lgLbol5Sch2c - 1.54 - (0.24*(lgLbol5Sch2c-12.)) - (0.012*((lgLbol5Sch2c-12.)**2.)) + (0.0015*((lgLbol5Sch2c-12.)**3.))\n",
    "lglum5Sch2c = lglum5Sch2c  + 33.49\n",
    "lgLbol5Sch2c = lgLbol5Sch2c  + 33.49\n",
    "\n"
   ]
  },
  {
   "cell_type": "code",
   "execution_count": 37,
   "metadata": {},
   "outputs": [],
   "source": [
    "lgMbhbin = np.arange(5.,11.,0.1)\n",
    "lgMbhbins =  np.ones(len(lgMbhbin)-1)\n",
    "\n",
    "BHMF =  np.ones(len(lgMbhbin))\n",
    "\n",
    "\n",
    "volume = (1000.)**3.\n",
    "binsize = 0.1\n",
    "\n",
    "for i in range(len(lgMbhbin)-1):\n",
    "    \n",
    "\n",
    "\n",
    "    N = np.where((BhMass >= lgMbhbin[i]) & (BhMass < lgMbhbin[i+1]))\n",
    "    lgMbhbins[i] = (lgMbhbin[i+1] + lgMbhbin[i])/2.\n",
    "    BHMF[i] = ((len(BhMass[N]))/(volume))/binsize\n"
   ]
  },
  {
   "cell_type": "code",
   "execution_count": 63,
   "metadata": {},
   "outputs": [
    {
     "name": "stderr",
     "output_type": "stream",
     "text": [
      "/astro/home/viola.allevato/anaconda2/lib/python2.7/site-packages/ipykernel_launcher.py:1: RuntimeWarning: divide by zero encountered in log10\n",
      "  \"\"\"Entry point for launching an IPython kernel.\n"
     ]
    },
    {
     "data": {
      "image/png": "[encoded data removed]",
      "text/plain": [
       "<Figure size 432x288 with 1 Axes>"
      ]
     },
     "metadata": {
      "needs_background": "light"
     },
     "output_type": "display_data"
    }
   ],
   "source": [
    "plt.plot(lgMbhbin,np.log10(BHMF),color='k',linewidth=5,label=r'EQ 5')\n",
    "\n",
    "legend = plt.legend(loc='upper left', shadow=False, frameon=False)\n",
    "\n",
    "plt.xlabel(r'log M$_{BH}$ [M$_{\\odot}$]')\n",
    "plt.ylabel(r'd log $\\Phi$(M$_{BH}$) [Mpc$^{-3}$ dex$^{-1}$]')\n",
    "plt.axis([6, 10.5, -6,-1])\n",
    "\n",
    "plt.savefig(\"z0.1/BHMFz0.1.eps\")\n",
    "plt.show()\n",
    "plt.close()"
   ]
  },
  {
   "cell_type": "code",
   "execution_count": 50,
   "metadata": {},
   "outputs": [],
   "source": [
    "cut5  = np.where( (lglum5Sch2b >= 42.) #& (lgMVir_par >= 10.)\n",
    "\n",
    "lgMhEQ5 = lgMVir_par[cut5]\n",
    "lgMstarEQ5 = lgMstar[cut5]\n",
    "lgMhsubEQ5 = lgMVir[cut5]\n",
    "xEQ5 = x#[cut5]\n",
    "yEQ5 = y#[cut5]\n",
    "zEQ5 = z#[cut5]\n",
    "BhMass_EQ5 = BhMass[cut5]\n",
    "lgMstarEQ5 = lgMstar[cut5]\n",
    "bEQ5 = b[cut5]\n",
    "#lglum5gau1acut = lglum5gau1a#[cut5]\n",
    "#lglum5gau1bcut = lglum5gau1b#[cut5]\n",
    "#lglum5gau1ccut = lglum5gau1c#[cut5]\n",
    "\n",
    "#lglum5Sch1acut = lglum5Sch1a#[cut5]\n",
    "#lglum5Sch1bcut = lglum5Sch1b#[cut5]\n",
    "#lglum5Sch1ccut = lglum5Sch1c#[cut5]\n",
    "\n",
    "#lglum5Sch2acut = lglum5Sch2a#[cut5]\n",
    "lglum5Sch2bcut = lglum5Sch2b[cut5]\n",
    "#lglum5Sch2ccut = lglum5Sch2c#[cut5]\n",
    "\n",
    "\n",
    "#lglum5gau2acut = lglum5gau2a#[cut5]\n",
    "lglum5gau2bcut = lglum5gau2b[cut5]\n",
    "#lglum5gau2ccut = lglum5gau2c#[cut5]\n",
    "\n",
    "#lglum5gau3acut = lglum5gau3a#[cut5]\n",
    "#lglum5gau3bcut = lglum5gau3b#[cut5]\n",
    "#lglum5gau3ccut = lglum5gau3c#[cut5]\n",
    "\n",
    "\n",
    "idh5 = idh[cut5]\n",
    "#lgedd5gau1acut = lgedd5gau1a#[cut5]\n",
    "#lgedd5gau1bcut = lgedd5gau1b#[cut5]\n",
    "#lgedd5gau1ccut = lgedd5gau1c#[cut5]\n",
    "\n",
    "#lgedd5Sch1acut = lgedd5Sch1a#[cut5]\n",
    "#lgedd5Sch1bcut = lgedd5Sch1b#[cut5]\n",
    "#lgedd5Sch1ccut = lgedd5Sch1c#[cut5]\n",
    "\n",
    "#lgedd5Sch2acut = lgedd5Sch2a#[cut5]\n",
    "#lgedd5Sch2bcut = lgedd5Sch2b[cut5]\n",
    "#lgedd5Sch2ccut = lgedd5Sch2c#[cut5]\n",
    "\n",
    "\n",
    "#lgedd5gau2acut = lgedd5gau2a#[cut5]\n",
    "#lgedd5gau2bcut = lgedd5gau2b#[cut5]\n",
    "##lgedd5gau2ccut = lgedd5gau2c#[cut5]\n",
    "\n",
    "#lgedd5gau3acut = lgedd5gau3a#[cut5]\n",
    "#lgedd5gau3bcut = lgedd5gau3b#[cut5]\n",
    "#lgedd5gau3ccut = lgedd5gau3c#[cut5]\n",
    "\n",
    "\n",
    "\n"
   ]
  },
  {
   "cell_type": "code",
   "execution_count": 29,
   "metadata": {},
   "outputs": [
    {
     "data": {
      "image/png": "[encoded data removed]",
      "text/plain": [
       "<Figure size 432x288 with 1 Axes>"
      ]
     },
     "metadata": {
      "needs_background": "light"
     },
     "output_type": "display_data"
    }
   ],
   "source": [
    "#pyplot.yscale('log',nonposy='clip')\n",
    "#plt.hist(lgedd5gaucut,bins=40,density=True,color='black',histtype = 'step')\n",
    "#plt.hist(lgedd5gau2acut,bins=40,density=True,color='blue',histtype = 'step')\n",
    "#plt.hist(lgedd5gau2acut,bins=40,density=True,color='red',histtype = 'step')\n",
    "#plt.hist(lgedd5gau2acut,bins=40,density=True,color='grey',histtype = 'step')\n",
    "\n",
    "plt.hist(lgedd5gau1acut,bins=40,density=True,color='blue',histtype = 'step',linestyle='--')\n",
    "plt.hist(lgedd5gau1bcut,bins=40,density=True,color='red',histtype = 'step',linestyle='--')\n",
    "plt.hist(lgedd5gau1ccut,bins=40,density=True,color='grey',histtype = 'step',linestyle='--')\n",
    "\n",
    "plt.hist(lgedd5gau3acut,bins=40,density=True,color='blue',histtype = 'step',linestyle=':')\n",
    "plt.hist(lgedd5gau3bcut,bins=40,density=True,color='red',histtype = 'step',linestyle=':')\n",
    "plt.hist(lgedd5gau3ccut,bins=40,density=True,color='grey',histtype = 'step',linestyle=':')\n",
    "\n",
    "\n",
    "\n",
    "plt.xlabel(r'log $\\lambda_{Edd}$')\n",
    "plt.ylabel(r'P($\\lambda_{Edd}$,z)')\n",
    "#handles = [Rectangle((0,0),1,1,facecolor=\"white\",ec=\"black\"),Rectangle((0,0),1,1,facecolor=\"white\",ec=\"blue\")]\n",
    "#labels= [\"Gaussian\", \"Schechter\"]\n",
    "#plt.legend(handles, labels,frameon=False,loc='upper right')\n",
    "#plt.axis([-1.5, 0.5, -6,-1])\n",
    "#plt.savefig(\"z0.1/edddistr.eps\")\n",
    "plt.show()\n",
    "plt.close()\n",
    "\n",
    "\n"
   ]
  },
  {
   "cell_type": "code",
   "execution_count": 33,
   "metadata": {},
   "outputs": [
    {
     "ename": "NameError",
     "evalue": "name 'lglum5cut' is not defined",
     "output_type": "error",
     "traceback": [
      "\u001b[0;31m---------------------------------------------------------------------------\u001b[0m",
      "\u001b[0;31mNameError\u001b[0m                                 Traceback (most recent call last)",
      "\u001b[0;32m<ipython-input-33-36956731518b>\u001b[0m in \u001b[0;36m<module>\u001b[0;34m()\u001b[0m\n\u001b[1;32m      6\u001b[0m \u001b[0mfLxzNH_cum\u001b[0m \u001b[0;34m=\u001b[0m \u001b[0mnp\u001b[0m\u001b[0;34m.\u001b[0m\u001b[0mones\u001b[0m\u001b[0;34m(\u001b[0m\u001b[0mlen\u001b[0m\u001b[0;34m(\u001b[0m\u001b[0mlgNH\u001b[0m\u001b[0;34m)\u001b[0m\u001b[0;34m)\u001b[0m\u001b[0;34m\u001b[0m\u001b[0m\n\u001b[1;32m      7\u001b[0m \u001b[0;34m\u001b[0m\u001b[0m\n\u001b[0;32m----> 8\u001b[0;31m \u001b[0mlgNHEQ5\u001b[0m \u001b[0;34m=\u001b[0m \u001b[0mnp\u001b[0m\u001b[0;34m.\u001b[0m\u001b[0mones\u001b[0m\u001b[0;34m(\u001b[0m\u001b[0mlen\u001b[0m\u001b[0;34m(\u001b[0m\u001b[0mlglum5cut\u001b[0m\u001b[0;34m)\u001b[0m\u001b[0;34m)\u001b[0m\u001b[0;34m\u001b[0m\u001b[0m\n\u001b[0m\u001b[1;32m      9\u001b[0m \u001b[0;34m\u001b[0m\u001b[0m\n\u001b[1;32m     10\u001b[0m \u001b[0;31m#z = 1.1 #redshift\u001b[0m\u001b[0;34m\u001b[0m\u001b[0;34m\u001b[0m\u001b[0m\n",
      "\u001b[0;31mNameError\u001b[0m: name 'lglum5cut' is not defined"
     ]
    }
   ],
   "source": [
    "#Assign NH values following Ueda et al.\n",
    "\n",
    "lgNH = np.arange(20.,26.,0.01)\n",
    "\n",
    "fLxzNH = np.ones(len(lgNH))\n",
    "fLxzNH_cum = np.ones(len(lgNH))\n",
    "\n",
    "lgNHEQ5 = np.ones(len(lglum5cut))\n",
    "\n",
    "#z = 1.1 #redshift\n",
    "\n",
    "lgLxbin = np.arange(42.,48.,0.01)\n",
    "\n",
    "\n",
    "for i in range(len(lgLxbin)-1):\n",
    "    \n",
    "    \n",
    "    flag  = np.where((lglum5cut >=lgLxbin[i]) & (lglum5cut < lgLxbin[i+1]))\n",
    "   \n",
    "    fLxzNH  = (NHfunc(lgLxbin[i],0.1,lgNH))\n",
    "    fLxzNH = fLxzNH*0.01\n",
    "    fLxzNH_= fLxzNH[::-1]\n",
    "    fLxzNH_cum = np.cumsum(fLxzNH_)\n",
    "    r_fLxzNH_cum  = fLxzNH_cum[::-1]\n",
    "    yy = r_fLxzNH_cum/ r_fLxzNH_cum[0]\n",
    "    yy = yy[::-1]\n",
    "    lgNH = lgNH[::-1]\n",
    "    a = random.random()\n",
    "    \n",
    "    lgNHEQ5[flag] = np.interp(a,yy,lgNH,right=-99)\n",
    "\n",
    "print (lgNHEQ5)"
   ]
  },
  {
   "cell_type": "code",
   "execution_count": 27,
   "metadata": {},
   "outputs": [],
   "source": [
    "BH = np.arange(5,11,0.1)\n",
    "duty = np.ones(len(BH))\n",
    "duty1 = duty*0.7\n",
    "duty2 = duty*0.3\n",
    "duty3 = duty*0.1"
   ]
  },
  {
   "cell_type": "code",
   "execution_count": 35,
   "metadata": {},
   "outputs": [],
   "source": [
    "BH, duty = np.loadtxt('Schulze0.1.txt',skiprows=0,usecols=(0,1),unpack=True)\n",
    "BH05, duty05 = np.loadtxt('Schulzez0.6.txt',skiprows=0,usecols=(0,1),unpack=True)\n",
    "BH1, duty1 = np.loadtxt('Schulzez1.txt',skiprows=0,usecols=(0,1),unpack=True)"
   ]
  },
  {
   "cell_type": "code",
   "execution_count": 39,
   "metadata": {},
   "outputs": [
    {
     "data": {
      "image/png": "[encoded data removed]",
      "text/plain": [
       "<Figure size 432x288 with 1 Axes>"
      ]
     },
     "metadata": {
      "needs_background": "light"
     },
     "output_type": "display_data"
    }
   ],
   "source": [
    "\n",
    "plt.plot(BH,np.log10((duty1)),color='k',linewidth=2.5,label=r'z = 0.1')\n",
    "plt.plot(BH,np.log10((duty2)),color='r',linewidth=2.5,linestyle='--',label=r'z = 0.5')\n",
    "plt.plot(BH,np.log10((duty3)),color='b',linewidth=2.5,linestyle=':',label=r'z = 1')\n",
    "\n",
    "\n",
    "\n",
    "legend = plt.legend(loc='lower left', shadow=False, frameon=False)\n",
    "\n",
    "plt.xlabel(r'log M$_{BH}$ [M$_{\\odot}$]')\n",
    "plt.ylabel(r'log U(M$_{BH}$)')\n",
    "plt.axis([5, 9.5, -2.,-1.])\n",
    "#plt.savefig(\"dutycyall.eps\")\n",
    "plt.show()\n",
    "plt.close()"
   ]
  },
  {
   "cell_type": "code",
   "execution_count": 51,
   "metadata": {},
   "outputs": [],
   "source": [
    "#Assign duty cycle following Schulze + 2015\n",
    "fEQ51 = np.zeros(len(BhMass_EQ5))\n",
    "fEQ52 = np.zeros(len(BhMass_EQ5))\n",
    "fEQ53 = np.zeros(len(BhMass_EQ5))\n",
    "fEQ54 = np.zeros(len(BhMass_EQ5))\n",
    "\n",
    "\n",
    "\n",
    "for i in range(len(BH)-1):\n",
    "    N = np.where( ( BhMass_EQ5 >=  BH[i] ) & ( BhMass_EQ5 < BH[i+1]) )\n",
    "    fEQ51[N] = (duty1[i])\n",
    "    \n",
    "    fEQ52[N] = (duty2[i])\n",
    "\n",
    "    fEQ53[N] = (duty3[i])\n",
    "\n",
    "    #fEQ54[N] = (duty4[i])"
   ]
  },
  {
   "cell_type": "code",
   "execution_count": 68,
   "metadata": {},
   "outputs": [],
   "source": [
    "volume = (1000.)**3.\n",
    "\n",
    "\n",
    "lgMbhbin1 = np.arange(5.,11.,0.5)\n",
    "\n",
    "acBHMFEQ51 =  np.ones(len(lgMbhbin1))\n",
    "acBHMFEQ52 =  np.ones(len(lgMbhbin1))\n",
    "acBHMFEQ53 =  np.ones(len(lgMbhbin1))\n",
    "\n",
    "\n",
    "\n",
    "\n",
    "for i in range(len(lgMbhbin1)-1):\n",
    "    \n",
    "\n",
    "    N = np.where((BhMass_EQ5 >= lgMbhbin1[i]) & (BhMass_EQ5 < lgMbhbin1[i+1]))\n",
    "    acBHMFEQ51[i] = ((np.sum(fEQ51[N]))/((volume)))/0.5\n",
    "    acBHMFEQ52[i] = ((np.sum(fEQ52[N]))/((volume)))/0.5\n",
    "    acBHMFEQ53[i] = ((np.sum(fEQ53[N]))/((volume)))/0.5\n",
    "\n",
    "\n",
    "#np.savetxt('z0.1/activeBHMF0.1.txt',np.column_stack((lgMbhbin1,acBHMFEQ5)))       \n",
    "\n",
    "\n"
   ]
  },
  {
   "cell_type": "code",
   "execution_count": 69,
   "metadata": {},
   "outputs": [
    {
     "data": {
      "image/png": "[encoded data removed]",
      "text/plain": [
       "<Figure size 432x288 with 1 Axes>"
      ]
     },
     "metadata": {
      "needs_background": "light"
     },
     "output_type": "display_data"
    }
   ],
   "source": [
    "plt.plot(lgMbhbin1,np.log10(acBHMFEQ51),color='k',linewidth=2.5,linestyle=':',label=r'U(M) = 0.01',alpha=0.5)\n",
    "plt.plot(lgMbhbin1,np.log10(acBHMFEQ52),color='k',linewidth=2.5,linestyle='--',label=r'U(M) = 0.05',alpha=0.5)\n",
    "plt.plot(lgMbhbin1,np.log10(acBHMFEQ53),color='k',linewidth=2.5,linestyle='-.',label=r'U(M) = 0.1',alpha=0.5)\n",
    "\n",
    "\n",
    "#plt.plot(lgMbhbin,np.log10(BHMFEQ5),color='r',linewidth=2.5,label=r'BHMF')\n",
    "\n",
    "\n",
    "#plt.text(8.2, -13, r'z = 0.25')\n",
    "legend = plt.legend(loc='lower left', shadow=False, frameon=False)\n",
    "plt.xlabel(r'log M$_{BH}$ [M$_{\\odot}$]')\n",
    "plt.ylabel(r'd log $\\Phi$(M$_{BH}$) [Mpc$^{-3}$ dex$^{-1}$]')\n",
    "plt.axis([5., 9., -7,-2.])             \n",
    "plt.savefig(\"z0.1/acBHMF.eps\")\n",
    "plt.show()\n",
    "plt.close()"
   ]
  },
  {
   "cell_type": "code",
   "execution_count": 43,
   "metadata": {},
   "outputs": [],
   "source": [
    "volume = (1000./0.7)**3.\n",
    "binsize = 0.1\n",
    "\n",
    "\n",
    "lglumbin = np.arange(42.,45.,0.1)\n",
    "lglumbins = np.zeros(len(lglumbin)-1)\n",
    "\n",
    "\n",
    "XLFEQ51a_1 = np.zeros(len(lglumbin)-1)\n",
    "XLFEQ51b_1 = np.zeros(len(lglumbin)-1)\n",
    "XLFEQ51c_1 = np.zeros(len(lglumbin)-1)\n",
    "\n",
    "XLFEQ51a_2 = np.zeros(len(lglumbin)-1)\n",
    "XLFEQ51b_2 = np.zeros(len(lglumbin)-1)\n",
    "XLFEQ51c_2 = np.zeros(len(lglumbin)-1)\n",
    "\n",
    "XLFEQ51a_3 = np.zeros(len(lglumbin)-1)\n",
    "XLFEQ51b_3 = np.zeros(len(lglumbin)-1)\n",
    "XLFEQ51c_3 = np.zeros(len(lglumbin)-1)\n",
    "\n",
    "\n",
    "\n",
    "for i in range(len(lglumbin)-1):\n",
    "    \n",
    "    lglumbins[i] = (lglumbin[i+1]+lglumbin[i])/2.\n",
    "    N = np.where((lglum5gau1acut >= lglumbin[i]) & (lglum5gau1acut < lglumbin[i+1]))\n",
    "    XLFEQ51a_1[i]   = (np.sum(fEQ51[N]))/( volume)/(binsize)\n",
    "    N = np.where((lglum5gau1bcut >= lglumbin[i]) & (lglum5gau1bcut < lglumbin[i+1]))\n",
    "    XLFEQ51b_1[i]   = (np.sum(fEQ51[N]))/( volume)/(binsize)\n",
    "    N = np.where((lglum5gau1ccut >= lglumbin[i]) & (lglum5gau1ccut < lglumbin[i+1]))\n",
    "    XLFEQ51c_1[i]   = (np.sum(fEQ51[N]))/( volume)/(binsize)\n",
    "\n",
    "    N = np.where((lglum5gau1acut >= lglumbin[i]) & (lglum5gau1acut < lglumbin[i+1]))\n",
    "    XLFEQ51a_2[i]   = (np.sum(fEQ52[N]))/( volume)/(binsize)\n",
    "    N = np.where((lglum5gau1bcut >= lglumbin[i]) & (lglum5gau1bcut < lglumbin[i+1]))\n",
    "    XLFEQ51b_2[i]   = (np.sum(fEQ52[N]))/( volume)/(binsize)\n",
    "    N = np.where((lglum5gau1ccut >= lglumbin[i]) & (lglum5gau1ccut < lglumbin[i+1]))\n",
    "    XLFEQ51c_2[i]   = (np.sum(fEQ52[N]))/( volume)/(binsize)\n",
    "\n",
    "\n",
    "    N = np.where((lglum5gau1acut >= lglumbin[i]) & (lglum5gau1acut < lglumbin[i+1]))\n",
    "    XLFEQ51a_3[i]   = (np.sum(fEQ53[N]))/( volume)/(binsize)\n",
    "    N = np.where((lglum5gau1bcut >= lglumbin[i]) & (lglum5gau1bcut < lglumbin[i+1]))\n",
    "    XLFEQ51b_3[i]   = (np.sum(fEQ53[N]))/( volume)/(binsize)\n",
    "    N = np.where((lglum5gau1ccut >= lglumbin[i]) & (lglum5gau1ccut < lglumbin[i+1]))\n",
    "    XLFEQ51c_3[i]   = (np.sum(fEQ53[N]))/( volume)/(binsize)\n",
    "\n",
    "\n",
    "\n",
    "#np.savetxt('z0.1/XLF0.1Sch.txt',np.column_stack((lglumbins,XLFEQ5)))       \n",
    "\n"
   ]
  },
  {
   "cell_type": "code",
   "execution_count": 96,
   "metadata": {},
   "outputs": [
    {
     "data": {
      "image/png": "[encoded data removed]",
      "text/plain": [
       "<Figure size 432x288 with 1 Axes>"
      ]
     },
     "metadata": {
      "needs_background": "light"
     },
     "output_type": "display_data"
    }
   ],
   "source": [
    "logLxMi,phiM, err = np.loadtxt('Miyaji2015z0.1.txt',skiprows=0,usecols=(0,1,2),unpack=True)\n",
    "err = np.log10(phiM+err)-np.log10(phiM)\n",
    "plt.errorbar(logLxMi, np.log10(phiM),yerr=err,fmt='o',label='Miyaji + 2015',color='black')\n",
    "plt.plot(lglumbins,np.log10(XLFEQ51a_1),color='black',ls='-',linewidth=2.5,label='U(M$_{BH}$) = 0.01')\n",
    "plt.plot(lglumbins,np.log10(XLFEQ51b_1),color='Red',ls='-',linewidth=2.5)\n",
    "plt.plot(lglumbins,np.log10(XLFEQ51c_1),color='blue',ls='-',linewidth=2.5)\n",
    "\n",
    "#plt.plot(lglumbins,np.log10(XLFEQ51a_2),color='black',ls=':',linewidth=2.5,label='U(M$_{BH}$) = 0.05')\n",
    "#plt.plot(lglumbins,np.log10(XLFEQ51b_2),color='Red',ls=':',linewidth=2.5)\n",
    "#plt.plot(lglumbins,np.log10(XLFEQ51c_2),color='blue',ls=':',linewidth=2.5)\n",
    "\n",
    "plt.plot(lglumbins,np.log10(XLFEQ51a_3),color='black',ls='--',linewidth=2.5,label='U(M$_{BH}$) = 0.1')\n",
    "plt.plot(lglumbins,np.log10(XLFEQ51b_3),color='Red',ls='--',linewidth=2.5)\n",
    "plt.plot(lglumbins,np.log10(XLFEQ51c_3),color='blue',ls='--',linewidth=2.5)\n",
    "\n",
    "\n",
    "#plt.plot(lglumbins,np.log10(XLFEQ5a),color='blue',ls='-',linewidth=2.5,label='Aird')\n",
    "#plt.plot(lglumbins,np.log10(XLFEQ5b),color='grey',ls=':',linewidth=2.5,label='-3.5,0')\n",
    "\n",
    "\n",
    "\n",
    "\n",
    "plt.legend(loc='lower left', shadow=False, frameon=False)\n",
    "plt.xlabel(r'log L$_{X}$ [erg s$^{-1}$]')\n",
    "plt.ylabel(r'log $\\Phi$ [Mpc$^{-3} dex^{-1}$]')\n",
    "plt.savefig(\"z0.1/XLFz0.1_1a.eps\")\n",
    "plt.show()\n",
    "plt.close()"
   ]
  },
  {
   "cell_type": "code",
   "execution_count": 44,
   "metadata": {},
   "outputs": [],
   "source": [
    "volume = (1000./0.7)**3.\n",
    "binsize = 0.1\n",
    "\n",
    "\n",
    "lglumbin = np.arange(42.,45.,0.1)\n",
    "lglumbins = np.zeros(len(lglumbin)-1)\n",
    "\n",
    "\n",
    "XLFEQSch51a_1 = np.zeros(len(lglumbin)-1)\n",
    "XLFEQSch51b_1 = np.zeros(len(lglumbin)-1)\n",
    "XLFEQSch51c_1 = np.zeros(len(lglumbin)-1)\n",
    "\n",
    "XLFEQSch51a_2 = np.zeros(len(lglumbin)-1)\n",
    "XLFEQSch51b_2 = np.zeros(len(lglumbin)-1)\n",
    "XLFEQSch51c_2 = np.zeros(len(lglumbin)-1)\n",
    "\n",
    "XLFEQSch51a_3 = np.zeros(len(lglumbin)-1)\n",
    "XLFEQSch51b_3 = np.zeros(len(lglumbin)-1)\n",
    "XLFEQSch51c_3 = np.zeros(len(lglumbin)-1)\n",
    "\n",
    "\n",
    "\n",
    "for i in range(len(lglumbin)-1):\n",
    "    \n",
    "    lglumbins[i] = (lglumbin[i+1]+lglumbin[i])/2.\n",
    "    N = np.where((lglum5Sch1acut >= lglumbin[i]) & (lglum5Sch1acut < lglumbin[i+1]))\n",
    "    XLFEQSch51a_1[i]   = (np.sum(fEQ51[N]))/( volume)/(binsize)\n",
    "    N = np.where((lglum5Sch1bcut >= lglumbin[i]) & (lglum5Sch1bcut < lglumbin[i+1]))\n",
    "    XLFEQSch51b_1[i]   = (np.sum(fEQ51[N]))/( volume)/(binsize)\n",
    "    N = np.where((lglum5Sch1ccut >= lglumbin[i]) & (lglum5Sch1ccut < lglumbin[i+1]))\n",
    "    XLFEQSch51c_1[i]   = (np.sum(fEQ51[N]))/( volume)/(binsize)\n",
    "\n",
    "    N = np.where((lglum5Sch1acut >= lglumbin[i]) & (lglum5Sch1acut < lglumbin[i+1]))\n",
    "    XLFEQSch51a_2[i]   = (np.sum(fEQ52[N]))/( volume)/(binsize)\n",
    "    N = np.where((lglum5Sch1bcut >= lglumbin[i]) & (lglum5Sch1bcut < lglumbin[i+1]))\n",
    "    XLFEQSch51b_2[i]   = (np.sum(fEQ52[N]))/( volume)/(binsize)\n",
    "    N = np.where((lglum5Sch1ccut >= lglumbin[i]) & (lglum5Sch1ccut < lglumbin[i+1]))\n",
    "    XLFEQSch51c_2[i]   = (np.sum(fEQ52[N]))/( volume)/(binsize)\n",
    "\n",
    "\n",
    "    N = np.where((lglum5Sch1acut >= lglumbin[i]) & (lglum5Sch1acut < lglumbin[i+1]))\n",
    "    XLFEQSch51a_3[i]   = (np.sum(fEQ53[N]))/( volume)/(binsize)\n",
    "    N = np.where((lglum5Sch1bcut >= lglumbin[i]) & (lglum5Sch1bcut < lglumbin[i+1]))\n",
    "    XLFEQSch51b_3[i]   = (np.sum(fEQ53[N]))/( volume)/(binsize)\n",
    "    N = np.where((lglum5Sch1ccut >= lglumbin[i]) & (lglum5Sch1ccut < lglumbin[i+1]))\n",
    "    XLFEQSch51c_3[i]   = (np.sum(fEQ53[N]))/( volume)/(binsize)\n",
    "\n",
    "\n"
   ]
  },
  {
   "cell_type": "code",
   "execution_count": 97,
   "metadata": {},
   "outputs": [
    {
     "data": {
      "image/png": "[encoded data removed]",
      "text/plain": [
       "<Figure size 432x288 with 1 Axes>"
      ]
     },
     "metadata": {
      "needs_background": "light"
     },
     "output_type": "display_data"
    }
   ],
   "source": [
    "logLxMi,phiM, err = np.loadtxt('Miyaji2015z0.1.txt',skiprows=0,usecols=(0,1,2),unpack=True)\n",
    "err = np.log10(phiM+err)-np.log10(phiM)\n",
    "plt.errorbar(logLxMi, np.log10(phiM),yerr=err,fmt='o',label='Miyaji + 2015',color='black')\n",
    "plt.plot(lglumbins,np.log10(XLFEQSch51a_1),color='black',ls='-',linewidth=2.5,label='U(M$_{BH}$) = 0.7')\n",
    "plt.plot(lglumbins,np.log10(XLFEQSch51b_1),color='Red',ls='-',linewidth=2.5)\n",
    "plt.plot(lglumbins,np.log10(XLFEQSch51c_1),color='blue',ls='-',linewidth=2.5)\n",
    "\n",
    "#plt.plot(lglumbins,np.log10(XLFEQSch51a_2),color='black',ls=':',linewidth=2.5,label='U(M$_{BH}$) = 0.05')\n",
    "#plt.plot(lglumbins,np.log10(XLFEQSch51b_2),color='Red',ls=':',linewidth=2.5)\n",
    "#plt.plot(lglumbins,np.log10(XLFEQSch51c_2),color='blue',ls=':',linewidth=2.5)\n",
    "\n",
    "plt.plot(lglumbins,np.log10(XLFEQSch51a_3),color='black',ls='--',linewidth=2.5,label='U(M$_{BH}$) = 0.1')\n",
    "plt.plot(lglumbins,np.log10(XLFEQSch51b_3),color='Red',ls='--',linewidth=2.5)\n",
    "plt.plot(lglumbins,np.log10(XLFEQSch51c_3),color='blue',ls='--',linewidth=2.5)\n",
    "\n",
    "\n",
    "#plt.plot(lglumbins,np.log10(XLFEQ5a),color='blue',ls='-',linewidth=2.5,label='Aird')\n",
    "#plt.plot(lglumbins,np.log10(XLFEQ5b),color='grey',ls=':',linewidth=2.5,label='-3.5,0')\n",
    "\n",
    "\n",
    "\n",
    "\n",
    "plt.legend(loc='lower left', shadow=False, frameon=False)\n",
    "plt.xlabel(r'log L$_{X}$ [erg s$^{-1}$]')\n",
    "plt.ylabel(r'log $\\Phi$ [Mpc$^{-3} dex^{-1}$]')\n",
    "plt.savefig(\"z0.1/XLFz0.1_1Sch.eps\")\n",
    "plt.show()\n",
    "plt.close()"
   ]
  },
  {
   "cell_type": "code",
   "execution_count": 52,
   "metadata": {},
   "outputs": [],
   "source": [
    "volume = (1000./0.7)**3.\n",
    "binsize = 0.1\n",
    "\n",
    "\n",
    "lglumbin = np.arange(42.,45.,0.1)\n",
    "lglumbins = np.zeros(len(lglumbin)-1)\n",
    "\n",
    "\n",
    "XLFEQSch52a_1 = np.zeros(len(lglumbin)-1)\n",
    "XLFEQSch52b_1 = np.zeros(len(lglumbin)-1)\n",
    "XLFEQSch52c_1 = np.zeros(len(lglumbin)-1)\n",
    "\n",
    "XLFEQSch52a_2 = np.zeros(len(lglumbin)-1)\n",
    "XLFEQSch52b_2 = np.zeros(len(lglumbin)-1)\n",
    "XLFEQSch52c_2 = np.zeros(len(lglumbin)-1)\n",
    "\n",
    "XLFEQSch52a_3 = np.zeros(len(lglumbin)-1)\n",
    "XLFEQSch52b_3 = np.zeros(len(lglumbin)-1)\n",
    "XLFEQSch52c_3 = np.zeros(len(lglumbin)-1)\n",
    "\n",
    "\n",
    "\n",
    "for i in range(len(lglumbin)-1):\n",
    "    \n",
    "    lglumbins[i] = (lglumbin[i+1]+lglumbin[i])/2.\n",
    "    #N = np.where((lglum5Sch2acut >= lglumbin[i]) & (lglum5Sch2acut < lglumbin[i+1]))\n",
    "    #XLFEQSch52a_1[i]   = (np.sum(fEQ51[N]))/( volume)/(binsize)\n",
    "    N = np.where((lglum5Sch2bcut >= lglumbin[i]) & (lglum5Sch2bcut < lglumbin[i+1]))\n",
    "    XLFEQSch52b_1[i]   = (np.sum(fEQ51[N]))/( volume)/(binsize)\n",
    "   # N = np.where((lglum5Sch2ccut >= lglumbin[i]) & (lglum5Sch2ccut < lglumbin[i+1]))\n",
    "    #XLFEQSch52c_1[i]   = (np.sum(fEQ51[N]))/( volume)/(binsize)\n",
    "\n",
    "    #N = np.where((lglum5Sch1acut >= lglumbin[i]) & (lglum5Sch1acut < lglumbin[i+1]))\n",
    "    #XLFEQSch52a_2[i]   = (np.sum(fEQ52[N]))/( volume)/(binsize)\n",
    "    #N = np.where((lglum5Sch2bcut >= lglumbin[i]) & (lglum5Sch2bcut < lglumbin[i+1]))\n",
    "    #XLFEQSch52b_2[i]   = (np.sum(fEQ52[N]))/( volume)/(binsize)\n",
    "    #N = np.where((lglum5Sch2ccut >= lglumbin[i]) & (lglum5Sch2ccut < lglumbin[i+1]))\n",
    "    #XLFEQSch52c_2[i]   = (np.sum(fEQ52[N]))/( volume)/(binsize)\n",
    "\n",
    "\n",
    "    #N = np.where((lglum5Sch2acut >= lglumbin[i]) & (lglum5Sch2acut < lglumbin[i+1]))\n",
    "    #XLFEQSch52a_3[i]   = (np.sum(fEQ53[N]))/( volume)/(binsize)\n",
    "    #N = np.where((lglum5Sch2bcut >= lglumbin[i]) & (lglum5Sch2bcut < lglumbin[i+1]))\n",
    "    #XLFEQSch52b_3[i]   = (np.sum(fEQ53[N]))/( volume)/(binsize)\n",
    "    #N = np.where((lglum5Sch2ccut >= lglumbin[i]) & (lglum5Sch2ccut < lglumbin[i+1]))\n",
    "    #XLFEQSch52c_3[i]   = (np.sum(fEQ53[N]))/( volume)/(binsize)\n",
    "\n"
   ]
  },
  {
   "cell_type": "code",
   "execution_count": 98,
   "metadata": {},
   "outputs": [
    {
     "name": "stderr",
     "output_type": "stream",
     "text": [
      "/astro/home/viola.allevato/anaconda2/lib/python2.7/site-packages/ipykernel_launcher.py:4: RuntimeWarning: divide by zero encountered in log10\n",
      "  after removing the cwd from sys.path.\n",
      "/astro/home/viola.allevato/anaconda2/lib/python2.7/site-packages/ipykernel_launcher.py:12: RuntimeWarning: divide by zero encountered in log10\n",
      "  if sys.path[0] == '':\n"
     ]
    },
    {
     "data": {
      "image/png": "[encoded data removed]",
      "text/plain": [
       "<Figure size 432x288 with 1 Axes>"
      ]
     },
     "metadata": {
      "needs_background": "light"
     },
     "output_type": "display_data"
    }
   ],
   "source": [
    "logLxMi,phiM, err = np.loadtxt('Miyaji2015z0.1.txt',skiprows=0,usecols=(0,1,2),unpack=True)\n",
    "err = np.log10(phiM+err)-np.log10(phiM)\n",
    "plt.errorbar(logLxMi, np.log10(phiM),yerr=err,fmt='o',label='Miyaji + 2015',color='black')\n",
    "plt.plot(lglumbins,np.log10(XLFEQSch52a_1),color='black',ls='-',linewidth=2.5,label='U(M$_{BH}$) = 0.7')\n",
    "plt.plot(lglumbins,np.log10(XLFEQSch52b_1),color='Red',ls='-',linewidth=2.5)\n",
    "plt.plot(lglumbins,np.log10(XLFEQSch52c_1),color='blue',ls='-',linewidth=2.5)\n",
    "\n",
    "#plt.plot(lglumbins,np.log10(XLFEQSch52a_2),color='black',ls=':',linewidth=2.5,label='U(M$_{BH}$) = 0.05')\n",
    "#plt.plot(lglumbins,np.log10(XLFEQSch52b_2),color='Red',ls=':',linewidth=2.5)\n",
    "#plt.plot(lglumbins,np.log10(XLFEQSch52c_2),color='blue',ls=':',linewidth=2.5)\n",
    "\n",
    "plt.plot(lglumbins,np.log10(XLFEQSch52a_3),color='black',ls='--',linewidth=2.5,label='U(M$_{BH}$) = 0.1')\n",
    "plt.plot(lglumbins,np.log10(XLFEQSch52b_3),color='Red',ls='--',linewidth=2.5)\n",
    "plt.plot(lglumbins,np.log10(XLFEQSch52c_3),color='blue',ls='--',linewidth=2.5)\n",
    "\n",
    "\n",
    "#plt.plot(lglumbins,np.log10(XLFEQ5a),color='blue',ls='-',linewidth=2.5,label='Aird')\n",
    "#plt.plot(lglumbins,np.log10(XLFEQ5b),color='grey',ls=':',linewidth=2.5,label='-3.5,0')\n",
    "\n",
    "\n",
    "\n",
    "\n",
    "plt.legend(loc='lower left', shadow=False, frameon=False)\n",
    "plt.xlabel(r'log L$_{X}$ [erg s$^{-1}$]')\n",
    "plt.ylabel(r'log $\\Phi$ [Mpc$^{-3} dex^{-1}$]')\n",
    "plt.savefig(\"z0.1/XLFz0.1_2Sch.eps\")\n",
    "plt.show()\n",
    "plt.close()"
   ]
  },
  {
   "cell_type": "code",
   "execution_count": 46,
   "metadata": {},
   "outputs": [
    {
     "data": {
      "image/png": "[encoded data removed]",
      "text/plain": [
       "<Figure size 432x288 with 1 Axes>"
      ]
     },
     "metadata": {
      "needs_background": "light"
     },
     "output_type": "display_data"
    }
   ],
   "source": [
    "logLxMi,phiM, err = np.loadtxt('Miyaji2015z0.1.txt',skiprows=0,usecols=(0,1,2),unpack=True)\n",
    "err = np.log10(phiM+err)-np.log10(phiM)\n",
    "plt.errorbar(logLxMi, np.log10(phiM),yerr=err,fmt='o',label='Miyaji + 2015',color='black')\n",
    "#plt.plot(lglumbins,np.log10(XLFEQSch52a_1),color='black',ls='-',linewidth=2.5,label='U(M$_{BH}$) = 0.7')\n",
    "plt.plot(lglumbins,np.log10(XLFEQSch52b_1),color='Red',ls='-',linewidth=2.5,label='U(M$_{BH}$) = 0.7, Schechter')\n",
    "#plt.plot(lglumbins,np.log10(XLFEQSch52c_1),color='blue',ls='-',linewidth=2.5)\n",
    "\n",
    "#plt.plot(lglumbins,np.log10(XLFEQSch52a_2),color='black',ls=':',linewidth=2.5,label='U(M$_{BH}$) = 0.05')\n",
    "#plt.plot(lglumbins,np.log10(XLFEQSch52b_2),color='Red',ls=':',linewidth=2.5)\n",
    "#plt.plot(lglumbins,np.log10(XLFEQSch52c_2),color='blue',ls=':',linewidth=2.5)\n",
    "\n",
    "#plt.plot(lglumbins,np.log10(XLFEQSch52a_3),color='black',ls='--',linewidth=2.5,label='U(M$_{BH}$) = 0.1')\n",
    "#plt.plot(lglumbins,np.log10(XLFEQSch52b_3),color='Red',ls='--',linewidth=2.5)\n",
    "#plt.plot(lglumbins,np.log10(XLFEQSch52c_3),color='blue',ls='--',linewidth=2.5)\n",
    "\n",
    "\n",
    "#plt.plot(lglumbins,np.log10(XLFEQ5a),color='blue',ls='-',linewidth=2.5,label='Aird')\n",
    "#plt.plot(lglumbins,np.log10(XLFEQ5b),color='grey',ls=':',linewidth=2.5,label='-3.5,0')\n",
    "\n",
    "\n",
    "\n",
    "\n",
    "plt.legend(loc='lower left', shadow=False, frameon=False)\n",
    "plt.xlabel(r'log L$_{X}$ [erg s$^{-1}$]')\n",
    "plt.ylabel(r'log $\\Phi$ [Mpc$^{-3} dex^{-1}$]')\n",
    "plt.savefig(\"z0.1/XLFz0.1Sch.eps\")\n",
    "plt.show()\n",
    "plt.close()"
   ]
  },
  {
   "cell_type": "code",
   "execution_count": 61,
   "metadata": {},
   "outputs": [],
   "source": [
    "bins = np.arange(32.,35.,0.2)\n",
    "#lxbin = np.arange(41.,45.,0.2)\n",
    "#mstbin = np.arange(7.,11.,0.2)\n",
    "\n",
    "\n",
    "#pA = Aird12(10.**lxbin,10.**mstbin,0.1)\n",
    "pB = Bon12(10.**bins)"
   ]
  },
  {
   "cell_type": "code",
   "execution_count": 62,
   "metadata": {},
   "outputs": [
    {
     "data": {
      "image/png": "[encoded data removed]",
      "text/plain": [
       "<Figure size 432x288 with 1 Axes>"
      ]
     },
     "metadata": {
      "needs_background": "light"
     },
     "output_type": "display_data"
    }
   ],
   "source": [
    "p = plt.hist(np.log10((10.**lglum5Sch2bcut)/10.**lgMstarEQ5),bins=bins,weights=fEQ51,density=True,color='red',histtype = 'step',linestyle=':')"
   ]
  },
  {
   "cell_type": "code",
   "execution_count": 60,
   "metadata": {},
   "outputs": [
    {
     "name": "stdout",
     "output_type": "stream",
     "text": [
      "29.928072165956955 33.42438341296219\n"
     ]
    }
   ],
   "source": [
    "print np.min(np.log10((10.**lglum5Sch2bcut/(0.7*0.7))/10.**lgMstarEQ5)),np.max(np.log10(10.**lglum5Sch2bcut/10.**lgMstarEQ5))"
   ]
  },
  {
   "cell_type": "code",
   "execution_count": 36,
   "metadata": {},
   "outputs": [
    {
     "data": {
      "image/png": "[encoded data removed]",
      "text/plain": [
       "<Figure size 432x288 with 1 Axes>"
      ]
     },
     "metadata": {
      "needs_background": "light"
     },
     "output_type": "display_data"
    }
   ],
   "source": [
    "pyplot.yscale('log',nonposy='clip')\n",
    "\n",
    "\n",
    "plt.plot(bins,(pB)*(10.**0.2),color='k',linewidth=2.5,label=r'Bongiorno')\n",
    "plt.plot(bins,(p)*(10.**0.2),color='k',linewidth=2.5,label=r'Bongiorno')\n",
    "\n",
    "\n",
    "\n",
    "\n",
    "legend = plt.legend(loc='lower left', shadow=False, frameon=False)\n",
    "\n",
    "plt.xlabel(r'log $\\lambda_{BHAR}$')\n",
    "plt.ylabel(r'P($\\lambda_{BHAR}$,z=0.5) dlog$\\lambda_{BHAR}$')\n",
    "\n",
    "#plt.axis([-4, 0.1, 0,1])\n",
    "plt.savefig(\"z0.1/PBHAR.eps\")\n",
    "plt.show()\n",
    "plt.close()"
   ]
  },
  {
   "cell_type": "code",
   "execution_count": 28,
   "metadata": {},
   "outputs": [
    {
     "data": {
      "image/png": "[encoded data removed]",
      "text/plain": [
       "<Figure size 432x288 with 1 Axes>"
      ]
     },
     "metadata": {
      "needs_background": "light"
     },
     "output_type": "display_data"
    }
   ],
   "source": [
    "\n",
    "bins = np.arange(31.,35.,0.1)\n",
    "\n",
    "#ntot = plt.hist(lgMhEQ5,bins=bins,color='grey',histtype = 'stepfilled')\n",
    "#n = plt.hist(lgMhEQ5,bins=bins,weights=fEQ5,density=True,color='black',histtype = 'step')\n",
    "p = plt.hist(np.log10(10.**lglum5Sch2bcut/10.**lgMstarEQ5),bins=bins,weights=fEQ51,density=True,color='red',histtype = 'step',linestyle=':')\n",
    "\n",
    "\n",
    "plt.xlabel(r'log BHAR')\n",
    "plt.ylabel(r'p(logM$_{h}$)')\n",
    "#handles = [Rectangle((0,0),1,1,facecolor=\"white\",ec=\"blue\",linestyle=':'),Rectangle((0,0),1,1,facecolor=\"white\",ec=\"red\",linestyle=':'),Rectangle((0,0),1,1,facecolor=\"white\",ec=\"blue\"),Rectangle((0,0),1,1,facecolor=\"white\",ec=\"red\")]\n",
    "\n",
    "#labels= [\"Satellites Type 1\",\"Centrals Type 1\",\"Satellites Type 2\",\"Centrals Type 2\"]\n",
    "#plt.legend(handles, labels,frameon=False,loc='upper right')\n",
    "\n",
    "\n",
    "#plt.axis([6, 9.5, -6,-1])\n",
    "plt.savefig(\"z0.1/PBHAR.eps\")\n",
    "plt.show()\n",
    "plt.close()\n",
    "\n",
    "\n"
   ]
  },
  {
   "cell_type": "code",
   "execution_count": 58,
   "metadata": {},
   "outputs": [],
   "source": [
    "volume = (1000./0.7)**3.\n",
    "binsize = 0.1\n",
    "\n",
    "\n",
    "lglumbin = np.arange(42.,45.,0.1)\n",
    "lglumbins = np.zeros(len(lglumbin)-1)\n",
    "\n",
    "\n",
    "XLFEQ52a_1 = np.zeros(len(lglumbin)-1)\n",
    "XLFEQ52b_1 = np.zeros(len(lglumbin)-1)\n",
    "\n",
    "\n",
    "\n",
    "\n",
    "for i in range(len(lglumbin)-1):\n",
    "    \n",
    "    lglumbins[i] = (lglumbin[i+1]+lglumbin[i])/2.\n",
    "    N = np.where((lglum5gau2acut >= lglumbin[i]) & (lglum5gau2acut < lglumbin[i+1]))\n",
    "    XLFEQ52a_1[i]   = (np.sum(fEQ54[N]))/( volume)/(binsize)\n",
    "    N = np.where((lglum5gau2bcut >= lglumbin[i]) & (lglum5gau2bcut < lglumbin[i+1]))\n",
    "    XLFEQ52b_1[i]   = (np.sum(fEQ52[N]))/( volume)/(binsize)\n"
   ]
  },
  {
   "cell_type": "code",
   "execution_count": 100,
   "metadata": {},
   "outputs": [
    {
     "data": {
      "image/png": "[encoded data removed]",
      "text/plain": [
       "<Figure size 432x288 with 1 Axes>"
      ]
     },
     "metadata": {
      "needs_background": "light"
     },
     "output_type": "display_data"
    }
   ],
   "source": [
    "logLxMi,phiM, err = np.loadtxt('Miyaji2015z0.1.txt',skiprows=0,usecols=(0,1,2),unpack=True)\n",
    "err = np.log10(phiM+err)-np.log10(phiM)\n",
    "plt.errorbar(logLxMi, np.log10(phiM),yerr=err,fmt='o',label='Miyaji + 2015',color='black')\n",
    "#plt.plot(lglumbins,np.log10(XLFEQ52a_1),color='black',ls='-',linewidth=2.5,label='U(M$_{BH}$) = 0.04, sig = 0.5')\n",
    "plt.plot(lglumbins,np.log10(XLFEQ52b_1),color='Red',ls='-',linewidth=2.5,label='U(M$_{BH}$) = 0.05, Gau $\\sigma$ = 0.2')\n",
    "\n",
    "#plt.plot(lglumbins,np.log10(XLFEQ51a_2),color='black',ls=':',linewidth=2.5,label='U(M$_{BH}$) = 0.05')\n",
    "#plt.plot(lglumbins,np.log10(XLFEQ51b_2),color='Red',ls=':',linewidth=2.5)\n",
    "#plt.plot(lglumbins,np.log10(XLFEQ51c_2),color='blue',ls=':',linewidth=2.5)\n",
    "\n",
    "\n",
    "#plt.plot(lglumbins,np.log10(XLFEQ5a),color='blue',ls='-',linewidth=2.5,label='Aird')\n",
    "#plt.plot(lglumbins,np.log10(XLFEQ5b),color='grey',ls=':',linewidth=2.5,label='-3.5,0')\n",
    "\n",
    "\n",
    "\n",
    "\n",
    "plt.legend(loc='lower left', shadow=False, frameon=False)\n",
    "plt.xlabel(r'log L$_{X}$ [erg s$^{-1}$]')\n",
    "plt.ylabel(r'log $\\Phi$ [Mpc$^{-3} dex^{-1}$]')\n",
    "plt.axis([42., 44.85, -9,-3.5])             \n",
    "\n",
    "plt.savefig(\"z0.1/XLFz0.1gau.eps\")\n",
    "plt.show()\n",
    "plt.close()"
   ]
  },
  {
   "cell_type": "code",
   "execution_count": 77,
   "metadata": {},
   "outputs": [],
   "source": [
    "volume = (1000./0.7)**3.\n",
    "binsize = 0.1\n",
    "\n",
    "\n",
    "lglumbin = np.arange(42.,45.,0.1)\n",
    "lglumbins = np.zeros(len(lglumbin)-1)\n",
    "\n",
    "\n",
    "XLFEQ52a_1 = np.zeros(len(lglumbin)-1)\n",
    "XLFEQ52b_1 = np.zeros(len(lglumbin)-1)\n",
    "XLFEQ52c_1 = np.zeros(len(lglumbin)-1)\n",
    "\n",
    "XLFEQ52a_2 = np.zeros(len(lglumbin)-1)\n",
    "XLFEQ52b_2 = np.zeros(len(lglumbin)-1)\n",
    "XLFEQ52c_2 = np.zeros(len(lglumbin)-1)\n",
    "\n",
    "XLFEQ52a_3 = np.zeros(len(lglumbin)-1)\n",
    "XLFEQ52b_3 = np.zeros(len(lglumbin)-1)\n",
    "XLFEQ52c_3 = np.zeros(len(lglumbin)-1)\n",
    "\n",
    "\n",
    "\n",
    "for i in range(len(lglumbin)-1):\n",
    "    \n",
    "    lglumbins[i] = (lglumbin[i+1]+lglumbin[i])/2.\n",
    "    N = np.where((lglum5gau2acut >= lglumbin[i]) & (lglum5gau2acut < lglumbin[i+1]))\n",
    "    XLFEQ52a_1[i]   = (np.sum(fEQ51[N]))/( volume)/(binsize)\n",
    "    N = np.where((lglum5gau2bcut >= lglumbin[i]) & (lglum5gau2bcut < lglumbin[i+1]))\n",
    "    XLFEQ52b_1[i]   = (np.sum(fEQ51[N]))/( volume)/(binsize)\n",
    "    N = np.where((lglum5gau2ccut >= lglumbin[i]) & (lglum5gau2ccut < lglumbin[i+1]))\n",
    "    XLFEQ52c_1[i]   = (np.sum(fEQ51[N]))/( volume)/(binsize)\n",
    "\n",
    "    N = np.where((lglum5gau2acut >= lglumbin[i]) & (lglum5gau2acut < lglumbin[i+1]))\n",
    "    XLFEQ52a_2[i]   = (np.sum(fEQ52[N]))/( volume)/(binsize)\n",
    "    N = np.where((lglum5gau2bcut >= lglumbin[i]) & (lglum5gau2bcut < lglumbin[i+1]))\n",
    "    XLFEQ52b_2[i]   = (np.sum(fEQ52[N]))/( volume)/(binsize)\n",
    "    N = np.where((lglum5gau2ccut >= lglumbin[i]) & (lglum5gau2ccut < lglumbin[i+1]))\n",
    "    XLFEQ52c_2[i]   = (np.sum(fEQ52[N]))/( volume)/(binsize)\n",
    "\n",
    "\n",
    "    N = np.where((lglum5gau2acut >= lglumbin[i]) & (lglum5gau2acut < lglumbin[i+1]))\n",
    "    XLFEQ52a_3[i]   = (np.sum(fEQ53[N]))/( volume)/(binsize)\n",
    "    N = np.where((lglum5gau2bcut >= lglumbin[i]) & (lglum5gau2bcut < lglumbin[i+1]))\n",
    "    XLFEQ52b_3[i]   = (np.sum(fEQ53[N]))/( volume)/(binsize)\n",
    "    N = np.where((lglum5gau2ccut >= lglumbin[i]) & (lglum5gau2ccut < lglumbin[i+1]))\n",
    "    XLFEQ52c_3[i]   = (np.sum(fEQ53[N]))/( volume)/(binsize)\n",
    "\n",
    "\n",
    "\n"
   ]
  },
  {
   "cell_type": "code",
   "execution_count": 78,
   "metadata": {},
   "outputs": [
    {
     "data": {
      "image/png": "[encoded data removed]",
      "text/plain": [
       "<Figure size 432x288 with 1 Axes>"
      ]
     },
     "metadata": {
      "needs_background": "light"
     },
     "output_type": "display_data"
    }
   ],
   "source": [
    "logLxMi,phiM, err = np.loadtxt('Miyaji2015z0.1.txt',skiprows=0,usecols=(0,1,2),unpack=True)\n",
    "err = np.log10(phiM+err)-np.log10(phiM)\n",
    "plt.errorbar(logLxMi, np.log10(phiM),yerr=err,fmt='o',label='Miyaji + 2015',color='black')\n",
    "plt.plot(lglumbins,np.log10(XLFEQ52a_1),color='black',ls='-',linewidth=2.5,label='U(M$_{BH}$) = 0.01')\n",
    "plt.plot(lglumbins,np.log10(XLFEQ52b_1),color='Red',ls='-',linewidth=2.5)\n",
    "plt.plot(lglumbins,np.log10(XLFEQ52c_1),color='blue',ls='-',linewidth=2.5)\n",
    "\n",
    "plt.plot(lglumbins,np.log10(XLFEQ52a_2),color='black',ls=':',linewidth=2.5,label='U(M$_{BH}$) = 0.05')\n",
    "plt.plot(lglumbins,np.log10(XLFEQ52b_2),color='Red',ls=':',linewidth=2.5)\n",
    "plt.plot(lglumbins,np.log10(XLFEQ52c_2),color='blue',ls=':',linewidth=2.5)\n",
    "\n",
    "plt.plot(lglumbins,np.log10(XLFEQ52a_3),color='black',ls='--',linewidth=2.5,label='U(M$_{BH}$) = 0.1')\n",
    "plt.plot(lglumbins,np.log10(XLFEQ52b_3),color='Red',ls='--',linewidth=2.5)\n",
    "plt.plot(lglumbins,np.log10(XLFEQ52c_3),color='blue',ls='--',linewidth=2.5)\n",
    "\n",
    "\n",
    "#plt.plot(lglumbins,np.log10(XLFEQ5a),color='blue',ls='-',linewidth=2.5,label='Aird')\n",
    "#plt.plot(lglumbins,np.log10(XLFEQ5b),color='grey',ls=':',linewidth=2.5,label='-3.5,0')\n",
    "\n",
    "\n",
    "\n",
    "\n",
    "plt.legend(loc='lower left', shadow=False, frameon=False)\n",
    "plt.xlabel(r'log L$_{X}$ [erg s$^{-1}$]')\n",
    "plt.ylabel(r'log $\\Phi$ [Mpc$^{-3} dex^{-1}$]')\n",
    "plt.savefig(\"z0.1/XLFz0.1_2.png\")\n",
    "plt.show()\n",
    "plt.close()"
   ]
  },
  {
   "cell_type": "code",
   "execution_count": 79,
   "metadata": {},
   "outputs": [],
   "source": [
    "volume = (1000./0.7)**3.\n",
    "binsize = 0.1\n",
    "\n",
    "\n",
    "lglumbin = np.arange(42.,45.,0.1)\n",
    "lglumbins = np.zeros(len(lglumbin)-1)\n",
    "\n",
    "\n",
    "XLFEQ53a_1 = np.zeros(len(lglumbin)-1)\n",
    "XLFEQ53b_1 = np.zeros(len(lglumbin)-1)\n",
    "XLFEQ53c_1 = np.zeros(len(lglumbin)-1)\n",
    "\n",
    "XLFEQ53a_2 = np.zeros(len(lglumbin)-1)\n",
    "XLFEQ53b_2 = np.zeros(len(lglumbin)-1)\n",
    "XLFEQ53c_2 = np.zeros(len(lglumbin)-1)\n",
    "\n",
    "XLFEQ53a_3 = np.zeros(len(lglumbin)-1)\n",
    "XLFEQ53b_3 = np.zeros(len(lglumbin)-1)\n",
    "XLFEQ53c_3 = np.zeros(len(lglumbin)-1)\n",
    "\n",
    "\n",
    "\n",
    "for i in range(len(lglumbin)-1):\n",
    "    \n",
    "    lglumbins[i] = (lglumbin[i+1]+lglumbin[i])/2.\n",
    "    N = np.where((lglum5gau3acut >= lglumbin[i]) & (lglum5gau3acut < lglumbin[i+1]))\n",
    "    XLFEQ53a_1[i]   = (np.sum(fEQ51[N]))/( volume)/(binsize)\n",
    "    N = np.where((lglum5gau3bcut >= lglumbin[i]) & (lglum5gau3bcut < lglumbin[i+1]))\n",
    "    XLFEQ53b_1[i]   = (np.sum(fEQ51[N]))/( volume)/(binsize)\n",
    "    N = np.where((lglum5gau3ccut >= lglumbin[i]) & (lglum5gau3ccut < lglumbin[i+1]))\n",
    "    XLFEQ53c_1[i]   = (np.sum(fEQ51[N]))/( volume)/(binsize)\n",
    "\n",
    "    N = np.where((lglum5gau3acut >= lglumbin[i]) & (lglum5gau3acut < lglumbin[i+1]))\n",
    "    XLFEQ53a_2[i]   = (np.sum(fEQ52[N]))/( volume)/(binsize)\n",
    "    N = np.where((lglum5gau3bcut >= lglumbin[i]) & (lglum5gau3bcut < lglumbin[i+1]))\n",
    "    XLFEQ53b_2[i]   = (np.sum(fEQ52[N]))/( volume)/(binsize)\n",
    "    N = np.where((lglum5gau3ccut >= lglumbin[i]) & (lglum5gau3ccut < lglumbin[i+1]))\n",
    "    XLFEQ53c_2[i]   = (np.sum(fEQ52[N]))/( volume)/(binsize)\n",
    "\n",
    "\n",
    "    N = np.where((lglum5gau3acut >= lglumbin[i]) & (lglum5gau3acut < lglumbin[i+1]))\n",
    "    XLFEQ53a_3[i]   = (np.sum(fEQ53[N]))/( volume)/(binsize)\n",
    "    N = np.where((lglum5gau3bcut >= lglumbin[i]) & (lglum5gau3bcut < lglumbin[i+1]))\n",
    "    XLFEQ53b_3[i]   = (np.sum(fEQ53[N]))/( volume)/(binsize)\n",
    "    N = np.where((lglum5gau3ccut >= lglumbin[i]) & (lglum5gau3ccut < lglumbin[i+1]))\n",
    "    XLFEQ53c_3[i]   = (np.sum(fEQ53[N]))/( volume)/(binsize)\n",
    "\n",
    "\n",
    "\n",
    "\n"
   ]
  },
  {
   "cell_type": "code",
   "execution_count": 80,
   "metadata": {},
   "outputs": [
    {
     "data": {
      "image/png": "[encoded data removed]",
      "text/plain": [
       "<Figure size 432x288 with 1 Axes>"
      ]
     },
     "metadata": {
      "needs_background": "light"
     },
     "output_type": "display_data"
    }
   ],
   "source": [
    "logLxMi,phiM, err = np.loadtxt('Miyaji2015z0.1.txt',skiprows=0,usecols=(0,1,2),unpack=True)\n",
    "err = np.log10(phiM+err)-np.log10(phiM)\n",
    "plt.errorbar(logLxMi, np.log10(phiM),yerr=err,fmt='o',label='Miyaji + 2015',color='black')\n",
    "plt.plot(lglumbins,np.log10(XLFEQ53a_1),color='black',ls='-',linewidth=2.5,label='U(M$_{BH}$) = 0.01')\n",
    "plt.plot(lglumbins,np.log10(XLFEQ53b_1),color='Red',ls='-',linewidth=2.5)\n",
    "plt.plot(lglumbins,np.log10(XLFEQ53c_1),color='blue',ls='-',linewidth=2.5)\n",
    "\n",
    "plt.plot(lglumbins,np.log10(XLFEQ53a_2),color='black',ls=':',linewidth=2.5,label='U(M$_{BH}$) = 0.05')\n",
    "plt.plot(lglumbins,np.log10(XLFEQ53b_2),color='Red',ls=':',linewidth=2.5)\n",
    "plt.plot(lglumbins,np.log10(XLFEQ53c_2),color='blue',ls=':',linewidth=2.5)\n",
    "\n",
    "plt.plot(lglumbins,np.log10(XLFEQ53a_3),color='black',ls='--',linewidth=2.5,label='U(M$_{BH}$) = 0.1')\n",
    "plt.plot(lglumbins,np.log10(XLFEQ53b_3),color='Red',ls='--',linewidth=2.5)\n",
    "plt.plot(lglumbins,np.log10(XLFEQ53c_3),color='blue',ls='--',linewidth=2.5)\n",
    "\n",
    "\n",
    "#plt.plot(lglumbins,np.log10(XLFEQ5a),color='blue',ls='-',linewidth=2.5,label='Aird')\n",
    "#plt.plot(lglumbins,np.log10(XLFEQ5b),color='grey',ls=':',linewidth=2.5,label='-3.5,0')\n",
    "\n",
    "\n",
    "\n",
    "\n",
    "plt.legend(loc='lower left', shadow=False, frameon=False)\n",
    "plt.xlabel(r'log L$_{X}$ [erg s$^{-1}$]')\n",
    "plt.ylabel(r'log $\\Phi$ [Mpc$^{-3} dex^{-1}$]')\n",
    "plt.savefig(\"z0.1/XLFz0.1_3.png\")\n",
    "plt.show()\n",
    "plt.close()"
   ]
  },
  {
   "cell_type": "code",
   "execution_count": 40,
   "metadata": {},
   "outputs": [
    {
     "data": {
      "image/png": "[encoded data removed]",
      "text/plain": [
       "<Figure size 432x288 with 1 Axes>"
      ]
     },
     "metadata": {
      "needs_background": "light"
     },
     "output_type": "display_data"
    }
   ],
   "source": [
    "logLxMi,phiM, err = np.loadtxt('Miyaji2015z0.1.txt',skiprows=0,usecols=(0,1,2),unpack=True)\n",
    "plt.errorbar(logLxMi, np.log10(phiM),yerr=err,fmt='o',label='Miyaji + 2015',color='black')\n",
    "plt.plot(lglumbins,np.log10(XLFEQ51a_3),color='black',ls=':',linewidth=2.5,label='mean = -1,$\\sigma$=0.5')\n",
    "plt.plot(lglumbins,np.log10(XLFEQ51b_3),color='Red',ls='-',linewidth=2.5,label='mean = -1,$\\sigma$=1')\n",
    "plt.plot(lglumbins,np.log10(XLFEQ51c_3),color='blue',ls='--',linewidth=2.5,label='mean = -1,$\\sigma$=1.5')\n",
    "\n",
    "\n",
    "#plt.plot(lglumbins,np.log10(XLFEQ5a),color='blue',ls='-',linewidth=2.5,label='Aird')\n",
    "#plt.plot(lglumbins,np.log10(XLFEQ5b),color='grey',ls=':',linewidth=2.5,label='-3.5,0')\n",
    "\n",
    "\n",
    "\n",
    "\n",
    "plt.legend(loc='upper right', shadow=False, frameon=False)\n",
    "plt.xlabel(r'log L$_{X}$ [erg s$^{-1}$]')\n",
    "plt.ylabel(r'log $\\Phi$ [Mpc$^{-3} dex^{-1}$]')\n",
    "#plt.savefig(\"z0.1/XLFz0.1.png\")\n",
    "plt.show()\n",
    "plt.close()"
   ]
  },
  {
   "cell_type": "code",
   "execution_count": 120,
   "metadata": {},
   "outputs": [],
   "source": [
    "flagty2r = np.where((lgNHEQ5 >= 22) & (lgNHEQ5 < 24) )\n",
    "lgMstarty2 = lgMstarEQ5[flagty2r]\n",
    "lgMhty2 = lgMhEQ5[flagty2r]\n",
    "BhMass_EQ5ty2 = BhMass_EQ5[flagty2r]\n",
    "fEQ5ty2 = fEQ5[flagty2r]\n",
    "bEQ5ty2 = bEQ5[flagty2r]\n",
    "logSFRty2 = logSFR[flagty2r]\n",
    "lglum5ty2 = lglum5cut[flagty2r]\n",
    "eddty2 = edd5[flagty2r]\n",
    "lgNHEQ5ty2 = lgNHEQ5[flagty2r]\n",
    "idh5ty2 = idh5[flagty2r]\n",
    "xty2 = xEQ5[flagty2r]\n",
    "yty2 = yEQ5[flagty2r]\n",
    "zty2 = zEQ5[flagty2r]"
   ]
  },
  {
   "cell_type": "code",
   "execution_count": 121,
   "metadata": {},
   "outputs": [],
   "source": [
    "flagty1r = np.where((lgNHEQ5 >= 20) & (lgNHEQ5 < 22) )\n",
    "lgMstarty1 = lgMstarEQ5[flagty1r]\n",
    "lgMhty1 = lgMhEQ5[flagty1r]\n",
    "BhMass_EQ5ty1 = BhMass_EQ5[flagty1r]\n",
    "fEQ5ty1 = fEQ5[flagty1r]\n",
    "bEQ5ty1 = bEQ5[flagty1r]\n",
    "logSFRty1 = logSFR[flagty1r]\n",
    "lglum5ty1 = lglum5cut[flagty1r]\n",
    "eddty1 = edd5[flagty1r]\n",
    "lgNHEQ5ty1 = lgNHEQ5[flagty1r]\n",
    "idh5ty1 = idh5[flagty1r]\n",
    "xty1 = xEQ5[flagty1r]\n",
    "yty1 = yEQ5[flagty1r]\n",
    "zty1 = zEQ5[flagty1r]"
   ]
  },
  {
   "cell_type": "code",
   "execution_count": 122,
   "metadata": {},
   "outputs": [
    {
     "data": {
      "image/png": "[encoded data removed]",
      "text/plain": [
       "<Figure size 432x288 with 1 Axes>"
      ]
     },
     "metadata": {
      "needs_background": "light"
     },
     "output_type": "display_data"
    }
   ],
   "source": [
    "flagsatty1 = np.where(idh5ty1 > 0)\n",
    "flagcenty1 = np.where(idh5ty1 < 1)\n",
    "flagsatty2 = np.where(idh5ty2 > 0)\n",
    "flagcenty2 = np.where(idh5ty2 < 1)\n",
    "\n",
    "\n",
    "bins = np.arange(11.,15.,0.1)\n",
    "bins1 = np.arange(11.,14.9,0.1)\n",
    "\n",
    "#ntot = plt.hist(lgMhEQ5,bins=bins,color='grey',histtype = 'stepfilled')\n",
    "#n = plt.hist(lgMhEQ5,bins=bins,weights=fEQ5,density=True,color='black',histtype = 'step')\n",
    "nsatty1 = plt.hist(lgMhty1[flagsatty1],bins=bins,weights=fEQ5ty1[flagsatty1],density=True,color='red',histtype = 'step',linestyle=':')\n",
    "ncenty1 = plt.hist(lgMhty1[flagcenty1],bins=bins,weights=fEQ5ty1[flagcenty1],density=True,color='blue',histtype = 'step',linestyle=':')\n",
    "nsatty2 = plt.hist(lgMhty2[flagsatty2],bins=bins,weights=fEQ5ty2[flagsatty2],density=True,color='red',histtype = 'step')\n",
    "ncenty2 = plt.hist(lgMhty2[flagcenty2],bins=bins,weights=fEQ5ty2[flagcenty2],density=True,color='blue',histtype = 'step')\n",
    "\n",
    "\n",
    "plt.xlabel(r'log M$_{h}$ [M$_{\\odot}$]')\n",
    "plt.ylabel(r'f(logM$_{h}$)')\n",
    "handles = [Rectangle((0,0),1,1,facecolor=\"white\",ec=\"blue\",linestyle=':'),Rectangle((0,0),1,1,facecolor=\"white\",ec=\"red\",linestyle=':'),Rectangle((0,0),1,1,facecolor=\"white\",ec=\"blue\"),Rectangle((0,0),1,1,facecolor=\"white\",ec=\"red\")]\n",
    "\n",
    "labels= [\"Satellites Type 1\",\"Centrals Type 1\",\"Satellites Type 2\",\"Centrals Type 2\"]\n",
    "plt.legend(handles, labels,frameon=False,loc='upper right')\n",
    "\n",
    "\n",
    "#plt.axis([6, 9.5, -6,-1])\n",
    "plt.savefig(\"z0.1/flogMhty1_2.eps\")\n",
    "plt.show()\n",
    "plt.close()\n",
    "\n",
    "\n"
   ]
  },
  {
   "cell_type": "code",
   "execution_count": 44,
   "metadata": {},
   "outputs": [
    {
     "name": "stderr",
     "output_type": "stream",
     "text": [
      "/astro/home/viola.allevato/anaconda2/lib/python2.7/site-packages/ipykernel_launcher.py:47: RuntimeWarning: divide by zero encountered in divide\n"
     ]
    },
    {
     "data": {
      "image/png": "[encoded data removed]",
      "text/plain": [
       "<Figure size 432x288 with 1 Axes>"
      ]
     },
     "metadata": {
      "needs_background": "light"
     },
     "output_type": "display_data"
    }
   ],
   "source": [
    "import numpy as np\n",
    "\n",
    "# Presumably these are just various galaxy subsamples.\n",
    "flagsatty1 = np.where(idh5ty1 > 0) # flags for satellites in group ty1\n",
    "flagcenty1 = np.where(idh5ty1 < 1) # flags for centrans in group ty1\n",
    "flagsatty2 = np.where(idh5ty2 > 0) # etc\n",
    "flagcenty2 = np.where(idh5ty2 < 1)\n",
    "\n",
    "# Presumably Halo mass bins - not sure why these need to be different\n",
    "bins = np.arange(11.,15.,0.1)\n",
    "bins1 = np.arange(11.,14.9,0.1)\n",
    "\n",
    "# Presumably this is the unweighted histogram of everything, for comparison purposes.\n",
    "ntot = np.histogram(lgMhEQ5,bins=bins)\n",
    "\n",
    "# The histogram of sats in group 1, presumably weighted by the dutycycle. Etc\n",
    "nsatty1 = np.histogram(lgMhty1[flagsatty1],bins=bins,weights=fEQ5[flagsatty1])\n",
    "ncenty1 = np.histogram(lgMhty1[flagcenty1],bins=bins,weights=fEQ5[flagcenty1])\n",
    "nsatty2 = np.histogram(lgMhty2[flagsatty2],bins=bins,weights=fEQ5[flagsatty2])\n",
    "ncenty2 = np.histogram(lgMhty2[flagcenty2],bins=bins,weights=fEQ5[flagcenty2])\n",
    "\n",
    "# The same thing, but unweighted?\n",
    "nsatty1all = np.histogram(lgMhty1[flagsatty1],bins=bins)\n",
    "ncenty1all = np.histogram(lgMhty1[flagcenty1],bins=bins)\n",
    "nsatty2all = np.histogram(lgMhty2[flagsatty2],bins=bins)\n",
    "ncenty2all = np.histogram(lgMhty2[flagcenty2],bins=bins)\n",
    "\n",
    "# Everything in this section is just extractning the actual histogram elements\n",
    "hod = ntot[0]\n",
    "\n",
    "hodty1sat = nsatty1[0]\n",
    "hodty1cen = ncenty1[0]\n",
    "\n",
    "hodty2sat = nsatty2[0]\n",
    "hodty2cen = ncenty2[0]\n",
    "\n",
    "hodty1satall = nsatty1all[0]\n",
    "hodty1cenall = ncenty1all[0]\n",
    "\n",
    "hodty2satall = nsatty2all[0]\n",
    "hodty2cenall = ncenty2all[0]\n",
    "\n",
    "# Various conditions that compare to the bins, presumably setting data above/below certain thresholds.\n",
    "t = np.where(bins1 <=11.7 )\n",
    "h = np.where(bins1 >11.2 )\n",
    "l = np.where(bins1 <=11.2 )\n",
    "\n",
    "\n",
    "rapcenty1 = np.zeros(len(bins1))\n",
    "rapsatty1 = np.float64(hodty1sat)/np.float64(hodty1cenall)\n",
    "rapsatty1[t] = 0.0001\n",
    "\n",
    "rapcenty1[h] = np.float64(hodty1cen[h])/np.float64(hodty1cenall[h]) \n",
    "rapcenty1[l] = np.float64(hodty1cen[l])/np.float64(hod[l]) \n",
    "\n",
    "rapcenty2 = np.zeros(len(bins1))\n",
    "rapsatty2 = np.float64(hodty2sat)/np.float64(hodty2cenall)\n",
    "rapsatty2[t] = 0.0001\n",
    "rapcenty2[h] = np.float64(hodty2cen[h])/np.float64(hodty2cenall[h]) \n",
    "rapcenty2[l] = np.float64(hodty2cen[l])/np.float64(hod[l]) \n",
    "\n",
    "\n",
    "totty1 = rapsatty1 + rapcenty1\n",
    "totty2 = rapsatty2 + rapcenty2\n",
    "\n",
    "\n",
    "\n",
    "pyplot.yscale('log',nonposy='clip')\n",
    "#plt.plot(bins1,totty1,color='k',linewidth=3.,label=r'Total Type 1',linestyle='-')\n",
    "#plt.plot(bins1,totty2,color='k',linewidth=2.,label=r'Total Type 2',linestyle=':')\n",
    "plt.plot(bins1,rapsatty1,color='r',linewidth=1.5,linestyle='-',label=r'Satellites Type 1')\n",
    "plt.plot(bins1,rapsatty2,color='r',linewidth=1.5,linestyle=':',label=r'Satellites Type 2')\n",
    "plt.plot(bins1,rapcenty1,color='b',linewidth=1.5,label=r'Centrals Type 1',linestyle='-',)\n",
    "plt.plot(bins1,rapcenty2,color='b',linewidth=1.5,label=r'Centrals Type 2',linestyle=':')\n",
    "plt.xlabel(r'log M$_{h}$ [M$_{\\odot}$]')\n",
    "plt.ylabel(r'Halo Occupation $<N>$')\n",
    "legend = plt.legend(loc='upper left', shadow=False, frameon=False)\n",
    "plt.axis([11., 14., 10.**(-3),10.**(2.)])\n",
    "plt.text(13.5, 10.**(-2.8), r'z = 0.1')\n",
    "\n",
    "\n",
    "\n",
    "\n",
    "plt.savefig(\"z0.1/HODtyp1_2.eps\")\n",
    "plt.show()\n",
    "plt.close()\n",
    "\n",
    "\n"
   ]
  },
  {
   "cell_type": "code",
   "execution_count": 160,
   "metadata": {},
   "outputs": [],
   "source": [
    "#import weightedstats as ws\n",
    "\n",
    "\n",
    "Mstarbin = np.arange(9.,12.,0.3)\n",
    "\n",
    "medianbiasstarAGNty1 = np.zeros(len(Mstarbin))\n",
    "medianbiasstarAGNty2 = np.zeros(len(Mstarbin))\n",
    "\n",
    "errstarAGNty1 = np.zeros(len(Mstarbin))\n",
    "errstarAGNty2 = np.zeros(len(Mstarbin))\n",
    "\n",
    "medianMhstarAGNty1 = np.zeros(len(Mstarbin))\n",
    "medianMhstarAGNty2 = np.zeros(len(Mstarbin))\n",
    "\n",
    "errMhstarAGNty1 = np.zeros(len(Mstarbin))\n",
    "errMhstarAGNty2 = np.zeros(len(Mstarbin))\n",
    "\n",
    "\n",
    "\n",
    "\n",
    "\n",
    "for i in range(len(Mstarbin)-1):\n",
    "    \n",
    "    \n",
    "    N1 = np.where(((lgMstarty2) >= Mstarbin[i]) & ((lgMstarty2) < Mstarbin[i+1]))\n",
    "    medianbiasstarAGNty2[i] = np.sum(bEQ5ty2[N1]*fEQ5ty2[N1])/np.sum(fEQ5ty2[N1])\n",
    "    #ws.weighted_median(bEQ5ty2[N1], weights=fEQ5ty2[N1])\n",
    "    errstarAGNty2[i] = np.std(bEQ5ty2[N1])\n",
    "\n",
    "    N1 = np.where(((lgMstarty1) >= Mstarbin[i]) & ((lgMstarty1) < Mstarbin[i+1]))\n",
    "    medianbiasstarAGNty1[i] = np.sum(bEQ5ty1[N1]*fEQ5ty1[N1])/np.sum(fEQ5ty1[N1])\n",
    "    #ws.weighted_median(bEQ5ty2[N1], weights=fEQ5ty2[N1])\n",
    "    errstarAGNty1[i] = np.std(bEQ5ty1[N1])\n",
    "\n",
    "\n",
    "    N1 = np.where(((lgMstarty2) >= Mstarbin[i]) & ((lgMstarty2) < Mstarbin[i+1]))\n",
    "    medianMhstarAGNty2[i] = np.sum(lgMhty2[N1]*fEQ5ty2[N1])/np.sum(fEQ5ty2[N1])\n",
    "    #ws.weighted_median(lgMhty2[N1], weights=fEQ5ty2[N1])\n",
    "    errMhstarAGNty2[i] = np.std(lgMhty2[N1])\n",
    "\n",
    "    N1 = np.where(((lgMstarty1) >= Mstarbin[i]) & ((lgMstarty1) < Mstarbin[i+1]))\n",
    "    medianMhstarAGNty1[i] = np.sum(lgMhty1[N1]*fEQ5ty1[N1])/np.sum(fEQ5ty1[N1])\n",
    "    #ws.weighted_median(lgMhty2[N1], weights=fEQ5ty2[N1])\n",
    "    errMhstarAGNty1[i] = np.std(lgMhty1[N1])\n",
    "\n",
    "\n"
   ]
  },
  {
   "cell_type": "code",
   "execution_count": 159,
   "metadata": {},
   "outputs": [
    {
     "name": "stdout",
     "output_type": "stream",
     "text": [
      "[12.21394954 12.28993073 12.37315706 12.45940589 12.55929614 12.66123379\n",
      " 12.77676416 12.90097256 13.04574172 13.20888089 13.40943191 13.63004585\n",
      " 13.8688581   0.        ]\n"
     ]
    }
   ],
   "source": [
    "print medianMhstarAGNty2"
   ]
  },
  {
   "cell_type": "code",
   "execution_count": 169,
   "metadata": {},
   "outputs": [
    {
     "data": {
      "image/png": "[encoded data removed]",
      "text/plain": [
       "<Figure size 432x288 with 1 Axes>"
      ]
     },
     "metadata": {
      "needs_background": "light"
     },
     "output_type": "display_data"
    }
   ],
   "source": [
    "from matplotlib.patches import Rectangle\n",
    "\n",
    "a = plt.plot(Mstarbin,medianbiasstarAGNty2,color='silver',linewidth=2.5, linestyle='-')\n",
    "b = plt.plot(Mstarbin,medianbiasstarAGNty1,color='lavender',linewidth=2.5, linestyle='-')\n",
    "plt.fill_between(Mstarbin,medianbiasstarAGNty1+errstarAGNty1,medianbiasstarAGNty1-errstarAGNty1,color='lavender')\n",
    "plt.fill_between(Mstarbin,medianbiasstarAGNty2+errstarAGNty2,medianbiasstarAGNty2-errstarAGNty2,facecolor='none',hatch='x',edgecolor='silver')\n",
    "\n",
    "handles = [Rectangle((0,0),1,1,facecolor=\"white\",ec=\"silver\",hatch=\"x\"),Rectangle((0,0),1,1,color=\"lavender\",ec=\"k\"),a[0],b[0]]\n",
    "labels= [\"Mock Type 2 AGN\", \"Mock Type 1 AGN\"]\n",
    "\n",
    "plt.legend(handles, labels,frameon=False,loc='upper left')\n",
    "\n",
    "#plt.text(14.5, 6.8, r'z = 1.5')\n",
    "#plt.errorbar(lgMBH, b, yerr=berrup,fmt='o',color='black')\n",
    "#legend = plt.legend(loc='upper left', shadow=False, frameon=False)\n",
    "plt.xlabel(r'log M$_{star}$ [M$_{\\odot}$]',fontsize='16')\n",
    "plt.ylabel(r'bias',fontsize='16')\n",
    "plt.axis([10.,11.4,0.,3.])\n",
    "plt.savefig(\"z0.1/bvsMstar.png\")\n",
    "plt.show()\n",
    "plt.close()\n"
   ]
  },
  {
   "cell_type": "code",
   "execution_count": 134,
   "metadata": {},
   "outputs": [],
   "source": [
    "MBHbin = np.arange(6.,10.,0.3)\n",
    "\n",
    "medianbiasstarAGNty1 = np.zeros(len(MBHbin))\n",
    "medianbiasstarAGNty2 = np.zeros(len(MBHbin))\n",
    "\n",
    "errstarAGNty1 = np.zeros(len(MBHbin))\n",
    "errstarAGNty2 = np.zeros(len(MBHbin))\n",
    "\n",
    "medianMhstarAGNty1 = np.zeros(len(MBHbin))\n",
    "medianMhstarAGNty2 = np.zeros(len(MBHbin))\n",
    "\n",
    "errMhstarAGNty1 = np.zeros(len(MBHbin))\n",
    "errMhstarAGNty2 = np.zeros(len(MBHbin))\n",
    "\n",
    "\n",
    "\n",
    "\n",
    "\n",
    "for i in range(len(MBHbin)-1):\n",
    "    \n",
    "    \n",
    "    N1 = np.where(((BhMass_EQ5ty2) >= MBHbin[i]) & ((BhMass_EQ5ty2) < MBHbin[i+1]))\n",
    "    medianbiasstarAGNty2[i] = np.sum(bEQ5ty2[N1]*fEQ5ty2[N1])/np.sum(fEQ5ty2[N1])\n",
    "    #ws.weighted_median(bEQ5ty2[N1], weights=fEQ5ty2[N1])\n",
    "    errstarAGNty2[i] = np.std(bEQ5ty2[N1])\n",
    "\n",
    "    N1 = np.where(((BhMass_EQ5ty1) >= MBHbin[i]) & ((BhMass_EQ5ty1) < MBHbin[i+1]))\n",
    "    medianbiasstarAGNty1[i] = np.sum(bEQ5ty1[N1]*fEQ5ty1[N1])/np.sum(fEQ5ty1[N1])\n",
    "    #ws.weighted_median(bEQ5ty2[N1], weights=fEQ5ty2[N1])\n",
    "    errstarAGNty1[i] = np.std(bEQ5ty1[N1])\n",
    "\n",
    "\n",
    "    N1 = np.where(((BhMass_EQ5ty2) >= MBHbin[i]) & ((BhMass_EQ5ty2) < MBHbin[i+1]))\n",
    "    medianMhstarAGNty2[i] = np.sum(lgMhty2[N1]*fEQ5ty2[N1])/np.sum(fEQ5ty2[N1])\n",
    "    #ws.weighted_median(lgMhty2[N1], weights=fEQ5ty2[N1])\n",
    "    errMhstarAGNty2[i] = np.std(lgMhty2[N1])\n",
    "\n",
    "    N1 = np.where(((BhMass_EQ5ty1) >= MBHbin[i]) & ((BhMass_EQ5ty1) < MBHbin[i+1]))\n",
    "    medianMhstarAGNty1[i] = np.sum(lgMhty1[N1]*fEQ5ty1[N1])/np.sum(fEQ5ty1[N1])\n",
    "    #ws.weighted_median(lgMhty2[N1], weights=fEQ5ty2[N1])\n",
    "    errMhstarAGNty1[i] = np.std(lgMhty1[N1])\n",
    "\n",
    "\n"
   ]
  },
  {
   "cell_type": "code",
   "execution_count": 135,
   "metadata": {},
   "outputs": [
    {
     "name": "stdout",
     "output_type": "stream",
     "text": [
      "[12.21875832 12.29112418 12.37487056 12.463364   12.55877628 12.65854218\n",
      " 12.77541252 12.90212544 13.04846259 13.22049088 13.41269172 13.64456519\n",
      " 13.86029148  0.        ]\n"
     ]
    }
   ],
   "source": [
    "print medianMhstarAGNty1"
   ]
  },
  {
   "cell_type": "code",
   "execution_count": 157,
   "metadata": {},
   "outputs": [
    {
     "data": {
      "image/png": "[encoded data removed]",
      "text/plain": [
       "<Figure size 432x288 with 1 Axes>"
      ]
     },
     "metadata": {
      "needs_background": "light"
     },
     "output_type": "display_data"
    }
   ],
   "source": [
    "from matplotlib.patches import Rectangle\n",
    "\n",
    "bKru18 = [1.03, 0.98]\n",
    "errbKru18 = [0.12,0.03]\n",
    "BHKru18 = [7.39, 8.39]\n",
    "plt.plot(MBHbin,medianbiasstarAGNty2,color='silver',linewidth=2.5, linestyle='-')\n",
    "plt.plot(MBHbin,medianbiasstarAGNty1,color='lavender',linewidth=2.5, linestyle='-')\n",
    "plt.fill_between(MBHbin,medianbiasstarAGNty1+errstarAGNty1,medianbiasstarAGNty1-errstarAGNty1,color='lavender')\n",
    "plt.fill_between(MBHbin,medianbiasstarAGNty2+errstarAGNty2,medianbiasstarAGNty2-errstarAGNty2,facecolor='none',hatch='x',edgecolor='silver')\n",
    "c = plt.errorbar(BHKru18, bKru18, yerr=errbKru18,fmt='^',ms='14',color='black')\n",
    "\n",
    "\n",
    "handles = [Rectangle((0,0),1,1,facecolor=\"white\",ec=\"silver\",hatch=\"x\"),Rectangle((0,0),1,1,color=\"lavender\",ec=\"k\"),c[0]]\n",
    "labels= [\"Mock Type 2 AGN\", \"Mock Type 1 AGN\",\"Krumpe et al. 2018, AGN z$<$0.1\"]\n",
    "\n",
    "plt.legend(handles, labels,frameon=False,loc='upper left')\n",
    "\n",
    "plt.text(9., 0.2, r'z = 0.1')\n",
    "#plt.errorbar(lgMBH, b, yerr=berrup,fmt='o',color='black')\n",
    "#legend = plt.legend(loc='upper left', shadow=False, frameon=False)\n",
    "plt.xlabel(r'log M$_{BH}$ [M$_{\\odot}$]',fontsize='16')\n",
    "plt.ylabel(r'bias',fontsize='16')\n",
    "plt.axis([6.,9.5,0.,3.])\n",
    "plt.savefig(\"z0.1/bvsMBH.png\")\n",
    "plt.show()\n",
    "plt.close()"
   ]
  },
  {
   "cell_type": "code",
   "execution_count": 156,
   "metadata": {},
   "outputs": [
    {
     "data": {
      "image/png": "[encoded data removed]",
      "text/plain": [
       "<Figure size 432x288 with 1 Axes>"
      ]
     },
     "metadata": {
      "needs_background": "light"
     },
     "output_type": "display_data"
    }
   ],
   "source": [
    "from matplotlib.patches import Rectangle\n",
    "\n",
    "MBHPow = [7.6,8.4]\n",
    "MhPow = [12.6,12.8]\n",
    "errupMhPow = [0.5,0.3]\n",
    "#errdwMhPow = [0.9,0.4]\n",
    "\n",
    "\n",
    "plt.plot(MBHbin,medianMhstarAGNty2,color='silver',linewidth=2.5, linestyle='-')\n",
    "plt.plot(MBHbin,medianMhstarAGNty1,color='lavender',linewidth=2.5, linestyle='-')\n",
    "plt.fill_between(MBHbin,medianMhstarAGNty1+errMhstarAGNty1,medianMhstarAGNty1-errMhstarAGNty1,color='lavender')\n",
    "plt.fill_between(MBHbin,medianMhstarAGNty2+errMhstarAGNty2,medianMhstarAGNty2-errMhstarAGNty2,facecolor='none',hatch='x',edgecolor='silver')\n",
    "c = plt.errorbar(MBHPow, MhPow, yerr=errupMhPow,fmt='^',color='black',ms=12)\n",
    "\n",
    "handles = [Rectangle((0,0),1,1,facecolor=\"white\",ec=\"silver\",hatch=\"x\"),Rectangle((0,0),1,1,color=\"lavender\",ec=\"k\"),c[0]]\n",
    "labels= [\"Mock Type 2 AGN\", \"Mock Type 1 AGN\",\"Powell et al. 2018, AGN z$<$0.1\"]\n",
    "\n",
    "plt.legend(handles, labels,frameon=False,loc='upper left')\n",
    "\n",
    "plt.text(9., 11.2, r'z = 0.1')\n",
    "#plt.errorbar(lgMBH, b, yerr=berrup,fmt='o',color='black')\n",
    "#legend = plt.legend(loc='upper left', shadow=False, frameon=False)\n",
    "plt.xlabel(r'log M$_{BH}$ [M$_{\\odot}$]',fontsize='16')\n",
    "plt.ylabel(r'log M$_h$ [M$_{\\odot}$]',fontsize='16')\n",
    "plt.axis([6.,9.5,11.,14.5])\n",
    "plt.savefig(\"z0.1/MhvsMBH.png\")\n",
    "plt.show()\n",
    "plt.close()"
   ]
  },
  {
   "cell_type": "code",
   "execution_count": 48,
   "metadata": {},
   "outputs": [
    {
     "data": {
      "image/png": "[encoded data removed]",
      "text/plain": [
       "<Figure size 432x288 with 1 Axes>"
      ]
     },
     "metadata": {
      "needs_background": "light"
     },
     "output_type": "display_data"
    }
   ],
   "source": [
    "#plt.hist(np.log10(10.**lglum5cut/10.**lgMstarEQ5),bins=40,color='blue',histtype = 'stepfilled',label='Eq5')\n",
    "#plt.show()\n",
    "a = plt.hist(BhMass_EQ5ty1,bins=40,weights=fEQ5ty1,density=True,color='lavender',histtype = 'stepfilled',label='Type 1')\n",
    "b = plt.hist(BhMass_EQ5ty2,bins=40,weights=fEQ5ty2,density=True,color='silver',hatch='x',histtype = 'step',label='Type 2')\n",
    "handles = [Rectangle((0,0),1,1,color=\"lavender\",ec=\"k\"),Rectangle((0,0),1,1,facecolor=\"white\",ec=\"silver\",hatch=\"x\"),a[0],b[0]]\n",
    "\n",
    "labels= [\"Mock Type 1 AGN\", \"Mock Type 2 AGN\"]\n",
    "plt.legend(handles, labels,frameon=False,loc='upper right')\n",
    "plt.text(4.8, 0.9, r'z = 0.1')\n",
    "\n",
    "plt.axis([4.7,8.5,0.,1.])\n",
    "\n",
    "\n",
    "plt.savefig(\"z0.1/MBHdistrty1_2.png\")\n",
    "plt.show()\n",
    "plt.close()\n",
    "\n",
    "\n",
    "#plt.show()\n",
    "#plt.hist(lgMstarEQ5,bins=40,color='blue',histtype = 'stepfilled',label='Eq5')\n",
    "#plt.show()\n",
    "#plt.hist(lglum5cut,bins=40,color='blue',histtype = 'stepfilled',label='Eq5')\n",
    "#plt.hist(lglum5gaucut,bins=40,color='red',histtype = 'step',label='Eq5')\n",
    "#plt.show()"
   ]
  },
  {
   "cell_type": "code",
   "execution_count": 118,
   "metadata": {},
   "outputs": [
    {
     "data": {
      "image/png": "[encoded data removed]",
      "text/plain": [
       "<Figure size 432x288 with 1 Axes>"
      ]
     },
     "metadata": {
      "needs_background": "light"
     },
     "output_type": "display_data"
    }
   ],
   "source": [
    "a = plt.hist(lgNHEQ5ty1,bins=20,weights=fEQ5ty1,density=True,color='lavender',histtype = 'stepfilled',label='Type 1')\n",
    "b = plt.hist(lgNHEQ5ty2,bins=20,weights=fEQ5ty2,density=True,color='silver',hatch='x',histtype = 'step',label='Type 2')\n",
    "handles = [Rectangle((0,0),1,1,color=\"lavender\",ec=\"k\"),Rectangle((0,0),1,1,facecolor=\"white\",ec=\"silver\",hatch=\"x\"),a[0],b[0]]\n",
    "labels= [\"Mock Type 1 AGN\", \"Mock Type 2 AGN\"]\n",
    "plt.legend(handles, labels,frameon=False,loc='upper right')\n",
    "\n",
    "\n",
    "plt.savefig(\"z0.1/NHdistrty1_2.png\")\n",
    "plt.show()\n",
    "plt.close()\n",
    "\n"
   ]
  },
  {
   "cell_type": "code",
   "execution_count": 49,
   "metadata": {},
   "outputs": [
    {
     "data": {
      "image/png": "[encoded data removed]",
      "text/plain": [
       "<Figure size 432x288 with 1 Axes>"
      ]
     },
     "metadata": {
      "needs_background": "light"
     },
     "output_type": "display_data"
    }
   ],
   "source": [
    "a=plt.hist(lgMstarty1,bins=40,weights=fEQ5ty1,density=True,color='lavender',histtype = 'stepfilled',label='Type 1')\n",
    "b=plt.hist(lgMstarty2,bins=40,weights=fEQ5ty2,density=True,color='silver',hatch='x',histtype = 'step',label='Type 2')\n",
    "handles = [Rectangle((0,0),1,1,color=\"lavender\",ec=\"k\"),Rectangle((0,0),1,1,facecolor=\"white\",ec=\"silver\",hatch=\"x\"),a[0],b[0]]\n",
    "labels= [\"Mock Type 1 AGN\", \"Mock Type 2 AGN\"]\n",
    "plt.legend(handles, labels,frameon=False,loc='upper right')\n",
    "\n",
    "plt.text(9.3, 1.4, r'z = 0.1')\n",
    "\n",
    "plt.axis([9.2,12.,0.,1.5])\n",
    "\n",
    "\n",
    "plt.savefig(\"z0.1/Mstardistrty1_2.png\")\n",
    "plt.show()\n",
    "plt.close()\n",
    "\n"
   ]
  },
  {
   "cell_type": "code",
   "execution_count": 98,
   "metadata": {},
   "outputs": [
    {
     "name": "stderr",
     "output_type": "stream",
     "text": [
      "In gridlink_index_particles_double> Running with [nmesh_x, nmesh_y, nmesh_z]  = 33,33,20.  Time taken =   1.651 sec\n",
      "countpairs_wp_double> gridlink seems inefficient. nmesh = (33, 33, 20); avg_np = 453. Boosting bin refine factor - should lead to better performance\n",
      "xmin = 0.000000 xmax=1000.000000 rpmax = 30.000000\n",
      "In gridlink_index_particles_double> Running with [nmesh_x, nmesh_y, nmesh_z]  = 66,66,20.  Time taken =   1.741 sec\n",
      "Using fallback kernel\n",
      "0%.........10%.........20%.........30%.........40%.........Received signal = `Interrupt' (signo = 2). Aborting \n"
     ]
    },
    {
     "ename": "RuntimeError",
     "evalue": "RuntimeError occurred",
     "output_type": "error",
     "traceback": [
      "\u001b[0;31m---------------------------------------------------------------------------\u001b[0m",
      "\u001b[0;31mRuntimeError\u001b[0m                              Traceback (most recent call last)",
      "\u001b[0;32m<ipython-input-98-ab73f6b69662>\u001b[0m in \u001b[0;36m<module>\u001b[0;34m()\u001b[0m\n\u001b[1;32m      6\u001b[0m \u001b[0;34m\u001b[0m\u001b[0m\n\u001b[1;32m      7\u001b[0m \u001b[0mperiod\u001b[0m \u001b[0;34m=\u001b[0m \u001b[0;36m1000\u001b[0m\u001b[0;34m\u001b[0m\u001b[0m\n\u001b[0;32m----> 8\u001b[0;31m \u001b[0mwp_results\u001b[0m \u001b[0;34m=\u001b[0m \u001b[0mwp\u001b[0m\u001b[0;34m(\u001b[0m\u001b[0mperiod\u001b[0m\u001b[0;34m,\u001b[0m \u001b[0mpi_max\u001b[0m\u001b[0;34m,\u001b[0m \u001b[0mnthreads\u001b[0m\u001b[0;34m,\u001b[0m \u001b[0mbins\u001b[0m\u001b[0;34m,\u001b[0m \u001b[0mxEQ5\u001b[0m\u001b[0;34m,\u001b[0m \u001b[0myEQ5\u001b[0m\u001b[0;34m,\u001b[0m \u001b[0mzEQ5\u001b[0m\u001b[0;34m,\u001b[0m  \u001b[0mweights\u001b[0m\u001b[0;34m=\u001b[0m\u001b[0mfEQ5\u001b[0m\u001b[0;34m,\u001b[0m \u001b[0mweight_type\u001b[0m\u001b[0;34m=\u001b[0m\u001b[0;34m'pair_product'\u001b[0m\u001b[0;34m,\u001b[0m\u001b[0mverbose\u001b[0m \u001b[0;34m=\u001b[0m \u001b[0mTrue\u001b[0m\u001b[0;34m)\u001b[0m\u001b[0;34m\u001b[0m\u001b[0m\n\u001b[0m\u001b[1;32m      9\u001b[0m \u001b[0mwrpEQ5AGN\u001b[0m \u001b[0;34m=\u001b[0m \u001b[0mwp_results\u001b[0m\u001b[0;34m[\u001b[0m\u001b[0;34m'wp'\u001b[0m\u001b[0;34m]\u001b[0m\u001b[0;34m\u001b[0m\u001b[0m\n",
      "\u001b[0;32m/astro/home/viola.allevato/anaconda2/lib/python2.7/site-packages/Corrfunc/theory/wp.pyc\u001b[0m in \u001b[0;36mwp\u001b[0;34m(boxsize, pimax, nthreads, binfile, X, Y, Z, weights, weight_type, verbose, output_rpavg, xbin_refine_factor, ybin_refine_factor, zbin_refine_factor, max_cells_per_dim, c_api_timer, c_cell_timer, isa)\u001b[0m\n\u001b[1;32m    513\u001b[0m     \u001b[0;32mif\u001b[0m \u001b[0mextn_results\u001b[0m \u001b[0;32mis\u001b[0m \u001b[0mNone\u001b[0m\u001b[0;34m:\u001b[0m\u001b[0;34m\u001b[0m\u001b[0m\n\u001b[1;32m    514\u001b[0m         \u001b[0mmsg\u001b[0m \u001b[0;34m=\u001b[0m \u001b[0;34m\"RuntimeError occurred\"\u001b[0m\u001b[0;34m\u001b[0m\u001b[0m\n\u001b[0;32m--> 515\u001b[0;31m         \u001b[0;32mraise\u001b[0m \u001b[0mRuntimeError\u001b[0m\u001b[0;34m(\u001b[0m\u001b[0mmsg\u001b[0m\u001b[0;34m)\u001b[0m\u001b[0;34m\u001b[0m\u001b[0m\n\u001b[0m\u001b[1;32m    516\u001b[0m     \u001b[0;32melse\u001b[0m\u001b[0;34m:\u001b[0m\u001b[0;34m\u001b[0m\u001b[0m\n\u001b[1;32m    517\u001b[0m         \u001b[0mextn_results\u001b[0m\u001b[0;34m,\u001b[0m \u001b[0mapi_time\u001b[0m\u001b[0;34m,\u001b[0m \u001b[0mcell_time\u001b[0m \u001b[0;34m=\u001b[0m \u001b[0mextn_results\u001b[0m\u001b[0;34m\u001b[0m\u001b[0m\n",
      "\u001b[0;31mRuntimeError\u001b[0m: RuntimeError occurred"
     ]
    }
   ],
   "source": [
    "nthreads = 8\n",
    "\n",
    "pi_max = 50\n",
    "\n",
    "bins = numpy.linspace(0.1, 30, 100)\n",
    "\n",
    "period = 1000\n",
    "wp_results = wp(period, pi_max, nthreads, bins, xEQ5, yEQ5, zEQ5,  weights=fEQ5, weight_type='pair_product',verbose = True)\n",
    "wrpEQ5AGN = wp_results['wp']"
   ]
  },
  {
   "cell_type": "code",
   "execution_count": 79,
   "metadata": {},
   "outputs": [
    {
     "data": {
      "image/png": "[encoded data removed]",
      "text/plain": [
       "<Figure size 432x288 with 1 Axes>"
      ]
     },
     "metadata": {
      "needs_background": "light"
     },
     "output_type": "display_data"
    }
   ],
   "source": [
    "pyplot.figure()\n",
    "pyplot.xscale('log')\n",
    "pyplot.yscale('log',nonposy='clip')\n",
    "rpDM, wpDM = np.loadtxt('wrp_dm_EisensteinHu_pimax40.000000_z1.000000.txt',skiprows=0,usecols=(0,1),unpack=True)\n",
    "#pyplot.plot(bins[0:-1], wrpEQ4low, label = \"Eq4\",color='red')\n",
    "pyplot.plot(bins[0:-1], wrpEQ5AGN, label = \"AGN\",color='black')\n",
    "pyplot.plot(rpDM, wpDM*1.2*1.2, label = \"DM\",color='blue',linestyle=':')\n",
    "\n",
    "\n",
    "#plt.errorbar(rpKru,wpKru, yerr=50,fmt='o',color='black',label='Krumpe + 2015')\n",
    " \n",
    "    \n",
    "pyplot.xlabel(r\"$r_p$ [Mpc $h^{-1}$]\")\n",
    "pyplot.ylabel(r\"$w_p$ ($r_p$)\")\n",
    "pyplot.legend()\n",
    "pyplot.savefig(\"z0.1/wrpAGN.png\")\n",
    "pyplot.show()\n",
    "pyplot.close()\n",
    "\n",
    "np.savetxt('z0.1/wpAGN.txt',np.column_stack((bins[0:-1],wrpEQ5AGN)))       \n",
    "\n"
   ]
  },
  {
   "cell_type": "code",
   "execution_count": 72,
   "metadata": {},
   "outputs": [
    {
     "name": "stderr",
     "output_type": "stream",
     "text": [
      "In gridlink_index_particles_double> Running with [nmesh_x, nmesh_y, nmesh_z]  = 33,33,20.  Time taken =   0.338 sec\n",
      "0%.........10%.........20%.........30%.........40%.........50%.........60%.........70%.........80%.........90%.........100% done. Time taken = 21.798 secs\n"
     ]
    }
   ],
   "source": [
    "nthreads = 8\n",
    "\n",
    "pi_max = 50\n",
    "\n",
    "bins = numpy.linspace(0.1, 30, 100)\n",
    "\n",
    "period = 1000\n",
    "wp_results = wp(period, pi_max, nthreads, bins, xty1, yty1, zty1,  weights=fEQ5ty1, weight_type='pair_product',verbose = True)\n",
    "wrpEQ5ty1 = wp_results['wp']"
   ]
  },
  {
   "cell_type": "code",
   "execution_count": 73,
   "metadata": {},
   "outputs": [
    {
     "name": "stderr",
     "output_type": "stream",
     "text": [
      "In gridlink_index_particles_double> Running with [nmesh_x, nmesh_y, nmesh_z]  = 33,33,20.  Time taken =   0.906 sec\n",
      "0%.........10%.........20%.........30%.........40%.........50%.........60%.........70%.........80%.........90%.........100% done. Time taken =     2 mins   40 secs\n"
     ]
    }
   ],
   "source": [
    "nthreads = 8\n",
    "\n",
    "pi_max = 50\n",
    "\n",
    "bins = numpy.linspace(0.1, 30, 100)\n",
    "\n",
    "period = 1000\n",
    "wp_results = wp(period, pi_max, nthreads, bins, xty2, yty2, zty2,  weights=fEQ5ty2, weight_type='pair_product',verbose = True)\n",
    "wrpEQ5ty2 = wp_results['wp']"
   ]
  },
  {
   "cell_type": "code",
   "execution_count": 89,
   "metadata": {},
   "outputs": [
    {
     "data": {
      "image/png": "[encoded data removed]",
      "text/plain": [
       "<Figure size 432x288 with 1 Axes>"
      ]
     },
     "metadata": {
      "needs_background": "light"
     },
     "output_type": "display_data"
    }
   ],
   "source": [
    "pyplot.figure()\n",
    "pyplot.xscale('log')\n",
    "#pyplot.yscale('log',nonposy='clip')\n",
    "\n",
    "#pyplot.plot(bins[0:-1], wrpEQ4low, label = \"Eq4\",color='red')\n",
    "pyplot.plot(bins[0:-1], bins[0:-1]*wrpEQ5ty1, label = \"Type 1 AGN\",color='blue',linestyle='-')\n",
    "pyplot.plot(bins[0:-1], bins[0:-1]*wrpEQ5ty2, label = \"Type 2 AGN\",color='red',linestyle=':')\n",
    "#pyplot.plot(rpDM, rpDM*wpDM, label = \"b2*DM\",color='black')\n",
    "\n",
    "\n",
    "#plt.errorbar(rpKru,wpKru, yerr=50,fmt='o',color='black',label='Krumpe + 2015')\n",
    " \n",
    "    \n",
    "pyplot.xlabel(r\"$r_p$ [Mpc $h^{-1}$]\")\n",
    "pyplot.ylabel(r\"$w_p$ ($r_p$)\")\n",
    "pyplot.legend()\n",
    "pyplot.savefig(\"z0.1/wrpty1_2.png\")\n",
    "pyplot.show()\n",
    "pyplot.close()\n",
    "\n",
    "np.savetxt('z0.1/wpAGNty1.txt',np.column_stack((bins[0:-1],wrpEQ5ty1)))       \n",
    "np.savetxt('z0.1/wpAGNty2.txt',np.column_stack((bins[0:-1],wrpEQ5ty2)))       \n",
    "\n",
    "\n"
   ]
  },
  {
   "cell_type": "code",
   "execution_count": 87,
   "metadata": {},
   "outputs": [
    {
     "data": {
      "image/png": "[encoded data removed]",
      "text/plain": [
       "<Figure size 432x288 with 1 Axes>"
      ]
     },
     "metadata": {
      "needs_background": "light"
     },
     "output_type": "display_data"
    }
   ],
   "source": [
    "pyplot.figure()\n",
    "pyplot.xscale('log')\n",
    "pyplot.yscale('log',nonposy='clip')\n",
    "\n",
    "#pyplot.plot(bins[0:-1], wrpEQ4low, label = \"Eq4\",color='red')\n",
    "pyplot.plot(bins[0:-1], wrpEQ5ty1, label = \"Type 1 AGN\",color='blue',linestyle='-')\n",
    "pyplot.plot(bins[0:-1], wrpEQ5ty2, label = \"Type 2 AGN\",color='red',linestyle=':')\n",
    "\n",
    "#pyplot.plot(rpDM, wpDM*1.11*1.11, label = \"b2*DM\",color='blue')\n",
    "\n",
    "\n",
    "#plt.errorbar(rpKru,wpKru, yerr=50,fmt='o',color='black',label='Krumpe + 2015')\n",
    " \n",
    "    \n",
    "pyplot.xlabel(r\"$r_p$ [Mpc $h^{-1}$]\")\n",
    "pyplot.ylabel(r\"$w_p$ ($r_p$)\")\n",
    "plt.axis([10.**(-1), 10.**(0),10.**(1.15), 10.**2.5])\n",
    "pyplot.legend()\n",
    "pyplot.savefig(\"wrpty1_2a.png\")\n",
    "pyplot.show()\n",
    "pyplot.close()\n",
    "\n"
   ]
  },
  {
   "cell_type": "code",
   "execution_count": 129,
   "metadata": {},
   "outputs": [
    {
     "name": "stderr",
     "output_type": "stream",
     "text": [
      "/astro/home/viola.allevato/anaconda2/lib/python2.7/site-packages/ipykernel_launcher.py:17: RuntimeWarning: invalid value encountered in double_scalars\n",
      "/astro/home/viola.allevato/anaconda2/lib/python2.7/site-packages/ipykernel_launcher.py:21: RuntimeWarning: invalid value encountered in double_scalars\n"
     ]
    }
   ],
   "source": [
    "eddbin = np.arange(-1.5,0.,0.2)\n",
    "\n",
    "medianbiaseddAGNty2 = np.zeros(len(eddbin))\n",
    "medianbiaseddAGNty1 = np.zeros(len(eddbin))\n",
    "\n",
    "\n",
    "\n",
    "erreddAGNty2 = np.zeros(len(eddbin))\n",
    "erreddAGNty1 = np.zeros(len(eddbin))\n",
    "\n",
    "\n",
    "\n",
    "for i in range(len(eddbin)-1):\n",
    "    \n",
    "    \n",
    "    N1 = np.where(((eddty2) >= eddbin[i]) & ((eddty2) < eddbin[i+1]))\n",
    "    medianbiaseddAGNty2[i] = np.sum(bEQ5ty2[N1]*fEQ5ty2[N1])/np.sum(fEQ5ty2[N1])\n",
    "    erreddAGNty2[i] = np.std(bEQ5ty2[N1])\n",
    "\n",
    "    N1 = np.where(((eddty1) >= eddbin[i]) & ((eddty1) < eddbin[i+1]))\n",
    "    medianbiaseddAGNty1[i] = np.sum(bEQ5ty1[N1]*fEQ5ty1[N1])/np.sum(fEQ5ty1[N1])\n",
    "    erreddAGNty1[i] = np.std(bEQ5ty1[N1])\n",
    "\n",
    "\n",
    "\n",
    "#np.savetxt('bvseddcut12.txt',np.column_stack((eddbin,medianbiaseddAGN,erreddAGN))) \n",
    "\n",
    "\n"
   ]
  },
  {
   "cell_type": "code",
   "execution_count": 130,
   "metadata": {},
   "outputs": [
    {
     "data": {
      "image/png": "[encoded data removed]",
      "text/plain": [
       "<Figure size 432x288 with 1 Axes>"
      ]
     },
     "metadata": {
      "needs_background": "light"
     },
     "output_type": "display_data"
    }
   ],
   "source": [
    "from matplotlib.patches import Rectangle\n",
    "\n",
    "\n",
    "a = plt.plot(eddbin,medianbiaseddAGNty2,color='silver',linewidth=2.5, linestyle='-')\n",
    "b = plt.plot(eddbin,medianbiaseddAGNty1,color='lavender',linewidth=2.5, linestyle='-')\n",
    "plt.fill_between(eddbin,medianbiaseddAGNty1+erreddAGNty1,medianbiaseddAGNty1-erreddAGNty1,color='lavender')\n",
    "plt.fill_between(eddbin,medianbiaseddAGNty2+erreddAGNty2,medianbiaseddAGNty2-erreddAGNty2,facecolor='none',hatch='x',edgecolor='silver')\n",
    "\n",
    "handles = [Rectangle((0,0),1,1,facecolor=\"white\",ec=\"silver\",hatch=\"x\"),Rectangle((0,0),1,1,color=\"lavender\",ec=\"k\"),a[0],b[0]]\n",
    "labels= [\"Mock Type 2 AGN\", \"Mock Type 1 AGN\"]\n",
    "\n",
    "plt.legend(handles, labels,frameon=False,loc='upper left')\n",
    "\n",
    "#plt.text(14.5, 6.8, r'z = 1.5')\n",
    "#plt.errorbar(lgMBH, b, yerr=berrup,fmt='o',color='black')\n",
    "#legend = plt.legend(loc='upper left', shadow=False, frameon=False)\n",
    "plt.xlabel(r'log M$_{star}$ [M$_{\\odot}$]',fontsize='16')\n",
    "plt.ylabel(r'bias',fontsize='16')\n",
    "#plt.axis([6.,9.5,0.,3.])\n",
    "plt.savefig(\"z0.1/bvsedd.png\")\n",
    "plt.show()\n",
    "plt.close()"
   ]
  },
  {
   "cell_type": "code",
   "execution_count": 305,
   "metadata": {},
   "outputs": [
    {
     "data": {
      "image/png": "[encoded data removed]",
      "text/plain": [
       "<Figure size 432x288 with 1 Axes>"
      ]
     },
     "metadata": {
      "needs_background": "light"
     },
     "output_type": "display_data"
    },
    {
     "data": {
      "image/png": "[encoded data removed]",
      "text/plain": [
       "<Figure size 432x288 with 1 Axes>"
      ]
     },
     "metadata": {
      "needs_background": "light"
     },
     "output_type": "display_data"
    },
    {
     "data": {
      "image/png": "[encoded data removed]",
      "text/plain": [
       "<Figure size 432x288 with 1 Axes>"
      ]
     },
     "metadata": {
      "needs_background": "light"
     },
     "output_type": "display_data"
    },
    {
     "data": {
      "image/png": "[encoded data removed]",
      "text/plain": [
       "<Figure size 432x288 with 1 Axes>"
      ]
     },
     "metadata": {
      "needs_background": "light"
     },
     "output_type": "display_data"
    }
   ],
   "source": [
    "Mstar, Lx, edd = np.loadtxt('CCLXMMAGNfluxspeczlohiMSFR.txt',skiprows=0,usecols=(8,14,15),unpack=True)\n",
    "\n",
    "plt.hist(np.log10(10.**lglum5ty2/10.**lgMstarty2),density=True,weights=fEQ5ty2,bins=40,color='blue',histtype = 'step',label='Ty2')\n",
    "plt.hist(np.log10(10.**lglum5ty2/10.**lgMstarty2),density=True,weights=fgalEQ5ty2,bins=40,color='red',histtype = 'step',label='Gal')\n",
    "plt.hist(np.log10(10.**lglumCCLXMM/10.**lgMstarCCLXMM),density=True,weights=fgalCCLXMM,bins=40,color='black',histtype = 'step',label='Gal')\n",
    "plt.hist(edd,density=True,bins=40,color='magenta',histtype = 'step',label='CCLXMM AGN')\n",
    "\n",
    "plt.show()\n",
    "\n",
    "plt.hist(lgMstarty2,bins=40,color='blue',density=True,weights=fEQ5ty2,histtype = 'step',label='Eq5')\n",
    "plt.hist(lgMstarty2,bins=40,color='red',density=True,weights=fgalEQ5ty2,histtype = 'step',label='Eq5')\n",
    "plt.hist(lgMstarCCLXMM,bins=40,color='black',density=True,weights=fgalCCLXMM,linestyle = '--',histtype = 'step',label='Eq5')\n",
    "plt.hist(Mstar,density=True,bins=40,color='magenta',histtype = 'step',label='CCLXMM AGN')\n",
    "\n",
    "\n",
    "plt.show()\n",
    "\n",
    "plt.hist(lglum5ty2,bins=40,color='blue',density=True,weights=fEQ5ty2,histtype = 'step',label='Eq5')\n",
    "plt.hist(lglum5ty2,bins=40,color='red',density=True,weights=fgalEQ5ty2,histtype = 'step',label='Eq5')\n",
    "plt.hist(lglumCCLXMM,bins=40,density=True,weights=fgalCCLXMM,histtype = 'step',label='Eq5')\n",
    "plt.hist(Lx,density=True,bins=40,color='magenta',histtype = 'step',label='CCLXMM AGN')\n",
    "\n",
    "plt.show()\n",
    "plt.hist(logSFRty2,bins=40,color='blue',density=True,weights=fEQ5ty2,histtype = 'step',label='Eq5')\n",
    "plt.hist(logSFRty2,bins=40,color='red',density=True,weights=fgalEQ5ty2,histtype = 'step',label='Eq5')\n",
    "plt.show()"
   ]
  },
  {
   "cell_type": "code",
   "execution_count": 302,
   "metadata": {},
   "outputs": [],
   "source": [
    "import weightedstats as ws\n",
    "\n",
    "\n",
    "Mstarbin = np.arange(9.,12.,0.3)\n",
    "\n",
    "medianbiasstarAGN = np.zeros(len(Mstarbin))\n",
    "medianbiasstargal= np.zeros(len(Mstarbin))\n",
    "medianbiasstargalty2= np.zeros(len(Mstarbin))\n",
    "\n",
    "\n",
    "errstarAGN = np.zeros(len(Mstarbin))\n",
    "errstargal = np.zeros(len(Mstarbin))\n",
    "errstargalty2 = np.zeros(len(Mstarbin))\n",
    "\n",
    "\n",
    "\n",
    "medianMhstarAGN = np.zeros(len(Mstarbin))\n",
    "medianMhstargal= np.zeros(len(Mstarbin))\n",
    "medianMhstargalty2= np.zeros(len(Mstarbin))\n",
    "\n",
    "\n",
    "errMhstarAGN = np.zeros(len(Mstarbin))\n",
    "errMhstargal = np.zeros(len(Mstarbin))\n",
    "errMhstargalty2 = np.zeros(len(Mstarbin))\n",
    "\n",
    "\n",
    "\n",
    "for i in range(len(Mstarbin)-1):\n",
    "    \n",
    "    \n",
    "    N1 = np.where(((lgMstarty2) >= Mstarbin[i]) & ((lgMstarty2) < Mstarbin[i+1]))\n",
    "    medianbiasstarAGN[i] = np.sum(bEQ5ty2[N1]*fEQ5ty2[N1])/np.sum(fEQ5ty2[N1])\n",
    "    #ws.weighted_median(bEQ5ty2[N1], weights=fEQ5ty2[N1])\n",
    "    errstarAGN[i] = np.std(bEQ5ty2[N1])/2.\n",
    "\n",
    "\n",
    "#np.savetxt('bvsMstarcut12.txt',np.column_stack((Mstarbin,medianbiasstarAGN,errstarAGN))) \n",
    "\n",
    "\n"
   ]
  },
  {
   "cell_type": "code",
   "execution_count": 453,
   "metadata": {},
   "outputs": [
    {
     "name": "stderr",
     "output_type": "stream",
     "text": [
      "/Users/allevato/anaconda2/lib/python2.7/site-packages/ipykernel_launcher.py:18: RuntimeWarning: divide by zero encountered in double_scalars\n"
     ]
    }
   ],
   "source": [
    "lgSFRbin = np.arange(0,3.,0.25)\n",
    "\n",
    "medianMhSFRAGN = np.zeros(len(lgSFRbin))\n",
    "medianMhSFRgal= np.zeros(len(lgSFRbin))\n",
    "\n",
    "errMhSFRAGN = np.zeros(len(lgSFRbin))\n",
    "errMhSFRgal = np.zeros(len(lgSFRbin))\n",
    "\n",
    "\n",
    "for i in range(len(lgSFRbin)-1):\n",
    "    \n",
    "    N1 = np.where(((logSFRty2) >= lgSFRbin[i]) & ((logSFRty2) < lgSFRbin[i+1]))\n",
    "    medianMhSFRAGN[i] = np.sum(lgMhty2[N1]*fEQ5ty2[N1])/np.sum(fEQ5ty2[N1])\n",
    "    errMhSFRAGN[i] = np.std(lgMhty2[N1])/1.5\n",
    "\n",
    "    \n",
    "    N1 = np.where(((logSFRty2) >= lgSFRbin[i]) & ((logSFRty2) < lgSFRbin[i+1]))\n",
    "    medianMhSFRgal[i] = np.sum(lgMhty2[N1]*(fgalEQ5ty2[N1]))/np.sum(fgalEQ5[N1])\n",
    "    errMhSFRgal[i] = np.std(lgMhty2[N1])/1.5\n",
    "\n"
   ]
  },
  {
   "cell_type": "code",
   "execution_count": 454,
   "metadata": {},
   "outputs": [
    {
     "data": {
      "image/png": "[encoded data removed]",
      "text/plain": [
       "<Figure size 432x288 with 1 Axes>"
      ]
     },
     "metadata": {
      "needs_background": "light"
     },
     "output_type": "display_data"
    }
   ],
   "source": [
    "SFR = [0.83,1.43]\n",
    "halo = [13.23,12.69]\n",
    "errSFR = [0.35,0.20]\n",
    "\n",
    "SFR2 = [0.8,1.4]\n",
    "halo2 = [13.19,12.74]\n",
    "errSFR2 = [0.35,0.20]\n",
    "\n",
    "SFR1 = [0.9,1.9]\n",
    "halo1 = [13.3,12.98]\n",
    "errSFR1 = [0.1,0.1]\n",
    "SFRBe,MhaloBe = np.loadtxt('Bethermin2.txt',skiprows=0,usecols=(0,1),unpack=True)\n",
    "errBe = [[0.2,0.3],[0.2,0.4]]\n",
    "\n",
    "plt.errorbar(SFR, halo, yerr=errSFR,xerr=0.4,fmt='^',color='green',ms=12,label='Mountrichas et al. 2019, AGN z$\\sim$0.8')\n",
    "plt.fill_between(lgSFRbin,medianMhSFRAGN+errMhSFRAGN,medianMhSFRAGN-errMhSFRAGN,facecolor='lavender',edgecolor='lavender',alpha=0.8)\n",
    "#plt.errorbar(np.log10(SFRBe)-0.08,MhaloBe,errBe,fmt='p',color='red',ms=12,label='Bethermin et al. 2014, Normal Galaxies z=2')\n",
    "plt.plot(lgSFRbin,medianMhSFRAGN,color='lavender',linewidth=1., linestyle='-',label='Mock Type 2 AGN')\n",
    "plt.plot(lgSFRbin,medianMhSFRAGN,color='red',linewidth=2.5, linestyle=':',label='Mock Galaxies')\n",
    "\n",
    "\n",
    "\n",
    "plt.errorbar(SFR2, halo2, yerr=errSFR2,xerr=0.4,fmt='s',color='blue',ms=12,label='Mountrichas et al. 2019, Matched Normal Galaxies z$\\sim$0.8')\n",
    "plt.errorbar(SFR1, halo1,yerr=errSFR1,xerr=0.2,fmt='o',color='darkblue',ms=12,label='This Work, Type 2 AGN z $\\sim$ 1.1')\n",
    "legend = plt.legend(loc='upper left', shadow=False, frameon=False,fontsize=12)\n",
    "plt.xlabel(r'log SFR [M$_{\\odot}$ yr$^{-1}$]',fontsize='18')\n",
    "plt.ylabel(r'log M$_{h}$ [M$_{\\odot}$]',fontsize='18')\n",
    "plt.axis([0.35,2.25,12,15])\n",
    "plt.savefig(\"MhvsSFR.png\")\n",
    "plt.show()\n",
    "plt.close()\n",
    "\n"
   ]
  },
  {
   "cell_type": "code",
   "execution_count": 443,
   "metadata": {},
   "outputs": [
    {
     "data": {
      "image/png": "[encoded data removed]",
      "text/plain": [
       "<Figure size 432x288 with 1 Axes>"
      ]
     },
     "metadata": {
      "needs_background": "light"
     },
     "output_type": "display_data"
    }
   ],
   "source": [
    "edd, bias, err = np.loadtxt('bvseddcut12.txt',skiprows=0,usecols=(0,1,2),unpack=True)\n",
    "\n",
    "\n",
    "a = plt.plot(eddbin,medianbiaseddgal,color='red',linewidth=2.5, linestyle=':')\n",
    "b = plt.plot(eddbin,bias,color='silver',linewidth=2.5, linestyle='-')\n",
    "plt.fill_between(eddbin,medianbiaseddAGN+erreddAGN,medianbiaseddAGN-erreddAGN,facecolor='lavender',edgecolor='lavender')\n",
    "plt.fill_between(edd,bias+err,bias-err,facecolor='none',hatch='x',edgecolor='silver')\n",
    "plt.errorbar(32.4, 2.33, yerr=0.11,xerr = 0.15,fmt='o',color='red',ms=12,label='low $\\lambda_{BHAR}$')\n",
    "plt.errorbar(33.1, 2.42, yerr=0.10,xerr = 0.15,fmt='^',color='blue',ms=12,label='high $\\lambda_{BHAR}$')\n",
    "handles = [Rectangle((0,0),1,1,facecolor=\"white\",edgecolor=\"silver\",hatch=\"x\"),Rectangle((0,0),1,1,color=\"lavender\",ec=\"k\"),b[0],a[0]]\n",
    "labels= [\"Mock Type 2 AGN, cut at logM$_h$ = 12\",\"Mock Type 2 AGN, cut at logM$_h$ = 12.5\",\"Mock Normal Galaxies, cut at logM$_h$ = 12\",\"Mock Normal Galaxies, cut at logM$_h$ = 12.5\"]\n",
    "plt.legend(handles, labels,frameon=False,loc='upper left')\n",
    "\n",
    "#legend = plt.legend(loc='upper left', shadow=False, frameon=False)\n",
    "plt.xlabel(r'log $\\lambda_{BHAR}$',fontsize='18')\n",
    "plt.ylabel(r'bias',fontsize='18')\n",
    "plt.axis([32.2,33.3,1.2,3.5])\n",
    "\n",
    "plt.savefig(\"bvsedd.png\")\n",
    "plt.show()\n",
    "plt.close()\n",
    "\n"
   ]
  },
  {
   "cell_type": "code",
   "execution_count": 444,
   "metadata": {},
   "outputs": [
    {
     "data": {
      "image/png": "[encoded data removed]",
      "text/plain": [
       "<Figure size 432x288 with 1 Axes>"
      ]
     },
     "metadata": {
      "needs_background": "light"
     },
     "output_type": "display_data"
    }
   ],
   "source": [
    "gal = [10.27,11.00]\n",
    "halo = [12.84,13.2]\n",
    "errgal = [0.33,0.15]\n",
    "#plt.style.use('classic')\n",
    "\n",
    "gal2 = [10.3,11.03]\n",
    "halo2 = [12.96,13.17]\n",
    "errgal2 = [0.33,0.15]\n",
    "\n",
    "M = [10.4,10.95]\n",
    "Mh = [12.99,13.07]\n",
    "upMh = [0.07,0.08]\n",
    "\n",
    "\n",
    "\n",
    "plt.plot(Mstarbin,medianMhstarAGN,color='lavender',linewidth=1.5, linestyle='-',label='Mock Type 2 AGN',ms=12)\n",
    "plt.plot(Mstarbin,medianMhstargal,color='red',linewidth=2.5, linestyle=':',label='Mock Galaxies',ms=12)\n",
    "plt.fill_between(Mstarbin,medianMhstarAGN+errMhstarAGN,medianMhstarAGN-errMhstarAGN,facecolor='lavender',edgecolor='lavender')\n",
    "#plt.fill_between(Mstarbin,medianMhstargal+errMhstargal,medianMhstargal-errMhstargal,color='silver',hatch='x',facecolor='none')\n",
    "#handles = [Rectangle((0,0),1,1,facecolor=\"white\",ec=\"silver\",hatch=\"x\"),Rectangle((0,0),1,1,color=\"lavender\",ec=\"k\")]\n",
    "#labels= [\"Mock AGN, cut at logM$_h$ = 12\",\"Mock AGN, cut at logM$_h$ = 12.5\"]\n",
    "plt.legend(handles, labels,frameon=False,loc='upper left')\n",
    "#plt.errorbar(np.log10(logMstar_wake), np.log10(logMhalo_wake), yerr=0.02,fmt='p',color='orange',ms=12,label='Wake + 2011, Normal Galaxies z $\\sim$ 1.1')\n",
    "#plt.errorbar(np.log10(logMstar_zheng), np.log10(logMhalo_zheng), yerr=0.06,fmt='*',color='black',ms=12,label='Zheng + 2007, Normal Galaxies z $\\sim$ 1')\n",
    "\n",
    "plt.errorbar(gal, halo, yerr=0.25,xerr=errgal,fmt='^',color='green',ms=12,label='Mountrichas et al. 2019, AGN z$\\sim$0.8')\n",
    "plt.errorbar(gal2, halo2, yerr=0.25,xerr=errgal2,fmt='s',color='blue',ms=12,label='Mountrichas et al. 2019, Matched Normal Galaxies z$\\sim$0.8')\n",
    "\n",
    "plt.errorbar(M, Mh, yerr=upMh,xerr=0.2,fmt='o',color='darkblue',ms=12,label='This Work, Type 2 AGN z $\\sim$ 1.1')\n",
    "plt.legend(loc='upper left', shadow=False, frameon=False,fontsize=12)\n",
    "\n",
    "plt.xlabel(r'log M$_{star}$ [M$_{\\odot}$]',fontsize='18')\n",
    "plt.ylabel(r'log M$_{h}$ [M$_{\\odot}$]',fontsize='18')\n",
    "plt.axis([9.8,11.3,12.,15.])\n",
    "plt.savefig(\"MhvsMstar.png\")\n",
    "plt.show()\n",
    "plt.close()\n"
   ]
  },
  {
   "cell_type": "code",
   "execution_count": null,
   "metadata": {},
   "outputs": [],
   "source": []
  }
 ],
 "metadata": {
  "kernelspec": {
   "display_name": "Python 3",
   "language": "python",
   "name": "python3"
  },
  "language_info": {
   "codemirror_mode": {
    "name": "ipython",
    "version": 3
   },
   "file_extension": ".py",
   "mimetype": "text/x-python",
   "name": "python",
   "nbconvert_exporter": "python",
   "pygments_lexer": "ipython3",
   "version": "3.7.1"
  }
 },
 "nbformat": 4,
 "nbformat_minor": 2
}
