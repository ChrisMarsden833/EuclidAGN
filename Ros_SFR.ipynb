{
 "nbformat": 4,
 "nbformat_minor": 2,
 "metadata": {
  "language_info": {
   "name": "python",
   "codemirror_mode": {
    "name": "ipython",
    "version": 3
   },
   "version": "3.8.1-final"
  },
  "orig_nbformat": 2,
  "file_extension": ".py",
  "mimetype": "text/x-python",
  "name": "python",
  "npconvert_exporter": "python",
  "pygments_lexer": "ipython3",
  "version": 3,
  "kernelspec": {
   "name": "python38164biteuclidagncondaadcca990eabc4cf0a1bb944673f40e54",
   "display_name": "Python 3.8.1 64-bit ('EuclidAGN': conda)"
  }
 },
 "cells": [
  {
   "cell_type": "code",
   "execution_count": 16,
   "metadata": {},
   "outputs": [],
   "source": [
    "from AGNCatalogToolbox import main as agn\n",
    "from colossus.cosmology import cosmology\n",
    "import numpy as np"
   ]
  },
  {
   "cell_type": "code",
   "execution_count": 2,
   "metadata": {},
   "outputs": [],
   "source": [
    "# my cosmology\n",
    "from colossus.cosmology import cosmology\n",
    "params = {'flat': True, 'H0': 70., 'Om0': 0.3, 'Ob0': 0.049, 'sigma8':0.81, 'ns':0.95}\n",
    "cosmology.addCosmology('Carraro+20', params)"
   ]
  },
  {
   "cell_type": "code",
   "execution_count": 3,
   "metadata": {},
   "outputs": [],
   "source": [
    "cosmo = 'Carraro+20'\n",
    "cosmology = cosmology.setCosmology(cosmo)\n",
    "volume = 200**3"
   ]
  },
  {
   "cell_type": "code",
   "execution_count": 4,
   "metadata": {},
   "outputs": [],
   "source": [
    "z = 1"
   ]
  },
  {
   "cell_type": "code",
   "execution_count": 5,
   "metadata": {},
   "outputs": [
    {
     "name": "stdout",
     "output_type": "stream",
     "text": "Scatter is a thing, valued at 0.11\n"
    }
   ],
   "source": [
    "halos = agn.generate_semi_analytic_halo_catalogue(volume, (12, 16, 0.1), z, 0.7)\n",
    "stellar_mass = agn.halo_mass_to_stellar_mass(halos, z)\n",
    "black_hole_mass = agn.stellar_mass_to_black_hole_mass(stellar_mass, method=\"Shankar16\", scatter=\"Intrinsic\")"
   ]
  },
  {
   "cell_type": "code",
   "execution_count": 6,
   "metadata": {},
   "outputs": [
    {
     "name": "stdout",
     "output_type": "stream",
     "text": "Warning - we have requested redshift 1 - Selecting file Geo17DCz0.75.csv as it is closest\n"
    }
   ],
   "source": [
    "duty_cycle = agn.to_duty_cycle(\"Schechter\", stellar_mass, black_hole_mass, z)"
   ]
  },
  {
   "cell_type": "code",
   "execution_count": 32,
   "metadata": {},
   "outputs": [],
   "source": [
    "# Schechter parameters fitting\n",
    "#redshift = [0.1, 1, 2]\n",
    "#alpha = [-0.25,1.6,7.14]\n",
    "#lambd = [0.05, -0.8,-0.5]\n",
    "#alpha_pars=np.polyfit(redshift,alpha,2)\n",
    "#lambda_pars=np.polyfit(redshift,lambd,2)\n",
    "#np.savez('schechter_pars.npz',alpha_pars=alpha_pars,lambda_pars=lambda_pars)\n",
    "\n",
    "schechter_pars=np.load('schechter_pars.npz')\n",
    "alpha_pars=schechter_pars['alpha_pars']\n",
    "lambda_pars=schechter_pars['lambda_pars']\n",
    "\n",
    "alpha_pol=np.poly1d(alpha_pars)\n",
    "lambda_pol=np.poly1d(lambda_pars)\n",
    "\n",
    "alpha_z=alpha_pol(z)\n",
    "lambda_z=lambda_pol(z)"
   ]
  },
  {
   "cell_type": "code",
   "execution_count": 7,
   "metadata": {},
   "outputs": [],
   "source": [
    "luminosity = agn.black_hole_mass_to_luminosity(black_hole_mass, duty_cycle, stellar_mass, z,\"Schechter\",parameter1=lambda_z,\n",
    "                                  parameter2=-0.65)"
   ]
  },
  {
   "cell_type": "code",
   "execution_count": 8,
   "metadata": {},
   "outputs": [],
   "source": [
    "nh = agn.luminosity_to_nh(luminosity, z)\n",
    "agn_type = agn.nh_to_type(nh)"
   ]
  },
  {
   "cell_type": "code",
   "execution_count": 12,
   "metadata": {},
   "outputs": [],
   "source": [
    "logSFR = agn.SFR(z,stellar_mass)"
   ]
  },
  {
   "cell_type": "code",
   "execution_count": 13,
   "metadata": {},
   "outputs": [
    {
     "name": "stdout",
     "output_type": "stream",
     "text": "[1.4910989  0.99289613 1.38118183 0.9566826  1.4349269  1.09363132\n 0.89439104 1.63980771 1.3210789  1.17825574]\n"
    }
   ],
   "source": [
    "print(logSFR[:10])"
   ]
  },
  {
   "cell_type": "code",
   "execution_count": null,
   "metadata": {},
   "outputs": [],
   "source": []
  }
 ]
}