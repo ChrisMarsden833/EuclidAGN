{
 "cells": [
  {
   "cell_type": "markdown",
   "metadata": {},
   "source": [
    "## Imports"
   ]
  },
  {
   "cell_type": "code",
   "execution_count": 2,
   "metadata": {},
   "outputs": [],
   "source": [
    "from AGNCatalogToolbox import main as agn\n",
    "from colossus.cosmology import cosmology\n",
    "import os\n",
    "import numpy as np\n",
    "import pandas as pd\n",
    "import seaborn as sns\n",
    "import matplotlib.pyplot as plt\n",
    "import dc_stat_think as dcst"
   ]
  },
  {
   "cell_type": "markdown",
   "metadata": {},
   "source": [
    "## Import data from IDL"
   ]
  },
  {
   "cell_type": "code",
   "execution_count": 46,
   "metadata": {},
   "outputs": [
    {
     "name": "stdout",
     "output_type": "stream",
     "text": [
      "--------------------------------------------------\n",
      "Date: Thu May  7 16:31:57 2020\n",
      "User: rcarraro\n",
      "Host: stellarwind.local\n",
      "--------------------------------------------------\n",
      "Format: 12\n",
      "Architecture: x86_64\n",
      "Operating System: linux\n",
      "IDL Version: 8.5.1\n",
      "--------------------------------------------------\n",
      "Successfully read 8 records of which:\n",
      " - 5 are of type VARIABLE\n",
      " - 1 are of type VERSION\n",
      " - 1 are of type TIMESTAMP\n",
      "--------------------------------------------------\n",
      "Available variables:\n",
      " - m_ave [<class 'numpy.ndarray'>]\n",
      " - sfr_ave [<class 'numpy.ndarray'>]\n",
      " - l_ave [<class 'numpy.ndarray'>]\n",
      " - bhsf_ave [<class 'numpy.ndarray'>]\n",
      " - redshift [<class 'numpy.ndarray'>]\n",
      "--------------------------------------------------\n",
      "dict_keys(['m_ave', 'sfr_ave', 'l_ave', 'bhsf_ave', 'redshift'])\n"
     ]
    }
   ],
   "source": [
    "from scipy.io import readsav\n",
    "read_data = readsav('vars_EuclidAGN_90.sav',verbose=True)\n",
    "\n",
    "data={}\n",
    "for key, val in read_data.items():\n",
    "    data[key]=np.copy(val)\n",
    "    data[key][data[key] == 0.] = np.nan\n",
    "print(data.keys())"
   ]
  },
  {
   "cell_type": "markdown",
   "metadata": {},
   "source": [
    "## Set cosmology"
   ]
  },
  {
   "cell_type": "code",
   "execution_count": 3,
   "metadata": {},
   "outputs": [],
   "source": [
    "# my cosmology\n",
    "params = {'flat': True, 'H0': 70., 'Om0': 0.3, 'Ob0': 0.0486, 'sigma8':0.8159, 'ns':0.9667}\n",
    "cosmology.addCosmology('Carraro+20', params)"
   ]
  },
  {
   "cell_type": "code",
   "execution_count": 4,
   "metadata": {},
   "outputs": [],
   "source": [
    "cosmo = 'Carraro+20'\n",
    "cosmology = cosmology.setCosmology(cosmo)\n",
    "volume = 200**3"
   ]
  },
  {
   "cell_type": "markdown",
   "metadata": {},
   "source": [
    "## Set universe parameters"
   ]
  },
  {
   "cell_type": "code",
   "execution_count": 77,
   "metadata": {},
   "outputs": [],
   "source": [
    "z = 1.7\n",
    "reds_dic={0.45:0, 1:1, 1.7:2, 2.7:3}\n",
    "index=reds_dic.get(z) # needed for IDL data"
   ]
  },
  {
   "cell_type": "markdown",
   "metadata": {},
   "source": [
    "## Generate universe"
   ]
  },
  {
   "cell_type": "code",
   "execution_count": 78,
   "metadata": {},
   "outputs": [
    {
     "name": "stdout",
     "output_type": "stream",
     "text": [
      "Scatter is a thing, valued at 0.11\n"
     ]
    }
   ],
   "source": [
    "gals = pd.DataFrame()\n",
    "gals['halos'] = agn.generate_semi_analytic_halo_catalogue(volume, [10, 16, 0.1], z, params.get('H0')/100)\n",
    "gals['stellar_mass'] = agn.halo_mass_to_stellar_mass(gals.halos, z)\n",
    "gals['black_hole_mass'] = agn.stellar_mass_to_black_hole_mass(gals.stellar_mass, method=\"Shankar16\", scatter=\"Intrinsic\")"
   ]
  },
  {
   "cell_type": "code",
   "execution_count": 79,
   "metadata": {},
   "outputs": [
    {
     "name": "stdout",
     "output_type": "stream",
     "text": [
      "GetCorrectFile: Schulze_1.6.csv\n",
      "Found Schulze file: ./Data/DutyCycles/Schulze_1.6.csv\n",
      "[0.07913008 0.10916726 0.0756762  ... 0.30565814 0.30565814 0.30565814]\n"
     ]
    }
   ],
   "source": [
    "gals['duty_cycle'] = agn.to_duty_cycle(\"Schulze\", gals.stellar_mass, gals.black_hole_mass, z)"
   ]
  },
  {
   "cell_type": "code",
   "execution_count": 80,
   "metadata": {},
   "outputs": [],
   "source": [
    "# Schechter parameters fitting\n",
    "#redshift = [0.1, 1, 2]\n",
    "#alpha = [-0.25,1.6,7.14]\n",
    "#lambd = [0.05, -0.8,-0.5]\n",
    "#alpha_pars=np.polyfit(redshift,alpha,2)\n",
    "#lambda_pars=np.polyfit(redshift,lambd,2)\n",
    "#np.savez('schechter_pars.npz',alpha_pars=alpha_pars,lambda_pars=lambda_pars)\n",
    "\n",
    "schechter_pars=np.load('schechter_pars.npz')\n",
    "alpha_pars=schechter_pars['alpha_pars']\n",
    "lambda_pars=schechter_pars['lambda_pars']\n",
    "\n",
    "alpha_pol=np.poly1d(alpha_pars)\n",
    "lambda_pol=np.poly1d(lambda_pars)\n",
    "\n",
    "alpha_z=alpha_pol(z)\n",
    "lambda_z=lambda_pol(z)"
   ]
  },
  {
   "cell_type": "code",
   "execution_count": 81,
   "metadata": {},
   "outputs": [],
   "source": [
    "gals['luminosity'] = agn.black_hole_mass_to_luminosity(gals.black_hole_mass, gals.duty_cycle, gals.stellar_mass, z,\"Schechter\",\n",
    "                                        bol_corr='Lusso12_modif', parameter1=lambda_z, parameter2=alpha_z)"
   ]
  },
  {
   "cell_type": "code",
   "execution_count": 82,
   "metadata": {},
   "outputs": [
    {
     "name": "stderr",
     "output_type": "stream",
     "text": [
      "/Users/Ros/Google_Drive/Valparaiso/LX_SFR_causality/EuclidAGN2/AGNCatalogToolbox/main.py:789: FutureWarning: Using a non-tuple sequence for multidimensional indexing is deprecated; use `arr[tuple(seq)]` instead of `arr[seq]`. In the future this will be interpreted as an array index, `arr[np.array(seq)]`, which will result either in an error or a different result.\n",
      "  type[(nh >= 22) & (nh < 24)] = type2[[(nh >= 22) & (nh < 24)]]\n"
     ]
    }
   ],
   "source": [
    "gals['nh'] = agn.luminosity_to_nh(gals.luminosity, z)\n",
    "gals['agn_type'] = agn.nh_to_type(gals.nh)"
   ]
  },
  {
   "cell_type": "code",
   "execution_count": 83,
   "metadata": {},
   "outputs": [
    {
     "data": {
      "text/html": [
       "<div>\n",
       "<style scoped>\n",
       "    .dataframe tbody tr th:only-of-type {\n",
       "        vertical-align: middle;\n",
       "    }\n",
       "\n",
       "    .dataframe tbody tr th {\n",
       "        vertical-align: top;\n",
       "    }\n",
       "\n",
       "    .dataframe thead th {\n",
       "        text-align: right;\n",
       "    }\n",
       "</style>\n",
       "<table border=\"1\" class=\"dataframe\">\n",
       "  <thead>\n",
       "    <tr style=\"text-align: right;\">\n",
       "      <th></th>\n",
       "      <th>halos</th>\n",
       "      <th>stellar_mass</th>\n",
       "      <th>black_hole_mass</th>\n",
       "      <th>duty_cycle</th>\n",
       "      <th>luminosity</th>\n",
       "      <th>nh</th>\n",
       "      <th>agn_type</th>\n",
       "      <th>SFR</th>\n",
       "    </tr>\n",
       "  </thead>\n",
       "  <tbody>\n",
       "    <tr>\n",
       "      <th>count</th>\n",
       "      <td>3.500678e+06</td>\n",
       "      <td>3.500678e+06</td>\n",
       "      <td>3.500678e+06</td>\n",
       "      <td>3.500678e+06</td>\n",
       "      <td>3.500678e+06</td>\n",
       "      <td>3.500678e+06</td>\n",
       "      <td>3.500678e+06</td>\n",
       "      <td>3.500678e+06</td>\n",
       "    </tr>\n",
       "    <tr>\n",
       "      <th>mean</th>\n",
       "      <td>1.044862e+01</td>\n",
       "      <td>6.866479e+00</td>\n",
       "      <td>-5.085243e+00</td>\n",
       "      <td>3.054620e-01</td>\n",
       "      <td>3.162843e+01</td>\n",
       "      <td>2.668861e+01</td>\n",
       "      <td>2.801043e+00</td>\n",
       "      <td>-1.871944e+00</td>\n",
       "    </tr>\n",
       "    <tr>\n",
       "      <th>std</th>\n",
       "      <td>4.257654e-01</td>\n",
       "      <td>9.415131e-01</td>\n",
       "      <td>3.523511e+00</td>\n",
       "      <td>5.182994e-03</td>\n",
       "      <td>3.529886e+00</td>\n",
       "      <td>2.272977e+00</td>\n",
       "      <td>4.630920e-01</td>\n",
       "      <td>9.585489e-01</td>\n",
       "    </tr>\n",
       "    <tr>\n",
       "      <th>min</th>\n",
       "      <td>1.000000e+01</td>\n",
       "      <td>5.413526e+00</td>\n",
       "      <td>-1.365254e+01</td>\n",
       "      <td>6.991051e-02</td>\n",
       "      <td>2.284547e+01</td>\n",
       "      <td>1.000000e+00</td>\n",
       "      <td>1.000000e+00</td>\n",
       "      <td>-3.870134e+00</td>\n",
       "    </tr>\n",
       "    <tr>\n",
       "      <th>25%</th>\n",
       "      <td>1.013683e+01</td>\n",
       "      <td>6.172844e+00</td>\n",
       "      <td>-7.680830e+00</td>\n",
       "      <td>3.056581e-01</td>\n",
       "      <td>2.903215e+01</td>\n",
       "      <td>2.509554e+01</td>\n",
       "      <td>3.000000e+00</td>\n",
       "      <td>-2.559002e+00</td>\n",
       "    </tr>\n",
       "    <tr>\n",
       "      <th>50%</th>\n",
       "      <td>1.031930e+01</td>\n",
       "      <td>6.588119e+00</td>\n",
       "      <td>-5.920273e+00</td>\n",
       "      <td>3.056581e-01</td>\n",
       "      <td>3.079449e+01</td>\n",
       "      <td>2.707877e+01</td>\n",
       "      <td>3.000000e+00</td>\n",
       "      <td>-2.130234e+00</td>\n",
       "    </tr>\n",
       "    <tr>\n",
       "      <th>75%</th>\n",
       "      <td>1.063036e+01</td>\n",
       "      <td>7.286203e+00</td>\n",
       "      <td>-3.218893e+00</td>\n",
       "      <td>3.056581e-01</td>\n",
       "      <td>3.349624e+01</td>\n",
       "      <td>2.853984e+01</td>\n",
       "      <td>3.000000e+00</td>\n",
       "      <td>-1.432090e+00</td>\n",
       "    </tr>\n",
       "    <tr>\n",
       "      <th>max</th>\n",
       "      <td>1.412762e+01</td>\n",
       "      <td>1.191351e+01</td>\n",
       "      <td>9.724260e+00</td>\n",
       "      <td>3.056581e-01</td>\n",
       "      <td>4.571523e+01</td>\n",
       "      <td>2.999990e+01</td>\n",
       "      <td>3.000000e+00</td>\n",
       "      <td>2.750834e+00</td>\n",
       "    </tr>\n",
       "  </tbody>\n",
       "</table>\n",
       "</div>"
      ],
      "text/plain": [
       "              halos  stellar_mass  black_hole_mass    duty_cycle  \\\n",
       "count  3.500678e+06  3.500678e+06     3.500678e+06  3.500678e+06   \n",
       "mean   1.044862e+01  6.866479e+00    -5.085243e+00  3.054620e-01   \n",
       "std    4.257654e-01  9.415131e-01     3.523511e+00  5.182994e-03   \n",
       "min    1.000000e+01  5.413526e+00    -1.365254e+01  6.991051e-02   \n",
       "25%    1.013683e+01  6.172844e+00    -7.680830e+00  3.056581e-01   \n",
       "50%    1.031930e+01  6.588119e+00    -5.920273e+00  3.056581e-01   \n",
       "75%    1.063036e+01  7.286203e+00    -3.218893e+00  3.056581e-01   \n",
       "max    1.412762e+01  1.191351e+01     9.724260e+00  3.056581e-01   \n",
       "\n",
       "         luminosity            nh      agn_type           SFR  \n",
       "count  3.500678e+06  3.500678e+06  3.500678e+06  3.500678e+06  \n",
       "mean   3.162843e+01  2.668861e+01  2.801043e+00 -1.871944e+00  \n",
       "std    3.529886e+00  2.272977e+00  4.630920e-01  9.585489e-01  \n",
       "min    2.284547e+01  1.000000e+00  1.000000e+00 -3.870134e+00  \n",
       "25%    2.903215e+01  2.509554e+01  3.000000e+00 -2.559002e+00  \n",
       "50%    3.079449e+01  2.707877e+01  3.000000e+00 -2.130234e+00  \n",
       "75%    3.349624e+01  2.853984e+01  3.000000e+00 -1.432090e+00  \n",
       "max    4.571523e+01  2.999990e+01  3.000000e+00  2.750834e+00  "
      ]
     },
     "execution_count": 83,
     "metadata": {},
     "output_type": "execute_result"
    }
   ],
   "source": [
    "gals['SFR'] = agn.SFR(z,gals.stellar_mass,'Carraro20')\n",
    "gals.describe()"
   ]
  },
  {
   "cell_type": "code",
   "execution_count": 84,
   "metadata": {},
   "outputs": [],
   "source": [
    "gals['lx/SFR'] = (gals.luminosity-42)-gals.SFR\n",
    "grouped_gals = gals[['stellar_mass','luminosity','SFR','lx/SFR']].groupby(pd.cut(gals.stellar_mass, np.append(np.arange(5, 11.5, 0.5),12.))).quantile([0.05,0.1585,0.5,0.8415,0.95]).unstack(level=1)\n",
    "\n",
    "gals_lin=pd.DataFrame()\n",
    "gals_lin['stellar_mass'] = gals['stellar_mass']\n",
    "gals_lin['luminosity']= 10**(gals.luminosity-42)\n",
    "gals_lin[['SFR','lx/SFR']]=10**gals[['SFR','lx/SFR']]\n",
    "grouped_lin = gals_lin[['stellar_mass','luminosity','SFR','lx/SFR']].groupby(pd.cut(gals.stellar_mass, np.append(np.arange(5, 11.5, 0.5),12.))).quantile([0.05,0.1585,0.5,0.8415,0.95]).unstack(level=1)\n",
    "ggals_lin=grouped_lin[grouped_lin['stellar_mass',0.5] > 9]\n",
    "grouped_lin.index.rename('mass_range',inplace=True)"
   ]
  },
  {
   "cell_type": "markdown",
   "metadata": {},
   "source": [
    "### Bootstrapping"
   ]
  },
  {
   "cell_type": "code",
   "execution_count": 85,
   "metadata": {},
   "outputs": [
    {
     "data": {
      "text/html": [
       "<div>\n",
       "<style scoped>\n",
       "    .dataframe tbody tr th:only-of-type {\n",
       "        vertical-align: middle;\n",
       "    }\n",
       "\n",
       "    .dataframe tbody tr th {\n",
       "        vertical-align: top;\n",
       "    }\n",
       "\n",
       "    .dataframe thead th {\n",
       "        text-align: right;\n",
       "    }\n",
       "</style>\n",
       "<table border=\"1\" class=\"dataframe\">\n",
       "  <thead>\n",
       "    <tr style=\"text-align: right;\">\n",
       "      <th></th>\n",
       "      <th>SFR</th>\n",
       "      <th>luminosity</th>\n",
       "    </tr>\n",
       "    <tr>\n",
       "      <th>stellar_mass</th>\n",
       "      <th></th>\n",
       "      <th></th>\n",
       "    </tr>\n",
       "  </thead>\n",
       "  <tbody>\n",
       "    <tr>\n",
       "      <th>(9.0, 9.5]</th>\n",
       "      <td>[3.0982879115769864, 3.0935137935095343, 3.082...</td>\n",
       "      <td>[0.008825312955999223, 0.008806949229403468, 0...</td>\n",
       "    </tr>\n",
       "    <tr>\n",
       "      <th>(9.5, 10.0]</th>\n",
       "      <td>[9.707491370325158, 9.766630250260711, 9.73571...</td>\n",
       "      <td>[0.21715517525075861, 0.21766905942921158, 0.2...</td>\n",
       "    </tr>\n",
       "    <tr>\n",
       "      <th>(10.0, 10.5]</th>\n",
       "      <td>[30.86405513232284, 30.854695211590155, 30.803...</td>\n",
       "      <td>[6.5297274491539055, 6.57935683946639, 6.48767...</td>\n",
       "    </tr>\n",
       "    <tr>\n",
       "      <th>(10.5, 11.0]</th>\n",
       "      <td>[72.27811231601477, 72.83098515339577, 72.2973...</td>\n",
       "      <td>[59.838456821363145, 60.26885677862869, 59.845...</td>\n",
       "    </tr>\n",
       "    <tr>\n",
       "      <th>(11.0, 12.0]</th>\n",
       "      <td>[88.3359466345344, 88.06528893133007, 90.35101...</td>\n",
       "      <td>[287.57293551776604, 288.31533002031523, 278.3...</td>\n",
       "    </tr>\n",
       "  </tbody>\n",
       "</table>\n",
       "</div>"
      ],
      "text/plain": [
       "                                                            SFR  \\\n",
       "stellar_mass                                                      \n",
       "(9.0, 9.5]    [3.0982879115769864, 3.0935137935095343, 3.082...   \n",
       "(9.5, 10.0]   [9.707491370325158, 9.766630250260711, 9.73571...   \n",
       "(10.0, 10.5]  [30.86405513232284, 30.854695211590155, 30.803...   \n",
       "(10.5, 11.0]  [72.27811231601477, 72.83098515339577, 72.2973...   \n",
       "(11.0, 12.0]  [88.3359466345344, 88.06528893133007, 90.35101...   \n",
       "\n",
       "                                                     luminosity  \n",
       "stellar_mass                                                     \n",
       "(9.0, 9.5]    [0.008825312955999223, 0.008806949229403468, 0...  \n",
       "(9.5, 10.0]   [0.21715517525075861, 0.21766905942921158, 0.2...  \n",
       "(10.0, 10.5]  [6.5297274491539055, 6.57935683946639, 6.48767...  \n",
       "(10.5, 11.0]  [59.838456821363145, 60.26885677862869, 59.845...  \n",
       "(11.0, 12.0]  [287.57293551776604, 288.31533002031523, 278.3...  "
      ]
     },
     "execution_count": 85,
     "metadata": {},
     "output_type": "execute_result"
    }
   ],
   "source": [
    "func=np.median\n",
    "\n",
    "gals_highM=gals_lin.copy()[gals_lin.stellar_mass > 9]\n",
    "grouped_linear = gals_highM[['stellar_mass','luminosity','SFR','lx/SFR']].groupby(pd.cut(gals_highM.stellar_mass, np.append(np.arange(9, 11.5, 0.5),12.)))#.quantile([0.05,0.1585,0.5,0.8415,0.95]).unstack(level=1)\n",
    "gals_bs=pd.DataFrame()\n",
    "gals_bs['SFR'] = grouped_linear.SFR.apply(lambda x: dcst.draw_bs_reps(x, func, size=500))\n",
    "gals_bs['luminosity'] = grouped_linear.luminosity.apply(lambda x: dcst.draw_bs_reps(x, func, size=500))\n",
    "gals_bs.head()"
   ]
  },
  {
   "cell_type": "code",
   "execution_count": 86,
   "metadata": {},
   "outputs": [],
   "source": [
    "# create dataframe with percentiles of the bootstrapped distribution\n",
    "bs_perc=ggals_lin['stellar_mass']\n",
    "old_idx = bs_perc.columns.to_frame()\n",
    "perc_colnames=bs_perc.columns\n",
    "old_idx.insert(0, '', 'stellar_mass')\n",
    "bs_perc.columns = pd.MultiIndex.from_frame(old_idx)\n",
    "\n",
    "bs_perc=bs_perc.join(pd.DataFrame(np.array([np.quantile(row,[0.05,0.1585,0.5,0.8415,0.95]) for row in gals_bs['SFR']]), \n",
    "                                  index=bs_perc.index, columns=pd.MultiIndex.from_product([['SFR'],perc_colnames])))\n",
    "bs_perc=bs_perc.join(pd.DataFrame(np.array([np.quantile(row,[0.05,0.1585,0.5,0.8415,0.95]) for row in gals_bs['luminosity']]), \n",
    "                                  index=bs_perc.index, columns=pd.MultiIndex.from_product([['luminosity'],perc_colnames])))\n",
    "bs_perc=bs_perc.join(pd.DataFrame(np.array([np.quantile(row['luminosity']/row['SFR'],[0.05,0.1585,0.5,0.8415,0.95]) for i,row in gals_bs.iterrows()]), \n",
    "                                  index=bs_perc.index, columns=pd.MultiIndex.from_product([['lx_SFR'],perc_colnames])))\n",
    "#print(bs_perc)"
   ]
  },
  {
   "cell_type": "markdown",
   "metadata": {},
   "source": [
    "### Plots"
   ]
  },
  {
   "cell_type": "code",
   "execution_count": 87,
   "metadata": {},
   "outputs": [
    {
     "data": {
      "image/png": "[encoded data removed]",
      "text/plain": [
       "<Figure size 864x576 with 2 Axes>"
      ]
     },
     "metadata": {
      "needs_background": "light"
     },
     "output_type": "display_data"
    }
   ],
   "source": [
    "i=index\n",
    "_min = np.minimum(np.nanmin(bs_perc['stellar_mass',0.5]),np.nanmin(data['m_ave'][0,2:,:]))\n",
    "_max = np.maximum(np.nanmax(bs_perc['stellar_mass',0.5]),np.nanmax(data['m_ave'][0,2:,:]))\n",
    "\n",
    "xerr=np.array([bs_perc['SFR',0.5] - bs_perc['SFR',0.05], \n",
    "              bs_perc['SFR',0.95] - bs_perc['SFR',0.5]])\n",
    "yerr=np.array([bs_perc['luminosity',0.5] - bs_perc['luminosity',0.05], \n",
    "               bs_perc['luminosity',0.95] - bs_perc['luminosity',0.5]])\n",
    "\n",
    "fig = plt.figure()\n",
    "plt.rcParams['figure.figsize'] = [12, 8]\n",
    "plt.scatter(bs_perc['SFR',0.5],bs_perc['luminosity',0.5], vmin = _min, vmax = _max, edgecolors='Black',\n",
    "            c=bs_perc['stellar_mass',0.5] , s=bs_perc['stellar_mass',0.5]*10, label='Simulation')\n",
    "plt.errorbar(bs_perc['SFR',0.5],bs_perc['luminosity',0.5],\n",
    "                xerr=xerr, yerr=yerr, linestyle='', zorder=0);\n",
    "\n",
    "sc=plt.scatter(data['sfr_ave'][0,2:,i], data['l_ave'][0,2:,i], vmin = _min, vmax = _max, edgecolors='Black',\n",
    "            c=data['m_ave'][0,2:,0], s=data['m_ave'][0,2:,0]*10, marker=\"s\",label='Data')\n",
    "plt.errorbar(data['sfr_ave'][0,2:,i], data['l_ave'][0,2:,i],\n",
    "                xerr=[data['sfr_ave'][0,2:,i]-data['sfr_ave'][2,2:,i],\n",
    "                    data['sfr_ave'][1,2:,i]-data['sfr_ave'][0,2:,i]],\n",
    "                yerr=np.array([data['l_ave'][0,2:,i] - data['l_ave'][2,2:,i], \n",
    "                    data['l_ave'][1,2:,i] - data['l_ave'][0,2:,i]]),\n",
    "                linestyle='', zorder=0);\n",
    "\n",
    "plt.colorbar(sc).set_label('Stellar mass (M$_\\odot$)')\n",
    "plt.text(0.157, 0.79, f'z = {z:.1f}', horizontalalignment='center',\n",
    "          verticalalignment='center', bbox=dict(facecolor='gray', alpha=0.5), transform=fig.transFigure)\n",
    "plt.xscale('log')\n",
    "plt.yscale('log')\n",
    "plt.xlabel('SFR (M$_\\odot$/yr)')\n",
    "plt.ylabel('L$_X$ (2-10 keV) / $10^{42}$ (erg/s)')\n",
    "plt.legend(loc='upper left');\n",
    "curr_dir=os.getcwd()\n",
    "plt.savefig(curr_dir+f'/Ros_plots/SFvsLX_z{z}.pdf', format = 'pdf', bbox_inches = 'tight',transparent=True) "
   ]
  },
  {
   "cell_type": "code",
   "execution_count": null,
   "metadata": {},
   "outputs": [],
   "source": []
  }
 ],
 "metadata": {
  "file_extension": ".py",
  "kernelspec": {
   "display_name": "Python 3.8.1 64-bit ('EuclidAGN': conda)",
   "language": "python",
   "name": "python38164biteuclidagnconda9bba37572c0a414c9d46dc0dbbade803"
  },
  "language_info": {
   "codemirror_mode": {
    "name": "ipython",
    "version": 3
   },
   "file_extension": ".py",
   "mimetype": "text/x-python",
   "name": "python",
   "nbconvert_exporter": "python",
   "pygments_lexer": "ipython3",
   "version": "3.8.1"
  },
  "mimetype": "text/x-python",
  "name": "python",
  "npconvert_exporter": "python",
  "pygments_lexer": "ipython3",
  "version": 3
 },
 "nbformat": 4,
 "nbformat_minor": 4
}
