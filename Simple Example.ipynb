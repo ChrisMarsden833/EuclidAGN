{
 "cells": [
  {
   "cell_type": "markdown",
   "metadata": {},
   "source": [
    "### Imports"
   ]
  },
  {
   "cell_type": "code",
   "execution_count": 1,
   "metadata": {
    "collapsed": true
   },
   "outputs": [],
   "source": [
    "from colossus.cosmology import cosmology\n",
    "from matplotlib import pyplot as plt\n",
    "import numpy as np\n",
    "\n",
    "import AGNCatalogToolbox as act\n",
    "import ACTLiterature as actl "
   ]
  },
  {
   "cell_type": "markdown",
   "metadata": {},
   "source": [
    "### Processing"
   ]
  },
  {
   "cell_type": "code",
   "execution_count": 3,
   "metadata": {},
   "outputs": [
    {
     "name": "stdout",
     "output_type": "stream",
     "text": [
      "Reading in Catalog\n",
      "Loading Halo Catalogue\n",
      "Found file: MD_0.093.npy\n",
      "dtypes found:  [('x', '<f4'), ('y', '<f4'), ('z', '<f4'), ('id', '<i8'), ('upid', '<i8'), ('mvir', '<f4'), ('Acc_Scale', '<f4'), ('Macc', '<f4')]\n",
      "    Sorting list w.r.t. upId\n",
      "    copying all 114235673 elements with up_id = -1\n",
      "    sorting remaining list list w.r.t. main id\n",
      "    copying remaining 16470020 elements\n",
      "halo mass to stellar mass\n",
      "stellar mass to black hole mass\n",
      "duty cycle\n"
     ]
    },
    {
     "ename": "AssertionError",
     "evalue": "Unknown Duty Cycle Type Mann",
     "output_type": "error",
     "traceback": [
      "\u001b[0;31m---------------------------------------------------------------------------\u001b[0m",
      "\u001b[0;31mAssertionError\u001b[0m                            Traceback (most recent call last)",
      "\u001b[0;32m<ipython-input-3-2235a8d455a0>\u001b[0m in \u001b[0;36m<module>\u001b[0;34m()\u001b[0m\n\u001b[1;32m     15\u001b[0m \u001b[0;34m\u001b[0m\u001b[0m\n\u001b[1;32m     16\u001b[0m \u001b[0mprint\u001b[0m\u001b[0;34m(\u001b[0m\u001b[0;34m\"duty cycle\"\u001b[0m\u001b[0;34m)\u001b[0m\u001b[0;34m\u001b[0m\u001b[0;34m\u001b[0m\u001b[0m\n\u001b[0;32m---> 17\u001b[0;31m \u001b[0mduty_cycle\u001b[0m \u001b[0;34m=\u001b[0m \u001b[0mact\u001b[0m\u001b[0;34m.\u001b[0m\u001b[0mto_duty_cycle\u001b[0m\u001b[0;34m(\u001b[0m\u001b[0;34m\"Mann\"\u001b[0m\u001b[0;34m,\u001b[0m \u001b[0mstellar_mass\u001b[0m\u001b[0;34m,\u001b[0m \u001b[0mblack_hole_mass\u001b[0m\u001b[0;34m)\u001b[0m\u001b[0;34m\u001b[0m\u001b[0;34m\u001b[0m\u001b[0m\n\u001b[0m\u001b[1;32m     18\u001b[0m \u001b[0;34m\u001b[0m\u001b[0m\n\u001b[1;32m     19\u001b[0m \u001b[0mprint\u001b[0m\u001b[0;34m(\u001b[0m\u001b[0;34m\"luminosity\"\u001b[0m\u001b[0;34m)\u001b[0m\u001b[0;34m\u001b[0m\u001b[0;34m\u001b[0m\u001b[0m\n",
      "\u001b[0;32m~/Documents/Euclid/EuclidAGN/AGNCatalogToolbox.py\u001b[0m in \u001b[0;36mto_duty_cycle\u001b[0;34m(method, stellar_mass, black_hole_mass, z, data_path)\u001b[0m\n\u001b[1;32m    447\u001b[0m             \u001b[0mduty_cycle\u001b[0m \u001b[0;34m=\u001b[0m \u001b[0;36m10\u001b[0m \u001b[0;34m**\u001b[0m \u001b[0mduty_cycle\u001b[0m\u001b[0;34m\u001b[0m\u001b[0;34m\u001b[0m\u001b[0m\n\u001b[1;32m    448\u001b[0m         \u001b[0;32melse\u001b[0m\u001b[0;34m:\u001b[0m\u001b[0;34m\u001b[0m\u001b[0;34m\u001b[0m\u001b[0m\n\u001b[0;32m--> 449\u001b[0;31m             \u001b[0;32massert\u001b[0m \u001b[0;32mFalse\u001b[0m\u001b[0;34m,\u001b[0m \u001b[0;34m\"Unknown Duty Cycle Type {}\"\u001b[0m\u001b[0;34m.\u001b[0m\u001b[0mformat\u001b[0m\u001b[0;34m(\u001b[0m\u001b[0mmethod\u001b[0m\u001b[0;34m)\u001b[0m\u001b[0;34m\u001b[0m\u001b[0;34m\u001b[0m\u001b[0m\n\u001b[0m\u001b[1;32m    450\u001b[0m     \u001b[0;32melse\u001b[0m\u001b[0;34m:\u001b[0m\u001b[0;34m\u001b[0m\u001b[0;34m\u001b[0m\u001b[0m\n\u001b[1;32m    451\u001b[0m         \u001b[0;32massert\u001b[0m \u001b[0;32mFalse\u001b[0m\u001b[0;34m,\u001b[0m \u001b[0;34m\"No duty cycle type specified\"\u001b[0m\u001b[0;34m\u001b[0m\u001b[0;34m\u001b[0m\u001b[0m\n",
      "\u001b[0;31mAssertionError\u001b[0m: Unknown Duty Cycle Type Mann"
     ]
    }
   ],
   "source": [
    "cosmo = 'planck18'\n",
    "cosmology = cosmology.setCosmology(cosmo)\n",
    "\n",
    "z = 0\n",
    "h = cosmology.H0/100\n",
    "\n",
    "print(\"Reading in Catalog\")\n",
    "effective_halo_mass, effective_z, virial_mass, up_id, x_coord, y_coord, z_coord = act.load_halo_catalog(h, z, cosmology, \"MD_\")\n",
    "\n",
    "print(\"halo mass to stellar mass\")\n",
    "stellar_mass = act.halo_mass_to_stellar_mass(effective_halo_mass, effective_z)\n",
    "\n",
    "print(\"stellar mass to black hole mass\")\n",
    "black_hole_mass = act.stellar_mass_to_black_hole_mass(stellar_mass, method=\"Shankar16\")\n",
    "\n",
    "print(\"duty cycle\")\n",
    "duty_cycle = act.to_duty_cycle(\"Man16\", stellar_mass, black_hole_mass)\n",
    "\n",
    "print(\"luminosity\")\n",
    "luminosity = act.black_hole_mass_to_luminosity(black_hole_mass, duty_cycle, stellar_mass, z)\n",
    "\n",
    "print(\"nh\")\n",
    "nh = act.luminosity_to_nh(luminosity, z)\n",
    "\n",
    "print(\"agn_type\")\n",
    "agn_type = act.nh_to_type(nh)\n",
    "\n",
    "print(\"wp\")\n",
    "wp_plotting_data = act.compute_wp(x_coord, y_coord, z_coord, 1000/h, weights=duty_cycle)"
   ]
  },
  {
   "cell_type": "markdown",
   "metadata": {},
   "source": [
    "### Plot WP"
   ]
  },
  {
   "cell_type": "code",
   "execution_count": null,
   "metadata": {
    "collapsed": true
   },
   "outputs": [],
   "source": [
    "plt.figure()\n",
    "\n",
    "wp_data = actl.WPData(z)\n",
    "\n",
    "\n",
    "plt.plot(wp_plotting_data.x, wp_plotting_data.y, ':')\n",
    "\n",
    "plt.errorbar(wp_data.r_Koutoulidis, wp_data.wp_Koutoulidis,\\\n",
    "                yerr = wp_data.wp_Koutoulidis_e, fmt='o', label = \"Koutoulidis Data\")\n",
    "\n",
    "bins = np.logspace(-1, 1.5, 50)\n",
    "plt.plot(bins, wp_data.k_power_law(bins), label = \"Koutoulidis Fit\")\n",
    "plt.title(r'wp, z = {}'.format(z), fontname = 'Times New Roman')    \n",
    "plt.xlabel(r'$r_p$ $Mpc$')\n",
    "plt.ylabel(r'$w(r_p)$')    \n",
    "\n",
    "plt.legend()\n",
    "plt.loglog()"
   ]
  },
  {
   "cell_type": "code",
   "execution_count": null,
   "metadata": {
    "collapsed": true
   },
   "outputs": [],
   "source": []
  }
 ],
 "metadata": {
  "kernelspec": {
   "display_name": "Python 3",
   "language": "python",
   "name": "python3"
  },
  "language_info": {
   "codemirror_mode": {
    "name": "ipython",
    "version": 3
   },
   "file_extension": ".py",
   "mimetype": "text/x-python",
   "name": "python",
   "nbconvert_exporter": "python",
   "pygments_lexer": "ipython3",
   "version": "3.6.9"
  }
 },
 "nbformat": 4,
 "nbformat_minor": 2
}
