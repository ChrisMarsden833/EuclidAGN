{
 "cells": [
  {
   "cell_type": "markdown",
   "metadata": {},
   "source": [
    "### Imports"
   ]
  },
  {
   "cell_type": "code",
   "execution_count": 1,
   "metadata": {},
   "outputs": [],
   "source": [
    "from colossus.cosmology import cosmology\n",
    "from matplotlib import pyplot as plt\n",
    "import numpy as np\n",
    "\n",
    "import AGNCatalogToolbox as act\n",
    "import ACTLiterature as actl "
   ]
  },
  {
   "cell_type": "markdown",
   "metadata": {},
   "source": [
    "### Processing"
   ]
  },
  {
   "cell_type": "code",
   "execution_count": null,
   "metadata": {},
   "outputs": [
    {
     "name": "stdout",
     "output_type": "stream",
     "text": [
      "Reading in Catalog\n",
      "Loading Halo Catalogue\n",
      "Found file: MD_0.093.npy\n",
      "dtypes found:  [('x', '<f4'), ('y', '<f4'), ('z', '<f4'), ('id', '<i8'), ('upid', '<i8'), ('mvir', '<f4'), ('Acc_Scale', '<f4'), ('Macc', '<f4')]\n",
      "    Sorting list w.r.t. upId\n",
      "    copying all 114235673 elements with up_id = -1\n",
      "    sorting remaining list list w.r.t. main id\n",
      "    copying remaining 16470020 elements\n",
      "halo mass to stellar mass\n",
      "stellar mass to black hole mass\n",
      "duty cycle\n",
      "luminosity\n",
      "nh\n",
      "agn_type\n"
     ]
    },
    {
     "name": "stderr",
     "output_type": "stream",
     "text": [
      "/media/chris/Files/EuclidAGN/AGNCatalogToolbox.py:635: FutureWarning: Using a non-tuple sequence for multidimensional indexing is deprecated; use `arr[tuple(seq)]` instead of `arr[seq]`. In the future this will be interpreted as an array index, `arr[np.array(seq)]`, which will result either in an error or a different result.\n",
      "  type[(nh >= 22) * (nh < 24)] = type2[[(nh >= 22) * (nh < 24)]]\n"
     ]
    },
    {
     "name": "stdout",
     "output_type": "stream",
     "text": [
      "wp\n"
     ]
    },
    {
     "name": "stderr",
     "output_type": "stream",
     "text": [
      "In gridlink_float> Running with [nmesh_x, nmesh_y, nmesh_z]  = 46,46,29.  Time taken =   4.343 sec\n",
      "countpairs_wp_float> gridlink seems inefficient. nmesh = (46, 46, 29); avg_np = 2.13e+03. Boosting bin refine factor - should lead to better performance\n",
      "xmin = 0.000000 xmax=1477.978149 rpmax = 31.622777\n",
      "In gridlink_float> Running with [nmesh_x, nmesh_y, nmesh_z]  = 93,93,29.  Time taken =   4.019 sec\n",
      "Using AVX2 kernel\n",
      "0%.........10%........"
     ]
    }
   ],
   "source": [
    "cosmo = 'planck18'\n",
    "cosmology = cosmology.setCosmology(cosmo)\n",
    "\n",
    "z = 0\n",
    "h = cosmology.H0/100\n",
    "\n",
    "print(\"Reading in Catalog\")\n",
    "effective_halo_mass, effective_z, virial_mass, up_id, x_coord, y_coord, z_coord = act.load_halo_catalog(h, z, cosmology, \"MD_\")\n",
    "\n",
    "print(\"halo mass to stellar mass\")\n",
    "stellar_mass = act.halo_mass_to_stellar_mass(effective_halo_mass, effective_z)\n",
    "\n",
    "print(\"stellar mass to black hole mass\")\n",
    "black_hole_mass = act.stellar_mass_to_black_hole_mass(stellar_mass, method=\"Shankar16\")\n",
    "\n",
    "print(\"duty cycle\")\n",
    "duty_cycle = act.to_duty_cycle(\"Man16\", stellar_mass, black_hole_mass)\n",
    "\n",
    "print(\"luminosity\")\n",
    "luminosity = act.black_hole_mass_to_luminosity(black_hole_mass, duty_cycle, stellar_mass, z)\n",
    "\n",
    "print(\"nh\")\n",
    "nh = act.luminosity_to_nh(luminosity, z)\n",
    "\n",
    "print(\"agn_type\")\n",
    "agn_type = act.nh_to_type(nh)\n",
    "\n",
    "print(\"wp\")\n",
    "wp_plotting_data = act.compute_wp(x_coord, y_coord, z_coord, 1000/h, weights=duty_cycle)"
   ]
  },
  {
   "cell_type": "markdown",
   "metadata": {},
   "source": [
    "### Plot WP"
   ]
  },
  {
   "cell_type": "code",
   "execution_count": null,
   "metadata": {},
   "outputs": [],
   "source": [
    "plt.figure()\n",
    "\n",
    "wp_data = actl.WPData(z)\n",
    "\n",
    "\n",
    "plt.plot(wp_plotting_data.x, wp_plotting_data.y, ':')\n",
    "\n",
    "plt.errorbar(wp_data.r_Koutoulidis, wp_data.wp_Koutoulidis,\\\n",
    "                yerr = wp_data.wp_Koutoulidis_e, fmt='o', label = \"Koutoulidis Data\")\n",
    "\n",
    "bins = np.logspace(-1, 1.5, 50)\n",
    "plt.plot(bins, wp_data.k_power_law(bins), label = \"Koutoulidis Fit\")\n",
    "plt.title(r'wp, z = {}'.format(z), fontname = 'Times New Roman')    \n",
    "plt.xlabel(r'$r_p$ $Mpc$')\n",
    "plt.ylabel(r'$w(r_p)$')    \n",
    "\n",
    "plt.legend()\n",
    "plt.loglog()"
   ]
  },
  {
   "cell_type": "code",
   "execution_count": null,
   "metadata": {},
   "outputs": [],
   "source": []
  }
 ],
 "metadata": {
  "kernelspec": {
   "display_name": "Python 3",
   "language": "python",
   "name": "python3"
  },
  "language_info": {
   "codemirror_mode": {
    "name": "ipython",
    "version": 3
   },
   "file_extension": ".py",
   "mimetype": "text/x-python",
   "name": "python",
   "nbconvert_exporter": "python",
   "pygments_lexer": "ipython3",
   "version": "3.7.3"
  }
 },
 "nbformat": 4,
 "nbformat_minor": 2
}
