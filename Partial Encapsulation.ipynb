{
 "cells": [
  {
   "cell_type": "markdown",
   "metadata": {},
   "source": [
    "# Euclid Testing"
   ]
  },
  {
   "cell_type": "markdown",
   "metadata": {},
   "source": [
    "This is an example notebook showing the Euclid Dynamic Testing code written by Chris in action."
   ]
  },
  {
   "cell_type": "code",
   "execution_count": 1,
   "metadata": {
    "collapsed": true
   },
   "outputs": [],
   "source": [
    "from DynamicTesting import * \n",
    "\n",
    "import numpy as np\n",
    "from matplotlib import pyplot as plt\n",
    "\n",
    "# Make sure we have access to the higher level directory.\n",
    "import sys\n",
    "sys.path.insert(0, '../')\n",
    "\n",
    "# Set the redshift of interest here.\n",
    "redshift = 0.0"
   ]
  },
  {
   "cell_type": "markdown",
   "metadata": {},
   "source": [
    "The variables we wish to test are listed in arrays for easy repeated access."
   ]
  },
  {
   "cell_type": "code",
   "execution_count": 2,
   "metadata": {
    "collapsed": true
   },
   "outputs": [],
   "source": [
    "# Variations\n",
    "iterations = 4\n",
    "#dutycycle = [\"Mann\", \"Schulze\", 0.1, 0.05]\n",
    "edd = [-0.5, -1, -1.5, -2.0]\n",
    "\n",
    "HOD_centrals = [True, True, False, False]\n",
    "HOD_weights = [False, True, False, True]"
   ]
  },
  {
   "cell_type": "markdown",
   "metadata": {},
   "source": [
    "Next we create the class, and we call the approprate member functions to read in the data, assign the variables we want and then return the plotting data. Much of the best behaviour is encapsulated by the default arguments, so some parameters do not need to be called. Running this section can take some time."
   ]
  },
  {
   "cell_type": "markdown",
   "metadata": {},
   "source": [
    "Note that calling the member function to load in the multidark data expects a file in a subfolder '/BigData/' that is named 'MD_<redshift>.npy, in with the columns x, y, z, scale at accretion, mass at accretion, and (for testing purposes) mvir."
   ]
  },
  {
   "cell_type": "code",
   "execution_count": 3,
   "metadata": {},
   "outputs": [
    {
     "name": "stdout",
     "output_type": "stream",
     "text": [
      "Loading MultiDark Haloes\n",
      "Found file: MD_0.093.npy\n",
      "dypes found:  [('x', '<f4'), ('y', '<f4'), ('z', '<f4'), ('id', '<i8'), ('upid', '<i8'), ('mvir', '<f4'), ('Acc_Scale', '<f4'), ('Macc', '<f4')]\n",
      "    sorting list w.r.t. upId\n",
      "    copying all  114235673 elements with upid = -1\n",
      "    sorting remaining list list w.r.t. rockstarId\n",
      "    copying remaining 16470020 elements\n",
      "Assigning Stellar Mass\n",
      "Assigning Black Hole Mass\n",
      "Assigning Duty Cycle, Mann\n"
     ]
    }
   ],
   "source": [
    "# Create the master class. Only requires the redshift.\n",
    "obj = EuclidMaster()\n",
    "\n",
    "obj.setRedshift(redshift)\n",
    "# Load in the MultiDark Haloes.\n",
    "obj.loadMultiDarkHaloes()\n",
    "# Stellar mass, default prescription Grylls 18.\n",
    "obj.assignStellarMass()\n",
    "# Black hole mass, default, Shankar 16.\n",
    "obj.assignBlackHoleMass()\n",
    "# We assign the Duty Cycle, which is set to Mann. This could be inside the loop below if variations are desired.\n",
    "obj.assignDutyCycle()"
   ]
  },
  {
   "cell_type": "code",
   "execution_count": null,
   "metadata": {},
   "outputs": [
    {
     "name": "stdout",
     "output_type": "stream",
     "text": [
      "Assigning Eddington Ratios\n",
      "Creating Catalogue\n",
      "    0.78% of Galaxies remain as AGN\n",
      "Calculating Obscuration\n",
      "    92.03% of the remaining catalogue remains as obscured\n",
      "Computing wp\n"
     ]
    },
    {
     "name": "stderr",
     "output_type": "stream",
     "text": [
      "In gridlink_float> Running with [nmesh_x, nmesh_y, nmesh_z]  = 46,46,29.  Time taken =   0.112 sec\n",
      "Using AVX2 kernel\n",
      "0%.........10%.........20%.........30%.........40%.........50%.........60%.........70%.........80%.........90%.........100% done. Time taken =  1.171 secs\n"
     ]
    },
    {
     "name": "stdout",
     "output_type": "stream",
     "text": [
      "Assigning Eddington Ratios\n"
     ]
    }
   ],
   "source": [
    "# Loop to support variations in parameters\n",
    "for i in range(iterations):\n",
    "    #function = dutycycle[i]) # This is the thing we are varying\n",
    "    \n",
    "    # Assign Eddinton Ratios and also the Lx\n",
    "    obj.assignEddingtonRatios(knee = edd[i])\n",
    "    # The CreateCatalogue function creates a catalogue from the duty cycle, and performs the luminosity cut.\n",
    "    obj.CreateCatalogue()\n",
    "    # The Obscuration will assign Nh and only select obscured galaxies by default.\n",
    "    obj.Obscuration()\n",
    "    # We then compute wp on this catalogue, and extract the data.\n",
    "    obj.computeWP()\n",
    "    # We then compute the bias\n",
    "    obj.computeBias(obj.stellar_mass)\n",
    "    obj.CalculateHOD(HOD_centrals[i], HOD_weights[i])"
   ]
  },
  {
   "cell_type": "code",
   "execution_count": null,
   "metadata": {
    "collapsed": true
   },
   "outputs": [],
   "source": [
    "# Plot of the XLF \n",
    "\n",
    "plt.figure()\n",
    "\n",
    "for i in range(iterations):\n",
    "    plt.plot(10**obj.XLF_plottingData[i].x, 10**obj.XLF_plottingData[i].y, label = r\"U = {}\".format(edd[i]))\n",
    "    \n",
    "    \n",
    "# XLF Data\n",
    "XLF = XLF_Data(redshift)\n",
    "plt.plot(10**XLF.Mi_LX, 10**XLF.Mi_phi, 'o', label = \"Miyaji\")\n",
    "\n",
    "uXLF, ubins = XLF.getUeda14(np.arange(42, 46, 0.1))\n",
    "plt.plot(10**ubins, 10**uXLF, ':', label = \"Ueda\")\n",
    "\n",
    "# Plotting\n",
    "plt.xlabel(r'$L_x\\;[erg\\;s^{-1}]$')\n",
    "plt.ylabel(r'$d\\phi /d(log\\;L_x)\\;[Mpc^{-3}]$')\n",
    "plt.title(r'XLF, z = {}, \\lambda = {}, alpha = {}'.format(redshift, -1, -0.65), fontname = 'Times New Roman')\n",
    "plt.loglog()\n",
    "plt.legend()\n",
    "plt.show()"
   ]
  },
  {
   "cell_type": "code",
   "execution_count": null,
   "metadata": {
    "collapsed": true
   },
   "outputs": [],
   "source": [
    "# Plot the Eddington ratio distribution\n",
    "\n",
    "plt.figure()\n",
    "\n",
    "for i in range(iterations):\n",
    "    plt.plot(obj.Edd_plottingData[i].x, obj.Edd_plottingData[i].y, ':', label = r\"U = {}\".format(edd[i]))\n",
    "\n",
    "EddData = EddingtonDistributionData(redshift)\n",
    "plt.plot(EddData.Geo_LX, EddData.Geo_phi, label = \"Geo\")\n",
    "plt.plot(EddData.Bon16_LX, EddData.Bon16_phi, label = \"Bon 16\")\n",
    "plt.plot(EddData.Bon12_LX, EddData.Bon12_phi, label = \"Bon 12\")\n",
    "\n",
    "eddbin = np.arange(-4, 1., 0.5)\n",
    "probSche = EddData.AirdDist(eddbin)\n",
    "plt.plot(eddbin, probSche, label = \"Aird (analytic)\")\n",
    "plt.title(r'Eddington Ratio Distribution, z = {}, U = {}'.format(redshift, edd), fontname = 'Times New Roman')\n",
    "plt.xlabel(\"Eddington Ratio\")\n",
    "plt.ylabel(\"Probability $log10$\")\n",
    "\n",
    "plt.legend()\n",
    "\n",
    "  \n",
    "plt.show()\n"
   ]
  },
  {
   "cell_type": "code",
   "execution_count": null,
   "metadata": {
    "collapsed": true
   },
   "outputs": [],
   "source": [
    "plt.figure()\n",
    "\n",
    "wp_data = WP_Data(redshift)\n",
    "\n",
    "for i in range(iterations):\n",
    "    plt.plot(obj.WP_plottingData[i].x, obj.WP_plottingData[i].y, ':', label = r\"U = {}\".format(edd[i]))\n",
    "\n",
    "plt.errorbar(wp_data.r_Koutoulidis, wp_data.wp_Koutoulidis,\\\n",
    "                yerr = wp_data.wp_Koutoulidis_e, fmt='o', label = \"Koutoulidis Data\")\n",
    "\n",
    "plt.plot(obj.wpbins, wp_data.K_powerLaw(obj.wpbins), label = \"Koutoulidis Fit\")\n",
    "plt.title(r'wp, z = {}, U = {}'.format(redshift, edd), fontname = 'Times New Roman')    \n",
    "plt.xlabel(r'$r_p$ $Mpc$')\n",
    "plt.ylabel(r'$w(r_p)$')    \n",
    "\n",
    "plt.legend()\n",
    "plt.loglog()\n",
    "plt.show()\n"
   ]
  },
  {
   "cell_type": "code",
   "execution_count": null,
   "metadata": {
    "collapsed": true
   },
   "outputs": [],
   "source": [
    "plt.figure()\n",
    "\n",
    "for i in range(iterations):\n",
    "    plt.plot(obj.bias_plottingData[i].x, obj.bias_plottingData[i].y, ':', label = r\"U = {}\".format(edd[i]))\n",
    "    \n",
    "plt.xlabel(\"Stellar Mass\")\n",
    "plt.ylabel(\"Bias\")\n",
    "plt.legend()\n",
    "plt.show()"
   ]
  },
  {
   "cell_type": "code",
   "execution_count": null,
   "metadata": {
    "collapsed": true
   },
   "outputs": [],
   "source": [
    "plt.figure()\n",
    "\n",
    "for i in range(iterations):\n",
    "    if HOD_centrals[i]:\n",
    "        legend1 = \"Centrals\"\n",
    "    else:\n",
    "        legend1 = \"Satallites\"\n",
    "    if HOD_weights[i]:\n",
    "        legend2 = \"Weighted\"\n",
    "    else:\n",
    "        legend2 = \"Unweighted\"\n",
    "    plt.plot(10**obj.HOD_plottingData[i].x, obj.HOD_plottingData[i].y, ':', label = r\"{}, {}\".format(legend1, legend2))\n",
    "    \n",
    "plt.xlabel(\"Halo Mass\")\n",
    "plt.ylabel(\"HOD\")\n",
    "plt.loglog()\n",
    "plt.legend()\n",
    "plt.show()"
   ]
  },
  {
   "cell_type": "markdown",
   "metadata": {},
   "source": [
    "##### "
   ]
  }
 ],
 "metadata": {
  "kernelspec": {
   "display_name": "Python 3",
   "language": "python",
   "name": "python3"
  },
  "language_info": {
   "codemirror_mode": {
    "name": "ipython",
    "version": 3
   },
   "file_extension": ".py",
   "mimetype": "text/x-python",
   "name": "python",
   "nbconvert_exporter": "python",
   "pygments_lexer": "ipython3",
   "version": "3.6.9"
  }
 },
 "nbformat": 4,
 "nbformat_minor": 2
}
