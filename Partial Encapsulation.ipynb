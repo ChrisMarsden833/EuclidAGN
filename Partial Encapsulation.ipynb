{
 "cells": [
  {
   "cell_type": "markdown",
   "metadata": {},
   "source": [
    "# Euclid Testing"
   ]
  },
  {
   "cell_type": "markdown",
   "metadata": {},
   "source": [
    "This is an example notebook showing the Euclid Dynamic Testing code written by Chris in action."
   ]
  },
  {
   "cell_type": "code",
   "execution_count": 1,
   "metadata": {},
   "outputs": [],
   "source": [
    "from DynamicTesting import * \n",
    "\n",
    "import numpy as np\n",
    "from matplotlib import pyplot as plt\n",
    "\n",
    "# Make sure we have access to the higher level directory.\n",
    "import sys\n",
    "sys.path.insert(0, '../')\n",
    "\n",
    "# Set the redshift of interest here.\n",
    "redshift = 0.2"
   ]
  },
  {
   "cell_type": "markdown",
   "metadata": {},
   "source": [
    "The variables we wish to test are listed in arrays for easy repeated access."
   ]
  },
  {
   "cell_type": "code",
   "execution_count": 2,
   "metadata": {},
   "outputs": [],
   "source": [
    "# Variations\n",
    "iterations = 4\n",
    "#dutycycle = [\"Mann\", \"Schulze\", 0.1, 0.05]\n",
    "edd = [0.5, 1, 1.5, 2.0]"
   ]
  },
  {
   "cell_type": "markdown",
   "metadata": {},
   "source": [
    "Next we create the class, and we call the approprate member functions to read in the data, assign the variables we want and then return the plotting data. Much of the best behaviour is encapsulated by the default arguments, so some parameters do not need to be called. Running this section can take some time."
   ]
  },
  {
   "cell_type": "markdown",
   "metadata": {},
   "source": [
    "Note that calling the member function to load in the multidark data expects a file in a subfolder '/BigData/' that is named 'MD_<redshift>.npy, in with the columns x, y, z, scale at accretion, mass at accretion, and (for testing purposes) mvir."
   ]
  },
  {
   "cell_type": "code",
   "execution_count": 3,
   "metadata": {},
   "outputs": [
    {
     "name": "stdout",
     "output_type": "stream",
     "text": [
      "Loading MultiDark Haloes\n",
      "Found file: MD_0.2.npy\n",
      "[('x', '<f4'), ('y', '<f4'), ('z', '<f4'), ('id', '<i8'), ('upid', '<i8'), ('M200b', '<f4'), ('Acc_Scale', '<f4'), ('Macc', '<f4')]\n"
     ]
    },
    {
     "ename": "ValueError",
     "evalue": "no field of name mvir",
     "output_type": "error",
     "traceback": [
      "\u001b[0;31m---------------------------------------------------------------------------\u001b[0m",
      "\u001b[0;31mValueError\u001b[0m                                Traceback (most recent call last)",
      "\u001b[0;32m<ipython-input-3-292a059a2b9e>\u001b[0m in \u001b[0;36m<module>\u001b[0;34m\u001b[0m\n\u001b[1;32m      4\u001b[0m \u001b[0mobj\u001b[0m\u001b[0;34m.\u001b[0m\u001b[0msetRedshift\u001b[0m\u001b[0;34m(\u001b[0m\u001b[0mredshift\u001b[0m\u001b[0;34m)\u001b[0m\u001b[0;34m\u001b[0m\u001b[0;34m\u001b[0m\u001b[0m\n\u001b[1;32m      5\u001b[0m \u001b[0;31m# Load in the MultiDark Haloes.\u001b[0m\u001b[0;34m\u001b[0m\u001b[0;34m\u001b[0m\u001b[0;34m\u001b[0m\u001b[0m\n\u001b[0;32m----> 6\u001b[0;31m \u001b[0mobj\u001b[0m\u001b[0;34m.\u001b[0m\u001b[0mloadMultiDarkHaloes\u001b[0m\u001b[0;34m(\u001b[0m\u001b[0;34m)\u001b[0m\u001b[0;34m\u001b[0m\u001b[0;34m\u001b[0m\u001b[0m\n\u001b[0m\u001b[1;32m      7\u001b[0m \u001b[0;31m# Stellar mass, default prescription Grylls 18.\u001b[0m\u001b[0;34m\u001b[0m\u001b[0;34m\u001b[0m\u001b[0;34m\u001b[0m\u001b[0m\n\u001b[1;32m      8\u001b[0m \u001b[0mobj\u001b[0m\u001b[0;34m.\u001b[0m\u001b[0massignStellarMass\u001b[0m\u001b[0;34m(\u001b[0m\u001b[0;34m)\u001b[0m\u001b[0;34m\u001b[0m\u001b[0;34m\u001b[0m\u001b[0m\n",
      "\u001b[0;32m/Volumes/Files/EuclidAGN/DynamicTesting.py\u001b[0m in \u001b[0;36mloadMultiDarkHaloes\u001b[0;34m(self, generateFigures, filename)\u001b[0m\n\u001b[1;32m    105\u001b[0m             \u001b[0mwidth\u001b[0m \u001b[0;34m=\u001b[0m \u001b[0;36m0.1\u001b[0m\u001b[0;34m\u001b[0m\u001b[0;34m\u001b[0m\u001b[0m\n\u001b[1;32m    106\u001b[0m             \u001b[0mbins\u001b[0m \u001b[0;34m=\u001b[0m \u001b[0mnp\u001b[0m\u001b[0;34m.\u001b[0m\u001b[0marange\u001b[0m\u001b[0;34m(\u001b[0m\u001b[0;36m10\u001b[0m\u001b[0;34m,\u001b[0m \u001b[0;36m15\u001b[0m\u001b[0;34m,\u001b[0m \u001b[0mwidth\u001b[0m\u001b[0;34m)\u001b[0m\u001b[0;34m\u001b[0m\u001b[0;34m\u001b[0m\u001b[0m\n\u001b[0;32m--> 107\u001b[0;31m             \u001b[0mhist\u001b[0m \u001b[0;34m=\u001b[0m \u001b[0mnp\u001b[0m\u001b[0;34m.\u001b[0m\u001b[0mhistogram\u001b[0m\u001b[0;34m(\u001b[0m\u001b[0mnp\u001b[0m\u001b[0;34m.\u001b[0m\u001b[0mlog10\u001b[0m\u001b[0;34m(\u001b[0m\u001b[0mdata\u001b[0m\u001b[0;34m[\u001b[0m\u001b[0;34m\"mvir\"\u001b[0m\u001b[0;34m]\u001b[0m\u001b[0;34m[\u001b[0m\u001b[0mupid\u001b[0m \u001b[0;34m==\u001b[0m \u001b[0;34m-\u001b[0m\u001b[0;36m1\u001b[0m\u001b[0;34m]\u001b[0m\u001b[0;34m/\u001b[0m\u001b[0mself\u001b[0m\u001b[0;34m.\u001b[0m\u001b[0mh\u001b[0m\u001b[0;34m)\u001b[0m\u001b[0;34m,\u001b[0m \u001b[0mbins\u001b[0m \u001b[0;34m=\u001b[0m \u001b[0mbins\u001b[0m\u001b[0;34m)\u001b[0m\u001b[0;34m[\u001b[0m\u001b[0;36m0\u001b[0m\u001b[0;34m]\u001b[0m\u001b[0;34m\u001b[0m\u001b[0;34m\u001b[0m\u001b[0m\n\u001b[0m\u001b[1;32m    108\u001b[0m             \u001b[0mvolume\u001b[0m \u001b[0;34m=\u001b[0m \u001b[0mself\u001b[0m\u001b[0;34m.\u001b[0m\u001b[0mvolume\u001b[0m\u001b[0;34m\u001b[0m\u001b[0;34m\u001b[0m\u001b[0m\n\u001b[1;32m    109\u001b[0m             \u001b[0mhmf\u001b[0m \u001b[0;34m=\u001b[0m \u001b[0;34m(\u001b[0m\u001b[0mhist\u001b[0m\u001b[0;34m/\u001b[0m\u001b[0;34m(\u001b[0m\u001b[0mvolume\u001b[0m\u001b[0;34m)\u001b[0m\u001b[0;34m)\u001b[0m\u001b[0;34m/\u001b[0m\u001b[0;34m(\u001b[0m\u001b[0mwidth\u001b[0m\u001b[0;34m)\u001b[0m\u001b[0;34m\u001b[0m\u001b[0;34m\u001b[0m\u001b[0m\n",
      "\u001b[0;31mValueError\u001b[0m: no field of name mvir"
     ]
    }
   ],
   "source": [
    "# Create the master class. Only requires the redshift.\n",
    "obj = EuclidMaster()\n",
    "\n",
    "obj.setRedshift(redshift)\n",
    "# Load in the MultiDark Haloes.\n",
    "obj.loadMultiDarkHaloes()\n",
    "# Stellar mass, default prescription Grylls 18.\n",
    "obj.assignStellarMass()\n",
    "# Black hole mass, default, Shankar 16.\n",
    "obj.assignBlackHoleMass()\n",
    "# We assign the Duty Cycle, which is set to Mann. This could be inside the loop below if variations are desired.\n",
    "obj.assignDutyCycle()"
   ]
  },
  {
   "cell_type": "code",
   "execution_count": null,
   "metadata": {},
   "outputs": [],
   "source": [
    "# Loop to support variations in parameters\n",
    "for i in range(iterations):\n",
    "    #function = dutycycle[i]) # This is the thing we are varying\n",
    "    \n",
    "    # Assign Eddinton Ratios and also the Lx\n",
    "    obj.assignEddingtonRatios(knee = edd[i])\n",
    "    # The CreateCatalogue function creates a catalogue from the duty cycle, and performs the luminosity cut.\n",
    "    obj.CreateCatalogue()\n",
    "    # The Obscuration will assign Nh and only select obscured galaxies by default.\n",
    "    obj.Obscuration()\n",
    "    # We then compute wp on this catalogue, and extract the data.\n",
    "    obj.computeWP()\n",
    "    # We then compute the bias\n",
    "    obj.computeBias(obj.stellar_mass)"
   ]
  },
  {
   "cell_type": "code",
   "execution_count": null,
   "metadata": {},
   "outputs": [],
   "source": [
    "# Plot of the XLF \n",
    "\n",
    "plt.figure()\n",
    "\n",
    "for i in range(iterations):\n",
    "    plt.plot(10**obj.XLF_plottingData[i].x, 10**obj.XLF_plottingData[i].y, label = r\"U = {}\".format(edd[i]))\n",
    "    \n",
    "    \n",
    "# XLF Data\n",
    "XLF = XLF_Data(redshift)\n",
    "plt.plot(10**XLF.Mi_LX, 10**XLF.Mi_phi, 'o', label = \"Miyaji\")\n",
    "\n",
    "uXLF, ubins = XLF.getUeda14(np.arange(42, 46, 0.1))\n",
    "plt.plot(10**ubins, 10**uXLF, ':', label = \"Ueda\")\n",
    "\n",
    "# Plotting\n",
    "plt.xlabel(r'$L_x\\;[erg\\;s^{-1}]$')\n",
    "plt.ylabel(r'$d\\phi /d(log\\;L_x)\\;[Mpc^{-3}]$')\n",
    "plt.title(r'XLF, z = {}, \\lambda = {}, alpha = {}'.format(redshift, -1, -0.65), fontname = 'Times New Roman')\n",
    "plt.loglog()\n",
    "plt.legend()\n",
    "plt.show()"
   ]
  },
  {
   "cell_type": "code",
   "execution_count": null,
   "metadata": {},
   "outputs": [],
   "source": [
    "# Plot the Eddington ratio distribution\n",
    "\n",
    "plt.figure()\n",
    "\n",
    "for i in range(iterations):\n",
    "    plt.plot(obj.Edd_plottingData[i].x, obj.Edd_plottingData[i].y, ':', label = r\"U = {}\".format(edd[i]))\n",
    "\n",
    "EddData = EddingtonDistributionData(redshift)\n",
    "plt.plot(EddData.Geo_LX, EddData.Geo_phi, label = \"Geo\")\n",
    "plt.plot(EddData.Bon16_LX, EddData.Bon16_phi, label = \"Bon 16\")\n",
    "plt.plot(EddData.Bon12_LX, EddData.Bon12_phi, label = \"Bon 12\")\n",
    "\n",
    "eddbin = np.arange(-4, 1., 0.5)\n",
    "probSche = EddData.AirdDist(eddbin)\n",
    "plt.plot(eddbin, probSche, label = \"Aird (analytic)\")\n",
    "plt.title(r'Eddington Ratio Distribution, z = {}, U = {}'.format(redshift, edd), fontname = 'Times New Roman')\n",
    "plt.xlabel(\"Eddington Ratio\")\n",
    "plt.ylabel(\"Probability $log10$\")\n",
    "\n",
    "plt.legend()\n",
    "\n",
    "  \n",
    "plt.show()\n"
   ]
  },
  {
   "cell_type": "code",
   "execution_count": null,
   "metadata": {},
   "outputs": [],
   "source": [
    "plt.figure()\n",
    "\n",
    "wp_data = WP_Data(redshift)\n",
    "\n",
    "for i in range(iterations):\n",
    "    plt.plot(obj.WP_plottingData[i].x, obj.WP_plottingData[i].y, ':', label = r\"U = {}\".format(edd[i]))\n",
    "\n",
    "plt.errorbar(wp_data.r_Koutoulidis, wp_data.wp_Koutoulidis,\\\n",
    "                yerr = wp_data.wp_Koutoulidis_e, fmt='o', label = \"Koutoulidis Data\")\n",
    "\n",
    "plt.plot(obj.wpbins, wp_data.K_powerLaw(obj.wpbins), label = \"Koutoulidis Fit\")\n",
    "plt.title(r'wp, z = {}, U = {}'.format(redshift, edd), fontname = 'Times New Roman')    \n",
    "plt.xlabel(r'$r_p$ $Mpc$')\n",
    "plt.ylabel(r'$w(r_p)$')    \n",
    "\n",
    "plt.legend()\n",
    "plt.loglog()\n",
    "plt.show()\n"
   ]
  },
  {
   "cell_type": "code",
   "execution_count": null,
   "metadata": {},
   "outputs": [],
   "source": [
    "plt.figure()\n",
    "\n",
    "for i in range(iterations):\n",
    "    plt.plot(obj.bias_plottingData[i].x, obj.bias_plottingData[i].y, ':', label = r\"U = {}\".format(edd[i]))\n",
    "    \n",
    "plt.xlabel(\"Stellar Mass\")\n",
    "plt.ylabel(\"Bias\")\n",
    "plt.legend()\n",
    "plt.show()"
   ]
  },
  {
   "cell_type": "markdown",
   "metadata": {},
   "source": [
    "##### "
   ]
  }
 ],
 "metadata": {
  "kernelspec": {
   "display_name": "Python 3",
   "language": "python",
   "name": "python3"
  },
  "language_info": {
   "codemirror_mode": {
    "name": "ipython",
    "version": 3
   },
   "file_extension": ".py",
   "mimetype": "text/x-python",
   "name": "python",
   "nbconvert_exporter": "python",
   "pygments_lexer": "ipython3",
   "version": "3.7.1"
  }
 },
 "nbformat": 4,
 "nbformat_minor": 2
}
