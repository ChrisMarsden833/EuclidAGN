{
 "cells": [
  {
   "cell_type": "code",
   "execution_count": 1,
   "metadata": {},
   "outputs": [],
   "source": [
    "import sqlite3\n",
    "import numpy as np"
   ]
  },
  {
   "cell_type": "code",
   "execution_count": 2,
   "metadata": {},
   "outputs": [
    {
     "name": "stdout",
     "output_type": "stream",
     "text": [
      "[(0, 'scale', 'FLOAT', 0, None, 0), (1, 'id', 'BIGINT', 0, None, 1), (2, 'desc_scale', 'FLOAT', 0, None, 0), (3, 'desc_id', 'BIGINT', 0, None, 0), (4, 'num_prog', 'INT', 0, None, 0), (5, 'pid', 'BIGINT', 0, None, 0), (6, 'upid', 'BIGINT', 0, None, 0), (7, 'desc_pid', 'BIGINT', 0, None, 0), (8, 'phantom', 'FLOAT', 0, None, 0), (9, 'sam_mvir', 'FLOAT', 0, None, 0), (10, 'mvir', 'FLOAT', 0, None, 0), (11, 'rvir', 'FLOAT', 0, None, 0), (12, 'rs', 'FLOAT', 0, None, 0), (13, 'vrms', 'FLOAT', 0, None, 0), (14, 'mmp', 'BOOLEAN', 0, None, 0), (15, 'scale_of_last_MM', 'FLOAT', 0, None, 0), (16, 'vmax', 'FLOAT', 0, None, 0), (17, 'x', 'FLOAT', 0, None, 0), (18, 'y', 'FLOAT', 0, None, 0), (19, 'z', 'FLOAT', 0, None, 0), (20, 'vx', 'FLOAT', 0, None, 0), (21, 'vy', 'FLOAT', 0, None, 0), (22, 'vz', 'FLOAT', 0, None, 0), (23, 'Jx', 'FLOAT', 0, None, 0), (24, 'Jy', 'FLOAT', 0, None, 0), (25, 'Jz', 'FLOAT', 0, None, 0), (26, 'Spin', 'FLOAT', 0, None, 0), (27, 'Breadth_first_ID', 'BIGINT', 0, None, 0), (28, 'Depth_first_ID', 'BIGINT', 0, None, 0), (29, 'Tree_root_ID', 'BIGINT', 0, None, 0), (30, 'Orig_halo_ID', 'BIGINT', 0, None, 0), (31, 'Snap_num', 'INT', 0, None, 0), (32, 'Next_coprogenitor_depthfirst_ID', 'BIGINT', 0, None, 0), (33, 'Last_progenitor_depthfirst_ID', 'BIGINT', 0, None, 0), (34, 'Last_mainleaf_depthfirst_ID', 'BIGINT', 0, None, 0), (35, 'Tidal_Force', 'FLOAT', 0, None, 0), (36, 'Tidal_ID', 'BIGINT', 0, None, 0), (37, 'Rs_Klypin', 'FLOAT', 0, None, 0), (38, 'Mmvir_all', 'FLOAT', 0, None, 0), (39, 'M200b', 'FLOAT', 0, None, 0), (40, 'M200c', 'FLOAT', 0, None, 0), (41, 'M500c', 'FLOAT', 0, None, 0), (42, 'M2500c', 'FLOAT', 0, None, 0), (43, 'Xoff', 'FLOAT', 0, None, 0), (44, 'Voff', 'FLOAT', 0, None, 0), (45, 'Spin_Bullock', 'FLOAT', 0, None, 0), (46, 'b_to_a', 'FLOAT', 0, None, 0), (47, 'c_to_a', 'FLOAT', 0, None, 0), (48, 'Ax', 'FLOAT', 0, None, 0), (49, 'Ay', 'FLOAT', 0, None, 0), (50, 'Az', 'FLOAT', 0, None, 0), (51, 'b_to_a2', 'FLOAT', 0, None, 0), (52, 'c_to_a2', 'FLOAT', 0, None, 0), (53, 'Ax2', 'FLOAT', 0, None, 0), (54, 'Ay2', 'FLOAT', 0, None, 0), (55, 'Az2', 'FLOAT', 0, None, 0), (56, 'TU', 'FLOAT', 0, None, 0), (57, 'M_pe_Behroozi', 'FLOAT', 0, None, 0), (58, 'M_pe_Diemer', 'FLOAT', 0, None, 0), (59, 'Macc', 'FLOAT', 0, None, 0), (60, 'Mpeak', 'FLOAT', 0, None, 0), (61, 'Vacc', 'FLOAT', 0, None, 0), (62, 'Vpeak', 'FLOAT', 0, None, 0), (63, 'Halfmass_Scale', 'FLOAT', 0, None, 0), (64, 'Acc_Rate_Inst', 'FLOAT', 0, None, 0), (65, 'Acc_Rate_100Myr', 'FLOAT', 0, None, 0), (66, 'Acc_Rate_1xTdyn', 'FLOAT', 0, None, 0), (67, 'Acc_Rate_2xTdyn', 'FLOAT', 0, None, 0), (68, 'Acc_Rate_Mpeak', 'FLOAT', 0, None, 0), (69, 'Mpeak_Scale', 'FLOAT', 0, None, 0), (70, 'Acc_Scale', 'FLOAT', 0, None, 0), (71, 'First_Acc_Scale', 'FLOAT', 0, None, 0), (72, 'First_Acc_Mvir', 'FLOAT', 0, None, 0), (73, 'First_Acc_Vmax', 'FLOAT', 0, None, 0), (74, 'VmaxMpeak', 'FLOAT', 0, None, 0), (75, 'Tidal_Force_Tdyn', 'FLOAT', 0, None, 0), (76, 'Log_VmaxVmax_maxTdynTmpeak', 'FLOAT', 0, None, 0), (77, 'Time_to_future_merger', 'FLOAT', 0, None, 0), (78, 'Future_merger_MMP_ID', 'BIGINT', 0, None, 0)]\n"
     ]
    }
   ],
   "source": [
    "conn = sqlite3.connect(\"/Volumes/Files/MultiDark/MultiDark.db\")\n",
    "\n",
    "cur = conn.cursor()\n",
    "cur.execute(\"PRAGMA table_info(MultiDark);\")\n",
    "\n",
    "rows = cur.fetchall()\n",
    "\n",
    "print(rows)"
   ]
  },
  {
   "cell_type": "code",
   "execution_count": 3,
   "metadata": {},
   "outputs": [
    {
     "name": "stdout",
     "output_type": "stream",
     "text": [
      "[[3.1551500e+00 1.6401150e+01 9.2096530e+01 1.0000000e+00 1.8120000e+14\n",
      "  1.8116000e+14]\n",
      " [1.2333770e+01 6.2413670e+01 1.3059550e+01 1.0000000e+00 1.4320000e+14\n",
      "  1.4318000e+14]\n",
      " [4.9160160e+01 8.4264250e+01 7.3580410e+01 1.0000000e+00 1.3000000e+14\n",
      "  1.2997000e+14]\n",
      " ...\n",
      " [9.5533765e+02 9.1708459e+02 9.1707947e+02 1.0000000e+00 1.8060000e+10\n",
      "  1.8065000e+10]\n",
      " [9.4775897e+02 9.1666443e+02 9.1907996e+02 8.5640000e-01 1.5050000e+10\n",
      "  1.8065000e+10]\n",
      " [9.4806598e+02 9.1608191e+02 9.1822815e+02 1.0000000e+00 3.1610000e+10\n",
      "  1.8065000e+10]]\n"
     ]
    }
   ],
   "source": [
    "fields = \"x, y, z, Acc_Scale, First_Acc_Mvir, mvir\"\n",
    "query = \"SELECT \" + fields + \" FROM MultiDark WHERE scale = 1.0;\"\n",
    "\n",
    "cur.execute(query)\n",
    "\n",
    "rows = cur.fetchall()\n",
    "\n",
    "rows = np.array([list(item) for item in rows])\n",
    "\n",
    "print(rows)"
   ]
  },
  {
   "cell_type": "code",
   "execution_count": 5,
   "metadata": {},
   "outputs": [],
   "source": [
    "np.save(\"z0.npy\", rows)"
   ]
  },
  {
   "cell_type": "code",
   "execution_count": 6,
   "metadata": {},
   "outputs": [
    {
     "data": {
      "text/plain": [
       "array([4.679950e+00, 5.790866e+01, 2.118403e+01, 1.000000e+00,\n",
       "       1.179000e+14, 1.178800e+14])"
      ]
     },
     "execution_count": 6,
     "metadata": {},
     "output_type": "execute_result"
    }
   ],
   "source": [
    "rows[3]"
   ]
  },
  {
   "cell_type": "code",
   "execution_count": null,
   "metadata": {},
   "outputs": [],
   "source": []
  }
 ],
 "metadata": {
  "kernelspec": {
   "display_name": "Python 3",
   "language": "python",
   "name": "python3"
  },
  "language_info": {
   "codemirror_mode": {
    "name": "ipython",
    "version": 3
   },
   "file_extension": ".py",
   "mimetype": "text/x-python",
   "name": "python",
   "nbconvert_exporter": "python",
   "pygments_lexer": "ipython3",
   "version": "3.7.1"
  }
 },
 "nbformat": 4,
 "nbformat_minor": 2
}
